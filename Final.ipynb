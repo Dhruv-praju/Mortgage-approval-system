{
 "cells": [
  {
   "cell_type": "code",
   "execution_count": 1,
   "id": "4f5006c2-4cdb-4cbb-8206-12296b17e565",
   "metadata": {},
   "outputs": [],
   "source": [
    "from pyspark.sql import SparkSession"
   ]
  },
  {
   "cell_type": "code",
   "execution_count": 2,
   "id": "4349c002-abbc-413d-b0b7-658293d9760b",
   "metadata": {},
   "outputs": [
    {
     "name": "stderr",
     "output_type": "stream",
     "text": [
      "24/12/24 13:16:57 WARN Utils: Your hostname, mac.local resolves to a loopback address: 127.0.0.1; using 10.0.0.252 instead (on interface en0)\n",
      "24/12/24 13:16:57 WARN Utils: Set SPARK_LOCAL_IP if you need to bind to another address\n",
      "Setting default log level to \"WARN\".\n",
      "To adjust logging level use sc.setLogLevel(newLevel). For SparkR, use setLogLevel(newLevel).\n",
      "24/12/24 13:16:58 WARN NativeCodeLoader: Unable to load native-hadoop library for your platform... using builtin-java classes where applicable\n"
     ]
    }
   ],
   "source": [
    "spark = SparkSession.builder \\\n",
    "    .appName(\"Final\") \\\n",
    "    .getOrCreate()\n",
    "\n",
    "sc = spark.sparkContext"
   ]
  },
  {
   "cell_type": "markdown",
   "id": "13fd5795-b909-43a8-83f0-23f4bed012a2",
   "metadata": {},
   "source": [
    "#### 1. Data Ingestion\n",
    "#### 2. Feature Selection\n",
    "#### 3. Data Checks\n",
    "#####     - check data type\n",
    "#####     - check missing value\n",
    "#####     - check unique values of each column\n",
    "#####     - check statistics of dataset\n",
    "#### 4. Data Saving/Loading\n",
    "#### 5. Train Test Split\n",
    "#### 6. Feature Engineering/Transformation\n",
    "#### 7. Model Training and evaluation"
   ]
  },
  {
   "cell_type": "code",
   "execution_count": null,
   "id": "5999579c-9dbe-49a4-87f6-7e44c3121a76",
   "metadata": {},
   "outputs": [],
   "source": []
  },
  {
   "cell_type": "code",
   "execution_count": null,
   "id": "18ca718d-66c4-4861-9fb3-427c89c34dc6",
   "metadata": {},
   "outputs": [],
   "source": []
  },
  {
   "cell_type": "code",
   "execution_count": null,
   "id": "e4611bd8-ea22-4dba-8908-77139019d705",
   "metadata": {},
   "outputs": [],
   "source": []
  },
  {
   "cell_type": "markdown",
   "id": "000e3242-ab6a-4a59-ba3b-d601b1f160a5",
   "metadata": {},
   "source": [
    "### 1. Data Extraction"
   ]
  },
  {
   "cell_type": "code",
   "execution_count": 3,
   "id": "4c3b8280-f3aa-43e7-bb59-a37165f7f5bb",
   "metadata": {},
   "outputs": [],
   "source": [
    "spark.conf.set('spark.sql.repl.eagerEval.enabled', True)"
   ]
  },
  {
   "cell_type": "code",
   "execution_count": 4,
   "id": "fbea94a1-50a5-40a1-84b5-a28dfab790d4",
   "metadata": {},
   "outputs": [],
   "source": [
    "df = spark.read.text('2020_lar.txt')"
   ]
  },
  {
   "cell_type": "code",
   "execution_count": 5,
   "id": "9963da99-ab02-4a8e-a43d-c4ba8ea95959",
   "metadata": {},
   "outputs": [],
   "source": [
    "df = spark.read.option(\"header\", \"true\") \\\n",
    "    .option(\"delimiter\", \"|\") \\\n",
    "    .csv('2020_lar.txt')"
   ]
  },
  {
   "cell_type": "code",
   "execution_count": 6,
   "id": "acb1379c-be29-4e08-82a9-7fdccb82dff5",
   "metadata": {},
   "outputs": [
    {
     "name": "stderr",
     "output_type": "stream",
     "text": [
      "24/12/24 13:17:06 WARN SparkStringUtils: Truncated the string representation of a plan since it was too large. This behavior can be adjusted by setting 'spark.sql.debug.maxToStringFields'.\n"
     ]
    },
    {
     "data": {
      "text/html": [
       "<table border='1'>\n",
       "<tr><th>activity_year</th><th>lei</th><th>derived_msa_md</th><th>state_code</th><th>county_code</th><th>census_tract</th><th>conforming_loan_limit</th><th>derived_loan_product_type</th><th>derived_dwelling_category</th><th>derived_ethnicity</th><th>derived_race</th><th>derived_sex</th><th>action_taken</th><th>purchaser_type</th><th>preapproval</th><th>loan_type</th><th>loan_purpose</th><th>lien_status</th><th>reverse_mortgage</th><th>open_end_line_of_credit</th><th>business_or_commercial_purpose</th><th>loan_amount</th><th>combined_loan_to_value_ratio</th><th>interest_rate</th><th>rate_spread</th><th>hoepa_status</th><th>total_loan_costs</th><th>total_points_and_fees</th><th>origination_charges</th><th>discount_points</th><th>lender_credits</th><th>loan_term</th><th>prepayment_penalty_term</th><th>intro_rate_period</th><th>negative_amortization</th><th>interest_only_payment</th><th>balloon_payment</th><th>other_nonamortizing_features</th><th>property_value</th><th>construction_method</th><th>occupancy_type</th><th>manufactured_home_secured_property_type</th><th>manufactured_home_land_property_interest</th><th>total_units</th><th>multifamily_affordable_units</th><th>income</th><th>debt_to_income_ratio</th><th>applicant_credit_score_type</th><th>co_applicant_credit_score_type</th><th>applicant_ethnicity_1</th><th>applicant_ethnicity_2</th><th>applicant_ethnicity_3</th><th>applicant_ethnicity_4</th><th>applicant_ethnicity_5</th><th>co_applicant_ethnicity_1</th><th>co_applicant_ethnicity_2</th><th>co_applicant_ethnicity_3</th><th>co_applicant_ethnicity_4</th><th>co_applicant_ethnicity_5</th><th>applicant_ethnicity_observed</th><th>co_applicant_ethnicity_observed</th><th>applicant_race_1</th><th>applicant_race_2</th><th>applicant_race_3</th><th>applicant_race_4</th><th>applicant_race_5</th><th>co_applicant_race_1</th><th>co_applicant_race_2</th><th>co_applicant_race_3</th><th>co_applicant_race_4</th><th>co_applicant_race_5</th><th>applicant_race_observed</th><th>co_applicant_race_observed</th><th>applicant_sex</th><th>co_applicant_sex</th><th>applicant_sex_observed</th><th>co_applicant_sex_observed</th><th>applicant_age</th><th>co_applicant_age</th><th>applicant_age_above_62</th><th>co_applicant_age_above_62</th><th>submission_of_application</th><th>initially_payable_to_institution</th><th>aus_1</th><th>aus_2</th><th>aus_3</th><th>aus_4</th><th>aus_5</th><th>denial_reason_1</th><th>denial_reason_2</th><th>denial_reason_3</th><th>denial_reason_4</th><th>tract_population</th><th>tract_minority_population_percent</th><th>ffiec_msa_md_median_family_income</th><th>tract_to_msa_income_percentage</th><th>tract_owner_occupied_units</th><th>tract_one_to_four_family_homes</th><th>tract_median_age_of_housing_units</th></tr>\n",
       "<tr><td>2020</td><td>549300RBX56T2MW5HO19</td><td>29620</td><td>MI</td><td>26065</td><td>26065003400</td><td>C</td><td>Conventional:Firs...</td><td>Single Family (1-...</td><td>Not Hispanic or L...</td><td>White</td><td>Joint</td><td>1</td><td>0</td><td>2</td><td>1</td><td>1</td><td>1</td><td>2</td><td>2</td><td>2</td><td>135000</td><td>97.0</td><td>3.875</td><td>1.273</td><td>2</td><td>460.0</td><td>NA</td><td>0.0</td><td>NULL</td><td>NA</td><td>360</td><td>NA</td><td>NA</td><td>2</td><td>2</td><td>2</td><td>2</td><td>145000</td><td>1</td><td>1</td><td>3</td><td>5</td><td>1</td><td>NA</td><td>65</td><td>30%-&lt;36%</td><td>2</td><td>5</td><td>2</td><td>NULL</td><td>NULL</td><td>NULL</td><td>NULL</td><td>2</td><td>NULL</td><td>NULL</td><td>NULL</td><td>NULL</td><td>2</td><td>2</td><td>5</td><td>NULL</td><td>NULL</td><td>NULL</td><td>NULL</td><td>5</td><td>NULL</td><td>NULL</td><td>NULL</td><td>NULL</td><td>2</td><td>2</td><td>1</td><td>2</td><td>2</td><td>2</td><td>25-34</td><td>25-34</td><td>No</td><td>No</td><td>1</td><td>1</td><td>1</td><td>NULL</td><td>NULL</td><td>NULL</td><td>NULL</td><td>10</td><td>NULL</td><td>NULL</td><td>NULL</td><td>2253</td><td>28.72</td><td>79300</td><td>109.02</td><td>773</td><td>883</td><td>57</td></tr>\n",
       "<tr><td>2020</td><td>549300RBX56T2MW5HO19</td><td>31084</td><td>CA</td><td>06037</td><td>06037108201</td><td>C</td><td>Conventional:Firs...</td><td>Single Family (1-...</td><td>Not Hispanic or L...</td><td>Asian</td><td>Joint</td><td>1</td><td>1</td><td>2</td><td>1</td><td>31</td><td>1</td><td>2</td><td>2</td><td>2</td><td>315000</td><td>36.82</td><td>2.124</td><td>-0.256</td><td>2</td><td>316.13</td><td>NA</td><td>316.13</td><td>NULL</td><td>316.13</td><td>180</td><td>NA</td><td>NA</td><td>2</td><td>2</td><td>2</td><td>2</td><td>855000</td><td>1</td><td>1</td><td>3</td><td>5</td><td>1</td><td>NA</td><td>135</td><td>20%-&lt;30%</td><td>5</td><td>1</td><td>2</td><td>NULL</td><td>NULL</td><td>NULL</td><td>NULL</td><td>2</td><td>NULL</td><td>NULL</td><td>NULL</td><td>NULL</td><td>2</td><td>2</td><td>2</td><td>25</td><td>NULL</td><td>NULL</td><td>NULL</td><td>2</td><td>25</td><td>NULL</td><td>NULL</td><td>NULL</td><td>2</td><td>2</td><td>1</td><td>2</td><td>2</td><td>2</td><td>45-54</td><td>45-54</td><td>No</td><td>No</td><td>1</td><td>1</td><td>1</td><td>NULL</td><td>NULL</td><td>NULL</td><td>NULL</td><td>10</td><td>NULL</td><td>NULL</td><td>NULL</td><td>5846</td><td>62.37</td><td>77300</td><td>166.05</td><td>1378</td><td>1972</td><td>25</td></tr>\n",
       "<tr><td>2020</td><td>549300RBX56T2MW5HO19</td><td>41100</td><td>UT</td><td>49053</td><td>49053270600</td><td>C</td><td>FHA:First Lien</td><td>Single Family (1-...</td><td>Not Hispanic or L...</td><td>White</td><td>Joint</td><td>1</td><td>9</td><td>2</td><td>2</td><td>1</td><td>1</td><td>1</td><td>2</td><td>2</td><td>135000</td><td>55.1</td><td>3.43</td><td>NA</td><td>3</td><td>NA</td><td>NA</td><td>NA</td><td>NA</td><td>NA</td><td>NA</td><td>NA</td><td>NA</td><td>2</td><td>2</td><td>2</td><td>2</td><td>255000</td><td>1</td><td>1</td><td>3</td><td>5</td><td>1</td><td>NA</td><td>NA</td><td>NA</td><td>9</td><td>9</td><td>2</td><td>NULL</td><td>NULL</td><td>NULL</td><td>NULL</td><td>2</td><td>NULL</td><td>NULL</td><td>NULL</td><td>NULL</td><td>2</td><td>2</td><td>5</td><td>NULL</td><td>NULL</td><td>NULL</td><td>NULL</td><td>5</td><td>NULL</td><td>NULL</td><td>NULL</td><td>NULL</td><td>2</td><td>2</td><td>1</td><td>2</td><td>2</td><td>2</td><td>65-74</td><td>65-74</td><td>Yes</td><td>Yes</td><td>1</td><td>1</td><td>6</td><td>NULL</td><td>NULL</td><td>NULL</td><td>NULL</td><td>10</td><td>NULL</td><td>NULL</td><td>NULL</td><td>7739</td><td>15.62</td><td>70700</td><td>102.72</td><td>1803</td><td>3813</td><td>19</td></tr>\n",
       "<tr><td>2020</td><td>549300RBX56T2MW5HO19</td><td>19740</td><td>CO</td><td>08031</td><td>08031004004</td><td>C</td><td>Conventional:Firs...</td><td>Single Family (1-...</td><td>Not Hispanic or L...</td><td>White</td><td>Joint</td><td>4</td><td>0</td><td>2</td><td>1</td><td>32</td><td>1</td><td>2</td><td>2</td><td>2</td><td>405000</td><td>NA</td><td>NA</td><td>NA</td><td>3</td><td>NA</td><td>NA</td><td>NA</td><td>NA</td><td>NA</td><td>240</td><td>NA</td><td>NA</td><td>2</td><td>2</td><td>2</td><td>2</td><td>NA</td><td>1</td><td>1</td><td>3</td><td>5</td><td>1</td><td>NA</td><td>120</td><td>NA</td><td>9</td><td>9</td><td>2</td><td>NULL</td><td>NULL</td><td>NULL</td><td>NULL</td><td>2</td><td>NULL</td><td>NULL</td><td>NULL</td><td>NULL</td><td>2</td><td>2</td><td>5</td><td>NULL</td><td>NULL</td><td>NULL</td><td>NULL</td><td>5</td><td>NULL</td><td>NULL</td><td>NULL</td><td>NULL</td><td>2</td><td>2</td><td>1</td><td>2</td><td>2</td><td>2</td><td>35-44</td><td>35-44</td><td>No</td><td>No</td><td>1</td><td>1</td><td>6</td><td>NULL</td><td>NULL</td><td>NULL</td><td>NULL</td><td>10</td><td>NULL</td><td>NULL</td><td>NULL</td><td>1908</td><td>8.54</td><td>100000</td><td>145.9</td><td>802</td><td>760</td><td>52</td></tr>\n",
       "<tr><td>2020</td><td>549300RBX56T2MW5HO19</td><td>17820</td><td>CO</td><td>08041</td><td>08041002501</td><td>C</td><td>Conventional:Firs...</td><td>Single Family (1-...</td><td>Not Hispanic or L...</td><td>White</td><td>Female</td><td>1</td><td>1</td><td>2</td><td>1</td><td>1</td><td>1</td><td>2</td><td>2</td><td>2</td><td>435000</td><td>80.0</td><td>2.5</td><td>-0.39</td><td>2</td><td>0.0</td><td>NA</td><td>0.0</td><td>NULL</td><td>NA</td><td>360</td><td>NA</td><td>NA</td><td>2</td><td>2</td><td>2</td><td>2</td><td>565000</td><td>1</td><td>1</td><td>3</td><td>5</td><td>1</td><td>NA</td><td>328</td><td>20%-&lt;30%</td><td>1</td><td>2</td><td>2</td><td>NULL</td><td>NULL</td><td>NULL</td><td>NULL</td><td>2</td><td>NULL</td><td>NULL</td><td>NULL</td><td>NULL</td><td>2</td><td>2</td><td>5</td><td>NULL</td><td>NULL</td><td>NULL</td><td>NULL</td><td>5</td><td>NULL</td><td>NULL</td><td>NULL</td><td>NULL</td><td>2</td><td>2</td><td>2</td><td>2</td><td>2</td><td>2</td><td>55-64</td><td>55-64</td><td>No</td><td>No</td><td>1</td><td>1</td><td>1</td><td>NULL</td><td>NULL</td><td>NULL</td><td>NULL</td><td>10</td><td>NULL</td><td>NULL</td><td>NULL</td><td>3276</td><td>11.14</td><td>81700</td><td>146.97</td><td>1163</td><td>1472</td><td>45</td></tr>\n",
       "<tr><td>2020</td><td>549300RBX56T2MW5HO19</td><td>11244</td><td>CA</td><td>06059</td><td>06059042334</td><td>C</td><td>Conventional:Firs...</td><td>Single Family (1-...</td><td>Not Hispanic or L...</td><td>Asian</td><td>Joint</td><td>1</td><td>1</td><td>2</td><td>1</td><td>31</td><td>1</td><td>2</td><td>2</td><td>2</td><td>355000</td><td>41.29</td><td>2.875</td><td>NA</td><td>2</td><td>120.0</td><td>NA</td><td>0.0</td><td>NULL</td><td>NA</td><td>180</td><td>NA</td><td>NA</td><td>2</td><td>2</td><td>2</td><td>2</td><td>855000</td><td>1</td><td>3</td><td>3</td><td>5</td><td>1</td><td>NA</td><td>565</td><td>&lt;20%</td><td>2</td><td>1</td><td>2</td><td>NULL</td><td>NULL</td><td>NULL</td><td>NULL</td><td>2</td><td>NULL</td><td>NULL</td><td>NULL</td><td>NULL</td><td>2</td><td>2</td><td>2</td><td>NULL</td><td>NULL</td><td>NULL</td><td>NULL</td><td>2</td><td>NULL</td><td>NULL</td><td>NULL</td><td>NULL</td><td>2</td><td>2</td><td>1</td><td>2</td><td>2</td><td>2</td><td>55-64</td><td>55-64</td><td>No</td><td>No</td><td>1</td><td>1</td><td>1</td><td>NULL</td><td>NULL</td><td>NULL</td><td>NULL</td><td>10</td><td>NULL</td><td>NULL</td><td>NULL</td><td>5173</td><td>36.61</td><td>103000</td><td>111.29</td><td>1440</td><td>1707</td><td>31</td></tr>\n",
       "<tr><td>2020</td><td>549300RBX56T2MW5HO19</td><td>19740</td><td>CO</td><td>08031</td><td>08031008391</td><td>C</td><td>Conventional:Firs...</td><td>Single Family (1-...</td><td>Not Hispanic or L...</td><td>White</td><td>Joint</td><td>1</td><td>3</td><td>2</td><td>1</td><td>31</td><td>1</td><td>2</td><td>2</td><td>2</td><td>265000</td><td>74.28</td><td>3.0</td><td>0.231</td><td>2</td><td>120.0</td><td>NA</td><td>0.0</td><td>NULL</td><td>NA</td><td>360</td><td>NA</td><td>NA</td><td>2</td><td>2</td><td>2</td><td>2</td><td>355000</td><td>1</td><td>1</td><td>3</td><td>5</td><td>1</td><td>NA</td><td>57</td><td>39</td><td>5</td><td>1</td><td>2</td><td>NULL</td><td>NULL</td><td>NULL</td><td>NULL</td><td>2</td><td>NULL</td><td>NULL</td><td>NULL</td><td>NULL</td><td>2</td><td>2</td><td>5</td><td>NULL</td><td>NULL</td><td>NULL</td><td>NULL</td><td>5</td><td>NULL</td><td>NULL</td><td>NULL</td><td>NULL</td><td>2</td><td>2</td><td>1</td><td>2</td><td>2</td><td>2</td><td>65-74</td><td>65-74</td><td>Yes</td><td>Yes</td><td>1</td><td>1</td><td>2</td><td>NULL</td><td>NULL</td><td>NULL</td><td>NULL</td><td>10</td><td>NULL</td><td>NULL</td><td>NULL</td><td>8352</td><td>80.24</td><td>100000</td><td>89.96</td><td>1769</td><td>2423</td><td>16</td></tr>\n",
       "<tr><td>2020</td><td>549300RBX56T2MW5HO19</td><td>41740</td><td>CA</td><td>06073</td><td>06073018504</td><td>C</td><td>Conventional:Firs...</td><td>Single Family (1-...</td><td>Not Hispanic or L...</td><td>White</td><td>Joint</td><td>1</td><td>1</td><td>2</td><td>1</td><td>31</td><td>1</td><td>2</td><td>2</td><td>2</td><td>485000</td><td>48.98</td><td>2.249</td><td>-0.151</td><td>2</td><td>1862.4</td><td>NA</td><td>1862.4</td><td>NULL</td><td>1862.4</td><td>180</td><td>NA</td><td>NA</td><td>2</td><td>2</td><td>2</td><td>2</td><td>995000</td><td>1</td><td>1</td><td>3</td><td>5</td><td>1</td><td>NA</td><td>171</td><td>44</td><td>1</td><td>1</td><td>2</td><td>NULL</td><td>NULL</td><td>NULL</td><td>NULL</td><td>2</td><td>NULL</td><td>NULL</td><td>NULL</td><td>NULL</td><td>2</td><td>2</td><td>5</td><td>NULL</td><td>NULL</td><td>NULL</td><td>NULL</td><td>5</td><td>NULL</td><td>NULL</td><td>NULL</td><td>NULL</td><td>2</td><td>2</td><td>1</td><td>2</td><td>2</td><td>2</td><td>55-64</td><td>55-64</td><td>No</td><td>No</td><td>1</td><td>1</td><td>1</td><td>NULL</td><td>NULL</td><td>NULL</td><td>NULL</td><td>10</td><td>NULL</td><td>NULL</td><td>NULL</td><td>6972</td><td>40.72</td><td>92700</td><td>91.47</td><td>1399</td><td>2302</td><td>38</td></tr>\n",
       "<tr><td>2020</td><td>549300RBX56T2MW5HO19</td><td>24540</td><td>CO</td><td>08123</td><td>08123002102</td><td>C</td><td>Conventional:Firs...</td><td>Single Family (1-...</td><td>Not Hispanic or L...</td><td>White</td><td>Joint</td><td>1</td><td>3</td><td>2</td><td>1</td><td>31</td><td>1</td><td>2</td><td>2</td><td>2</td><td>345000</td><td>95.0</td><td>2.875</td><td>0.395</td><td>2</td><td>745.0</td><td>NA</td><td>625.0</td><td>NULL</td><td>625.0</td><td>360</td><td>NA</td><td>NA</td><td>2</td><td>2</td><td>2</td><td>2</td><td>365000</td><td>1</td><td>1</td><td>3</td><td>5</td><td>1</td><td>NA</td><td>157</td><td>20%-&lt;30%</td><td>5</td><td>5</td><td>2</td><td>NULL</td><td>NULL</td><td>NULL</td><td>NULL</td><td>2</td><td>NULL</td><td>NULL</td><td>NULL</td><td>NULL</td><td>2</td><td>2</td><td>5</td><td>NULL</td><td>NULL</td><td>NULL</td><td>NULL</td><td>5</td><td>NULL</td><td>NULL</td><td>NULL</td><td>NULL</td><td>2</td><td>2</td><td>1</td><td>2</td><td>2</td><td>2</td><td>25-34</td><td>25-34</td><td>No</td><td>No</td><td>1</td><td>1</td><td>2</td><td>NULL</td><td>NULL</td><td>NULL</td><td>NULL</td><td>10</td><td>NULL</td><td>NULL</td><td>NULL</td><td>12241</td><td>16.27</td><td>84300</td><td>121.98</td><td>3708</td><td>4169</td><td>13</td></tr>\n",
       "<tr><td>2020</td><td>549300RBX56T2MW5HO19</td><td>16984</td><td>IL</td><td>17043</td><td>17043846202</td><td>C</td><td>Conventional:Firs...</td><td>Single Family (1-...</td><td>Not Hispanic or L...</td><td>White</td><td>Joint</td><td>1</td><td>1</td><td>2</td><td>1</td><td>32</td><td>1</td><td>2</td><td>2</td><td>2</td><td>475000</td><td>74.48</td><td>3.0</td><td>0.237</td><td>2</td><td>520.0</td><td>NA</td><td>400.0</td><td>NULL</td><td>400.0</td><td>360</td><td>NA</td><td>NA</td><td>2</td><td>2</td><td>2</td><td>2</td><td>635000</td><td>1</td><td>1</td><td>3</td><td>5</td><td>1</td><td>NA</td><td>285</td><td>20%-&lt;30%</td><td>1</td><td>1</td><td>2</td><td>NULL</td><td>NULL</td><td>NULL</td><td>NULL</td><td>2</td><td>NULL</td><td>NULL</td><td>NULL</td><td>NULL</td><td>2</td><td>2</td><td>5</td><td>NULL</td><td>NULL</td><td>NULL</td><td>NULL</td><td>5</td><td>NULL</td><td>NULL</td><td>NULL</td><td>NULL</td><td>2</td><td>2</td><td>1</td><td>2</td><td>2</td><td>2</td><td>35-44</td><td>35-44</td><td>No</td><td>No</td><td>1</td><td>1</td><td>1</td><td>NULL</td><td>NULL</td><td>NULL</td><td>NULL</td><td>10</td><td>NULL</td><td>NULL</td><td>NULL</td><td>5965</td><td>34.64</td><td>84800</td><td>139.42</td><td>1372</td><td>1363</td><td>33</td></tr>\n",
       "<tr><td>2020</td><td>549300RBX56T2MW5HO19</td><td>38900</td><td>OR</td><td>41051</td><td>41051004001</td><td>C</td><td>Conventional:Firs...</td><td>Single Family (1-...</td><td>Not Hispanic or L...</td><td>White</td><td>Joint</td><td>1</td><td>3</td><td>2</td><td>1</td><td>31</td><td>1</td><td>2</td><td>2</td><td>2</td><td>365000</td><td>78.91</td><td>2.875</td><td>0.081</td><td>2</td><td>7300.0</td><td>NA</td><td>7260.0</td><td>NULL</td><td>7260.0</td><td>360</td><td>NA</td><td>NA</td><td>2</td><td>2</td><td>2</td><td>2</td><td>465000</td><td>1</td><td>1</td><td>3</td><td>5</td><td>1</td><td>NA</td><td>136</td><td>20%-&lt;30%</td><td>5</td><td>1</td><td>2</td><td>NULL</td><td>NULL</td><td>NULL</td><td>NULL</td><td>2</td><td>NULL</td><td>NULL</td><td>NULL</td><td>NULL</td><td>2</td><td>2</td><td>5</td><td>NULL</td><td>NULL</td><td>NULL</td><td>NULL</td><td>5</td><td>NULL</td><td>NULL</td><td>NULL</td><td>NULL</td><td>2</td><td>2</td><td>2</td><td>1</td><td>2</td><td>2</td><td>25-34</td><td>25-34</td><td>No</td><td>No</td><td>2</td><td>1</td><td>2</td><td>NULL</td><td>NULL</td><td>NULL</td><td>NULL</td><td>10</td><td>NULL</td><td>NULL</td><td>NULL</td><td>8486</td><td>54.63</td><td>92100</td><td>55.64</td><td>1070</td><td>2164</td><td>40</td></tr>\n",
       "<tr><td>2020</td><td>549300RBX56T2MW5HO19</td><td>23224</td><td>MD</td><td>24031</td><td>24031700706</td><td>C</td><td>Conventional:Firs...</td><td>Single Family (1-...</td><td>Ethnicity Not Ava...</td><td>Race Not Available</td><td>Sex Not Available</td><td>5</td><td>0</td><td>2</td><td>1</td><td>31</td><td>1</td><td>2</td><td>2</td><td>2</td><td>455000</td><td>NA</td><td>NA</td><td>NA</td><td>3</td><td>NA</td><td>NA</td><td>NA</td><td>NA</td><td>NA</td><td>360</td><td>NA</td><td>NA</td><td>2</td><td>2</td><td>2</td><td>2</td><td>NA</td><td>1</td><td>1</td><td>3</td><td>5</td><td>1</td><td>NA</td><td>75</td><td>NA</td><td>9</td><td>9</td><td>3</td><td>NULL</td><td>NULL</td><td>NULL</td><td>NULL</td><td>3</td><td>NULL</td><td>NULL</td><td>NULL</td><td>NULL</td><td>2</td><td>2</td><td>6</td><td>NULL</td><td>NULL</td><td>NULL</td><td>NULL</td><td>6</td><td>NULL</td><td>NULL</td><td>NULL</td><td>NULL</td><td>2</td><td>2</td><td>3</td><td>3</td><td>2</td><td>2</td><td>45-54</td><td>55-64</td><td>No</td><td>No</td><td>1</td><td>1</td><td>1</td><td>NULL</td><td>NULL</td><td>NULL</td><td>NULL</td><td>10</td><td>NULL</td><td>NULL</td><td>NULL</td><td>4154</td><td>70.58</td><td>124400</td><td>70.37</td><td>623</td><td>719</td><td>36</td></tr>\n",
       "<tr><td>2020</td><td>549300RBX56T2MW5HO19</td><td>19740</td><td>CO</td><td>08031</td><td>08031012014</td><td>C</td><td>Conventional:Firs...</td><td>Single Family (1-...</td><td>Ethnicity Not Ava...</td><td>Race Not Available</td><td>Joint</td><td>1</td><td>1</td><td>2</td><td>1</td><td>31</td><td>1</td><td>2</td><td>2</td><td>2</td><td>275000</td><td>90.0</td><td>3.125</td><td>0.512</td><td>2</td><td>856.0</td><td>NA</td><td>0.0</td><td>NULL</td><td>NA</td><td>360</td><td>NA</td><td>NA</td><td>2</td><td>2</td><td>2</td><td>2</td><td>305000</td><td>1</td><td>1</td><td>3</td><td>5</td><td>1</td><td>NA</td><td>91</td><td>30%-&lt;36%</td><td>2</td><td>2</td><td>3</td><td>NULL</td><td>NULL</td><td>NULL</td><td>NULL</td><td>3</td><td>NULL</td><td>NULL</td><td>NULL</td><td>NULL</td><td>2</td><td>2</td><td>6</td><td>NULL</td><td>NULL</td><td>NULL</td><td>NULL</td><td>6</td><td>NULL</td><td>NULL</td><td>NULL</td><td>NULL</td><td>2</td><td>2</td><td>1</td><td>2</td><td>2</td><td>2</td><td>65-74</td><td>55-64</td><td>Yes</td><td>Yes</td><td>1</td><td>1</td><td>1</td><td>NULL</td><td>NULL</td><td>NULL</td><td>NULL</td><td>10</td><td>NULL</td><td>NULL</td><td>NULL</td><td>6321</td><td>31.21</td><td>100000</td><td>89.3</td><td>1671</td><td>1673</td><td>29</td></tr>\n",
       "<tr><td>2020</td><td>549300RBX56T2MW5HO19</td><td>37100</td><td>CA</td><td>06111</td><td>06111008202</td><td>C</td><td>FHA:First Lien</td><td>Single Family (1-...</td><td>Not Hispanic or L...</td><td>White</td><td>Joint</td><td>4</td><td>0</td><td>2</td><td>2</td><td>31</td><td>1</td><td>1</td><td>2</td><td>2</td><td>395000</td><td>NA</td><td>NA</td><td>NA</td><td>3</td><td>NA</td><td>NA</td><td>NA</td><td>NA</td><td>NA</td><td>NA</td><td>NA</td><td>NA</td><td>2</td><td>2</td><td>2</td><td>2</td><td>NA</td><td>1</td><td>1</td><td>3</td><td>5</td><td>1</td><td>NA</td><td>NA</td><td>NA</td><td>9</td><td>9</td><td>2</td><td>NULL</td><td>NULL</td><td>NULL</td><td>NULL</td><td>2</td><td>NULL</td><td>NULL</td><td>NULL</td><td>NULL</td><td>2</td><td>2</td><td>5</td><td>NULL</td><td>NULL</td><td>NULL</td><td>NULL</td><td>5</td><td>NULL</td><td>NULL</td><td>NULL</td><td>NULL</td><td>2</td><td>2</td><td>1</td><td>2</td><td>2</td><td>2</td><td>65-74</td><td>65-74</td><td>Yes</td><td>Yes</td><td>1</td><td>1</td><td>6</td><td>NULL</td><td>NULL</td><td>NULL</td><td>NULL</td><td>10</td><td>NULL</td><td>NULL</td><td>NULL</td><td>4762</td><td>43.55</td><td>97800</td><td>88.04</td><td>1147</td><td>1444</td><td>42</td></tr>\n",
       "<tr><td>2020</td><td>549300RBX56T2MW5HO19</td><td>19124</td><td>TX</td><td>48121</td><td>48121021405</td><td>C</td><td>Conventional:Firs...</td><td>Single Family (1-...</td><td>Ethnicity Not Ava...</td><td>Race Not Available</td><td>Joint</td><td>1</td><td>1</td><td>2</td><td>1</td><td>1</td><td>1</td><td>2</td><td>2</td><td>2</td><td>255000</td><td>80.0</td><td>2.875</td><td>0.058</td><td>2</td><td>120.0</td><td>NA</td><td>0.0</td><td>NULL</td><td>NA</td><td>360</td><td>NA</td><td>NA</td><td>2</td><td>2</td><td>2</td><td>2</td><td>315000</td><td>1</td><td>1</td><td>3</td><td>5</td><td>1</td><td>NA</td><td>172</td><td>20%-&lt;30%</td><td>1</td><td>5</td><td>3</td><td>NULL</td><td>NULL</td><td>NULL</td><td>NULL</td><td>2</td><td>NULL</td><td>NULL</td><td>NULL</td><td>NULL</td><td>2</td><td>2</td><td>6</td><td>NULL</td><td>NULL</td><td>NULL</td><td>NULL</td><td>5</td><td>NULL</td><td>NULL</td><td>NULL</td><td>NULL</td><td>2</td><td>2</td><td>1</td><td>2</td><td>2</td><td>2</td><td>25-34</td><td>25-34</td><td>No</td><td>No</td><td>1</td><td>1</td><td>1</td><td>NULL</td><td>NULL</td><td>NULL</td><td>NULL</td><td>10</td><td>NULL</td><td>NULL</td><td>NULL</td><td>9821</td><td>41.82</td><td>86200</td><td>114.01</td><td>1924</td><td>2957</td><td>12</td></tr>\n",
       "<tr><td>2020</td><td>549300RBX56T2MW5HO19</td><td>41940</td><td>CA</td><td>06085</td><td>06085512033</td><td>C</td><td>Conventional:Firs...</td><td>Single Family (1-...</td><td>Ethnicity Not Ava...</td><td>Race Not Available</td><td>Sex Not Available</td><td>1</td><td>1</td><td>2</td><td>1</td><td>31</td><td>1</td><td>2</td><td>2</td><td>2</td><td>495000</td><td>59.36</td><td>2.5</td><td>-0.288</td><td>2</td><td>120.0</td><td>NA</td><td>0.0</td><td>NULL</td><td>NA</td><td>360</td><td>NA</td><td>NA</td><td>2</td><td>2</td><td>2</td><td>2</td><td>845000</td><td>1</td><td>1</td><td>3</td><td>5</td><td>1</td><td>NA</td><td>170</td><td>39</td><td>5</td><td>1</td><td>3</td><td>NULL</td><td>NULL</td><td>NULL</td><td>NULL</td><td>3</td><td>NULL</td><td>NULL</td><td>NULL</td><td>NULL</td><td>2</td><td>2</td><td>6</td><td>NULL</td><td>NULL</td><td>NULL</td><td>NULL</td><td>6</td><td>NULL</td><td>NULL</td><td>NULL</td><td>NULL</td><td>2</td><td>2</td><td>3</td><td>3</td><td>2</td><td>2</td><td>55-64</td><td>45-54</td><td>No</td><td>No</td><td>1</td><td>1</td><td>1</td><td>NULL</td><td>NULL</td><td>NULL</td><td>NULL</td><td>10</td><td>NULL</td><td>NULL</td><td>NULL</td><td>6640</td><td>58.31</td><td>139800</td><td>107.44</td><td>1389</td><td>1789</td><td>40</td></tr>\n",
       "<tr><td>2020</td><td>549300RBX56T2MW5HO19</td><td>99999</td><td>WA</td><td>53075</td><td>53075000700</td><td>C</td><td>Conventional:Firs...</td><td>Single Family (1-...</td><td>Not Hispanic or L...</td><td>White</td><td>Joint</td><td>1</td><td>1</td><td>2</td><td>1</td><td>31</td><td>1</td><td>2</td><td>2</td><td>2</td><td>355000</td><td>70.0</td><td>2.75</td><td>0.006</td><td>2</td><td>8375.0</td><td>NA</td><td>8375.0</td><td>NULL</td><td>8375.0</td><td>360</td><td>NA</td><td>NA</td><td>2</td><td>2</td><td>2</td><td>2</td><td>505000</td><td>1</td><td>1</td><td>3</td><td>5</td><td>1</td><td>NA</td><td>107</td><td>20%-&lt;30%</td><td>2</td><td>5</td><td>2</td><td>NULL</td><td>NULL</td><td>NULL</td><td>NULL</td><td>2</td><td>NULL</td><td>NULL</td><td>NULL</td><td>NULL</td><td>2</td><td>2</td><td>5</td><td>NULL</td><td>NULL</td><td>NULL</td><td>NULL</td><td>5</td><td>NULL</td><td>NULL</td><td>NULL</td><td>NULL</td><td>2</td><td>2</td><td>1</td><td>2</td><td>2</td><td>2</td><td>25-34</td><td>25-34</td><td>No</td><td>No</td><td>2</td><td>1</td><td>1</td><td>NULL</td><td>NULL</td><td>NULL</td><td>NULL</td><td>10</td><td>NULL</td><td>NULL</td><td>NULL</td><td>3593</td><td>6.21</td><td>65500</td><td>106.0</td><td>1137</td><td>1705</td><td>68</td></tr>\n",
       "<tr><td>2020</td><td>549300RBX56T2MW5HO19</td><td>41884</td><td>CA</td><td>06075</td><td>06075030700</td><td>C</td><td>Conventional:Firs...</td><td>Single Family (1-...</td><td>Not Hispanic or L...</td><td>White</td><td>Joint</td><td>1</td><td>1</td><td>2</td><td>1</td><td>31</td><td>1</td><td>2</td><td>2</td><td>2</td><td>405000</td><td>28.15</td><td>2.125</td><td>-0.29</td><td>2</td><td>1606.0</td><td>NA</td><td>711.0</td><td>NULL</td><td>711.0</td><td>180</td><td>NA</td><td>NA</td><td>2</td><td>2</td><td>2</td><td>2</td><td>1435000</td><td>1</td><td>1</td><td>3</td><td>5</td><td>1</td><td>NA</td><td>215</td><td>38</td><td>5</td><td>2</td><td>2</td><td>NULL</td><td>NULL</td><td>NULL</td><td>NULL</td><td>2</td><td>NULL</td><td>NULL</td><td>NULL</td><td>NULL</td><td>2</td><td>2</td><td>5</td><td>NULL</td><td>NULL</td><td>NULL</td><td>NULL</td><td>5</td><td>NULL</td><td>NULL</td><td>NULL</td><td>NULL</td><td>2</td><td>2</td><td>1</td><td>2</td><td>2</td><td>2</td><td>55-64</td><td>45-54</td><td>No</td><td>No</td><td>1</td><td>1</td><td>1</td><td>NULL</td><td>NULL</td><td>NULL</td><td>NULL</td><td>10</td><td>NULL</td><td>NULL</td><td>NULL</td><td>6952</td><td>49.08</td><td>140900</td><td>126.75</td><td>2141</td><td>2792</td><td>63</td></tr>\n",
       "<tr><td>2020</td><td>549300RBX56T2MW5HO19</td><td>42644</td><td>WA</td><td>53033</td><td>53033005700</td><td>C</td><td>Conventional:Firs...</td><td>Single Family (1-...</td><td>Not Hispanic or L...</td><td>White</td><td>Joint</td><td>1</td><td>3</td><td>2</td><td>1</td><td>31</td><td>1</td><td>2</td><td>2</td><td>2</td><td>685000</td><td>74.83</td><td>2.875</td><td>0.049</td><td>2</td><td>801.0</td><td>NA</td><td>681.0</td><td>NULL</td><td>681.0</td><td>360</td><td>NA</td><td>NA</td><td>2</td><td>2</td><td>2</td><td>2</td><td>915000</td><td>1</td><td>1</td><td>3</td><td>5</td><td>1</td><td>NA</td><td>185</td><td>20%-&lt;30%</td><td>2</td><td>1</td><td>2</td><td>NULL</td><td>NULL</td><td>NULL</td><td>NULL</td><td>2</td><td>NULL</td><td>NULL</td><td>NULL</td><td>NULL</td><td>2</td><td>2</td><td>5</td><td>NULL</td><td>NULL</td><td>NULL</td><td>NULL</td><td>5</td><td>NULL</td><td>NULL</td><td>NULL</td><td>NULL</td><td>2</td><td>2</td><td>1</td><td>2</td><td>2</td><td>2</td><td>35-44</td><td>25-34</td><td>No</td><td>No</td><td>1</td><td>1</td><td>2</td><td>NULL</td><td>NULL</td><td>NULL</td><td>NULL</td><td>10</td><td>NULL</td><td>NULL</td><td>NULL</td><td>6633</td><td>17.04</td><td>113300</td><td>116.34</td><td>1737</td><td>2411</td><td>63</td></tr>\n",
       "<tr><td>2020</td><td>549300RBX56T2MW5HO19</td><td>20994</td><td>IL</td><td>17093</td><td>17093890400</td><td>C</td><td>Conventional:Firs...</td><td>Single Family (1-...</td><td>Not Hispanic or L...</td><td>White</td><td>Joint</td><td>1</td><td>1</td><td>2</td><td>1</td><td>32</td><td>1</td><td>2</td><td>2</td><td>2</td><td>185000</td><td>66.78</td><td>3.125</td><td>0.89</td><td>2</td><td>570.0</td><td>NA</td><td>0.0</td><td>NULL</td><td>NA</td><td>180</td><td>NA</td><td>NA</td><td>2</td><td>2</td><td>2</td><td>2</td><td>285000</td><td>1</td><td>1</td><td>3</td><td>5</td><td>1</td><td>NA</td><td>65</td><td>38</td><td>1</td><td>2</td><td>2</td><td>NULL</td><td>NULL</td><td>NULL</td><td>NULL</td><td>2</td><td>NULL</td><td>NULL</td><td>NULL</td><td>NULL</td><td>2</td><td>2</td><td>5</td><td>NULL</td><td>NULL</td><td>NULL</td><td>NULL</td><td>5</td><td>NULL</td><td>NULL</td><td>NULL</td><td>NULL</td><td>2</td><td>2</td><td>1</td><td>2</td><td>2</td><td>2</td><td>55-64</td><td>55-64</td><td>Yes</td><td>No</td><td>1</td><td>1</td><td>1</td><td>NULL</td><td>NULL</td><td>NULL</td><td>NULL</td><td>10</td><td>NULL</td><td>NULL</td><td>NULL</td><td>27626</td><td>26.05</td><td>92900</td><td>121.42</td><td>7369</td><td>8696</td><td>12</td></tr>\n",
       "</table>\n",
       "only showing top 20 rows\n"
      ],
      "text/plain": [
       "+-------------+--------------------+--------------+----------+-----------+------------+---------------------+-------------------------+-------------------------+--------------------+------------------+-----------------+------------+--------------+-----------+---------+------------+-----------+----------------+-----------------------+------------------------------+-----------+----------------------------+-------------+-----------+------------+----------------+---------------------+-------------------+---------------+--------------+---------+-----------------------+-----------------+---------------------+---------------------+---------------+----------------------------+--------------+-------------------+--------------+---------------------------------------+----------------------------------------+-----------+----------------------------+------+--------------------+---------------------------+------------------------------+---------------------+---------------------+---------------------+---------------------+---------------------+------------------------+------------------------+------------------------+------------------------+------------------------+----------------------------+-------------------------------+----------------+----------------+----------------+----------------+----------------+-------------------+-------------------+-------------------+-------------------+-------------------+-----------------------+--------------------------+-------------+----------------+----------------------+-------------------------+-------------+----------------+----------------------+-------------------------+-------------------------+--------------------------------+-----+-----+-----+-----+-----+---------------+---------------+---------------+---------------+----------------+---------------------------------+---------------------------------+------------------------------+--------------------------+------------------------------+---------------------------------+\n",
       "|activity_year|                 lei|derived_msa_md|state_code|county_code|census_tract|conforming_loan_limit|derived_loan_product_type|derived_dwelling_category|   derived_ethnicity|      derived_race|      derived_sex|action_taken|purchaser_type|preapproval|loan_type|loan_purpose|lien_status|reverse_mortgage|open_end_line_of_credit|business_or_commercial_purpose|loan_amount|combined_loan_to_value_ratio|interest_rate|rate_spread|hoepa_status|total_loan_costs|total_points_and_fees|origination_charges|discount_points|lender_credits|loan_term|prepayment_penalty_term|intro_rate_period|negative_amortization|interest_only_payment|balloon_payment|other_nonamortizing_features|property_value|construction_method|occupancy_type|manufactured_home_secured_property_type|manufactured_home_land_property_interest|total_units|multifamily_affordable_units|income|debt_to_income_ratio|applicant_credit_score_type|co_applicant_credit_score_type|applicant_ethnicity_1|applicant_ethnicity_2|applicant_ethnicity_3|applicant_ethnicity_4|applicant_ethnicity_5|co_applicant_ethnicity_1|co_applicant_ethnicity_2|co_applicant_ethnicity_3|co_applicant_ethnicity_4|co_applicant_ethnicity_5|applicant_ethnicity_observed|co_applicant_ethnicity_observed|applicant_race_1|applicant_race_2|applicant_race_3|applicant_race_4|applicant_race_5|co_applicant_race_1|co_applicant_race_2|co_applicant_race_3|co_applicant_race_4|co_applicant_race_5|applicant_race_observed|co_applicant_race_observed|applicant_sex|co_applicant_sex|applicant_sex_observed|co_applicant_sex_observed|applicant_age|co_applicant_age|applicant_age_above_62|co_applicant_age_above_62|submission_of_application|initially_payable_to_institution|aus_1|aus_2|aus_3|aus_4|aus_5|denial_reason_1|denial_reason_2|denial_reason_3|denial_reason_4|tract_population|tract_minority_population_percent|ffiec_msa_md_median_family_income|tract_to_msa_income_percentage|tract_owner_occupied_units|tract_one_to_four_family_homes|tract_median_age_of_housing_units|\n",
       "+-------------+--------------------+--------------+----------+-----------+------------+---------------------+-------------------------+-------------------------+--------------------+------------------+-----------------+------------+--------------+-----------+---------+------------+-----------+----------------+-----------------------+------------------------------+-----------+----------------------------+-------------+-----------+------------+----------------+---------------------+-------------------+---------------+--------------+---------+-----------------------+-----------------+---------------------+---------------------+---------------+----------------------------+--------------+-------------------+--------------+---------------------------------------+----------------------------------------+-----------+----------------------------+------+--------------------+---------------------------+------------------------------+---------------------+---------------------+---------------------+---------------------+---------------------+------------------------+------------------------+------------------------+------------------------+------------------------+----------------------------+-------------------------------+----------------+----------------+----------------+----------------+----------------+-------------------+-------------------+-------------------+-------------------+-------------------+-----------------------+--------------------------+-------------+----------------+----------------------+-------------------------+-------------+----------------+----------------------+-------------------------+-------------------------+--------------------------------+-----+-----+-----+-----+-----+---------------+---------------+---------------+---------------+----------------+---------------------------------+---------------------------------+------------------------------+--------------------------+------------------------------+---------------------------------+\n",
       "|         2020|549300RBX56T2MW5HO19|         29620|        MI|      26065| 26065003400|                    C|     Conventional:Firs...|     Single Family (1-...|Not Hispanic or L...|             White|            Joint|           1|             0|          2|        1|           1|          1|               2|                      2|                             2|     135000|                        97.0|        3.875|      1.273|           2|           460.0|                   NA|                0.0|           NULL|            NA|      360|                     NA|               NA|                    2|                    2|              2|                           2|        145000|                  1|             1|                                      3|                                       5|          1|                          NA|    65|            30%-<36%|                          2|                             5|                    2|                 NULL|                 NULL|                 NULL|                 NULL|                       2|                    NULL|                    NULL|                    NULL|                    NULL|                           2|                              2|               5|            NULL|            NULL|            NULL|            NULL|                  5|               NULL|               NULL|               NULL|               NULL|                      2|                         2|            1|               2|                     2|                        2|        25-34|           25-34|                    No|                       No|                        1|                               1|    1| NULL| NULL| NULL| NULL|             10|           NULL|           NULL|           NULL|            2253|                            28.72|                            79300|                        109.02|                       773|                           883|                               57|\n",
       "|         2020|549300RBX56T2MW5HO19|         31084|        CA|      06037| 06037108201|                    C|     Conventional:Firs...|     Single Family (1-...|Not Hispanic or L...|             Asian|            Joint|           1|             1|          2|        1|          31|          1|               2|                      2|                             2|     315000|                       36.82|        2.124|     -0.256|           2|          316.13|                   NA|             316.13|           NULL|        316.13|      180|                     NA|               NA|                    2|                    2|              2|                           2|        855000|                  1|             1|                                      3|                                       5|          1|                          NA|   135|            20%-<30%|                          5|                             1|                    2|                 NULL|                 NULL|                 NULL|                 NULL|                       2|                    NULL|                    NULL|                    NULL|                    NULL|                           2|                              2|               2|              25|            NULL|            NULL|            NULL|                  2|                 25|               NULL|               NULL|               NULL|                      2|                         2|            1|               2|                     2|                        2|        45-54|           45-54|                    No|                       No|                        1|                               1|    1| NULL| NULL| NULL| NULL|             10|           NULL|           NULL|           NULL|            5846|                            62.37|                            77300|                        166.05|                      1378|                          1972|                               25|\n",
       "|         2020|549300RBX56T2MW5HO19|         41100|        UT|      49053| 49053270600|                    C|           FHA:First Lien|     Single Family (1-...|Not Hispanic or L...|             White|            Joint|           1|             9|          2|        2|           1|          1|               1|                      2|                             2|     135000|                        55.1|         3.43|         NA|           3|              NA|                   NA|                 NA|             NA|            NA|       NA|                     NA|               NA|                    2|                    2|              2|                           2|        255000|                  1|             1|                                      3|                                       5|          1|                          NA|    NA|                  NA|                          9|                             9|                    2|                 NULL|                 NULL|                 NULL|                 NULL|                       2|                    NULL|                    NULL|                    NULL|                    NULL|                           2|                              2|               5|            NULL|            NULL|            NULL|            NULL|                  5|               NULL|               NULL|               NULL|               NULL|                      2|                         2|            1|               2|                     2|                        2|        65-74|           65-74|                   Yes|                      Yes|                        1|                               1|    6| NULL| NULL| NULL| NULL|             10|           NULL|           NULL|           NULL|            7739|                            15.62|                            70700|                        102.72|                      1803|                          3813|                               19|\n",
       "|         2020|549300RBX56T2MW5HO19|         19740|        CO|      08031| 08031004004|                    C|     Conventional:Firs...|     Single Family (1-...|Not Hispanic or L...|             White|            Joint|           4|             0|          2|        1|          32|          1|               2|                      2|                             2|     405000|                          NA|           NA|         NA|           3|              NA|                   NA|                 NA|             NA|            NA|      240|                     NA|               NA|                    2|                    2|              2|                           2|            NA|                  1|             1|                                      3|                                       5|          1|                          NA|   120|                  NA|                          9|                             9|                    2|                 NULL|                 NULL|                 NULL|                 NULL|                       2|                    NULL|                    NULL|                    NULL|                    NULL|                           2|                              2|               5|            NULL|            NULL|            NULL|            NULL|                  5|               NULL|               NULL|               NULL|               NULL|                      2|                         2|            1|               2|                     2|                        2|        35-44|           35-44|                    No|                       No|                        1|                               1|    6| NULL| NULL| NULL| NULL|             10|           NULL|           NULL|           NULL|            1908|                             8.54|                           100000|                         145.9|                       802|                           760|                               52|\n",
       "|         2020|549300RBX56T2MW5HO19|         17820|        CO|      08041| 08041002501|                    C|     Conventional:Firs...|     Single Family (1-...|Not Hispanic or L...|             White|           Female|           1|             1|          2|        1|           1|          1|               2|                      2|                             2|     435000|                        80.0|          2.5|      -0.39|           2|             0.0|                   NA|                0.0|           NULL|            NA|      360|                     NA|               NA|                    2|                    2|              2|                           2|        565000|                  1|             1|                                      3|                                       5|          1|                          NA|   328|            20%-<30%|                          1|                             2|                    2|                 NULL|                 NULL|                 NULL|                 NULL|                       2|                    NULL|                    NULL|                    NULL|                    NULL|                           2|                              2|               5|            NULL|            NULL|            NULL|            NULL|                  5|               NULL|               NULL|               NULL|               NULL|                      2|                         2|            2|               2|                     2|                        2|        55-64|           55-64|                    No|                       No|                        1|                               1|    1| NULL| NULL| NULL| NULL|             10|           NULL|           NULL|           NULL|            3276|                            11.14|                            81700|                        146.97|                      1163|                          1472|                               45|\n",
       "|         2020|549300RBX56T2MW5HO19|         11244|        CA|      06059| 06059042334|                    C|     Conventional:Firs...|     Single Family (1-...|Not Hispanic or L...|             Asian|            Joint|           1|             1|          2|        1|          31|          1|               2|                      2|                             2|     355000|                       41.29|        2.875|         NA|           2|           120.0|                   NA|                0.0|           NULL|            NA|      180|                     NA|               NA|                    2|                    2|              2|                           2|        855000|                  1|             3|                                      3|                                       5|          1|                          NA|   565|                <20%|                          2|                             1|                    2|                 NULL|                 NULL|                 NULL|                 NULL|                       2|                    NULL|                    NULL|                    NULL|                    NULL|                           2|                              2|               2|            NULL|            NULL|            NULL|            NULL|                  2|               NULL|               NULL|               NULL|               NULL|                      2|                         2|            1|               2|                     2|                        2|        55-64|           55-64|                    No|                       No|                        1|                               1|    1| NULL| NULL| NULL| NULL|             10|           NULL|           NULL|           NULL|            5173|                            36.61|                           103000|                        111.29|                      1440|                          1707|                               31|\n",
       "|         2020|549300RBX56T2MW5HO19|         19740|        CO|      08031| 08031008391|                    C|     Conventional:Firs...|     Single Family (1-...|Not Hispanic or L...|             White|            Joint|           1|             3|          2|        1|          31|          1|               2|                      2|                             2|     265000|                       74.28|          3.0|      0.231|           2|           120.0|                   NA|                0.0|           NULL|            NA|      360|                     NA|               NA|                    2|                    2|              2|                           2|        355000|                  1|             1|                                      3|                                       5|          1|                          NA|    57|                  39|                          5|                             1|                    2|                 NULL|                 NULL|                 NULL|                 NULL|                       2|                    NULL|                    NULL|                    NULL|                    NULL|                           2|                              2|               5|            NULL|            NULL|            NULL|            NULL|                  5|               NULL|               NULL|               NULL|               NULL|                      2|                         2|            1|               2|                     2|                        2|        65-74|           65-74|                   Yes|                      Yes|                        1|                               1|    2| NULL| NULL| NULL| NULL|             10|           NULL|           NULL|           NULL|            8352|                            80.24|                           100000|                         89.96|                      1769|                          2423|                               16|\n",
       "|         2020|549300RBX56T2MW5HO19|         41740|        CA|      06073| 06073018504|                    C|     Conventional:Firs...|     Single Family (1-...|Not Hispanic or L...|             White|            Joint|           1|             1|          2|        1|          31|          1|               2|                      2|                             2|     485000|                       48.98|        2.249|     -0.151|           2|          1862.4|                   NA|             1862.4|           NULL|        1862.4|      180|                     NA|               NA|                    2|                    2|              2|                           2|        995000|                  1|             1|                                      3|                                       5|          1|                          NA|   171|                  44|                          1|                             1|                    2|                 NULL|                 NULL|                 NULL|                 NULL|                       2|                    NULL|                    NULL|                    NULL|                    NULL|                           2|                              2|               5|            NULL|            NULL|            NULL|            NULL|                  5|               NULL|               NULL|               NULL|               NULL|                      2|                         2|            1|               2|                     2|                        2|        55-64|           55-64|                    No|                       No|                        1|                               1|    1| NULL| NULL| NULL| NULL|             10|           NULL|           NULL|           NULL|            6972|                            40.72|                            92700|                         91.47|                      1399|                          2302|                               38|\n",
       "|         2020|549300RBX56T2MW5HO19|         24540|        CO|      08123| 08123002102|                    C|     Conventional:Firs...|     Single Family (1-...|Not Hispanic or L...|             White|            Joint|           1|             3|          2|        1|          31|          1|               2|                      2|                             2|     345000|                        95.0|        2.875|      0.395|           2|           745.0|                   NA|              625.0|           NULL|         625.0|      360|                     NA|               NA|                    2|                    2|              2|                           2|        365000|                  1|             1|                                      3|                                       5|          1|                          NA|   157|            20%-<30%|                          5|                             5|                    2|                 NULL|                 NULL|                 NULL|                 NULL|                       2|                    NULL|                    NULL|                    NULL|                    NULL|                           2|                              2|               5|            NULL|            NULL|            NULL|            NULL|                  5|               NULL|               NULL|               NULL|               NULL|                      2|                         2|            1|               2|                     2|                        2|        25-34|           25-34|                    No|                       No|                        1|                               1|    2| NULL| NULL| NULL| NULL|             10|           NULL|           NULL|           NULL|           12241|                            16.27|                            84300|                        121.98|                      3708|                          4169|                               13|\n",
       "|         2020|549300RBX56T2MW5HO19|         16984|        IL|      17043| 17043846202|                    C|     Conventional:Firs...|     Single Family (1-...|Not Hispanic or L...|             White|            Joint|           1|             1|          2|        1|          32|          1|               2|                      2|                             2|     475000|                       74.48|          3.0|      0.237|           2|           520.0|                   NA|              400.0|           NULL|         400.0|      360|                     NA|               NA|                    2|                    2|              2|                           2|        635000|                  1|             1|                                      3|                                       5|          1|                          NA|   285|            20%-<30%|                          1|                             1|                    2|                 NULL|                 NULL|                 NULL|                 NULL|                       2|                    NULL|                    NULL|                    NULL|                    NULL|                           2|                              2|               5|            NULL|            NULL|            NULL|            NULL|                  5|               NULL|               NULL|               NULL|               NULL|                      2|                         2|            1|               2|                     2|                        2|        35-44|           35-44|                    No|                       No|                        1|                               1|    1| NULL| NULL| NULL| NULL|             10|           NULL|           NULL|           NULL|            5965|                            34.64|                            84800|                        139.42|                      1372|                          1363|                               33|\n",
       "|         2020|549300RBX56T2MW5HO19|         38900|        OR|      41051| 41051004001|                    C|     Conventional:Firs...|     Single Family (1-...|Not Hispanic or L...|             White|            Joint|           1|             3|          2|        1|          31|          1|               2|                      2|                             2|     365000|                       78.91|        2.875|      0.081|           2|          7300.0|                   NA|             7260.0|           NULL|        7260.0|      360|                     NA|               NA|                    2|                    2|              2|                           2|        465000|                  1|             1|                                      3|                                       5|          1|                          NA|   136|            20%-<30%|                          5|                             1|                    2|                 NULL|                 NULL|                 NULL|                 NULL|                       2|                    NULL|                    NULL|                    NULL|                    NULL|                           2|                              2|               5|            NULL|            NULL|            NULL|            NULL|                  5|               NULL|               NULL|               NULL|               NULL|                      2|                         2|            2|               1|                     2|                        2|        25-34|           25-34|                    No|                       No|                        2|                               1|    2| NULL| NULL| NULL| NULL|             10|           NULL|           NULL|           NULL|            8486|                            54.63|                            92100|                         55.64|                      1070|                          2164|                               40|\n",
       "|         2020|549300RBX56T2MW5HO19|         23224|        MD|      24031| 24031700706|                    C|     Conventional:Firs...|     Single Family (1-...|Ethnicity Not Ava...|Race Not Available|Sex Not Available|           5|             0|          2|        1|          31|          1|               2|                      2|                             2|     455000|                          NA|           NA|         NA|           3|              NA|                   NA|                 NA|             NA|            NA|      360|                     NA|               NA|                    2|                    2|              2|                           2|            NA|                  1|             1|                                      3|                                       5|          1|                          NA|    75|                  NA|                          9|                             9|                    3|                 NULL|                 NULL|                 NULL|                 NULL|                       3|                    NULL|                    NULL|                    NULL|                    NULL|                           2|                              2|               6|            NULL|            NULL|            NULL|            NULL|                  6|               NULL|               NULL|               NULL|               NULL|                      2|                         2|            3|               3|                     2|                        2|        45-54|           55-64|                    No|                       No|                        1|                               1|    1| NULL| NULL| NULL| NULL|             10|           NULL|           NULL|           NULL|            4154|                            70.58|                           124400|                         70.37|                       623|                           719|                               36|\n",
       "|         2020|549300RBX56T2MW5HO19|         19740|        CO|      08031| 08031012014|                    C|     Conventional:Firs...|     Single Family (1-...|Ethnicity Not Ava...|Race Not Available|            Joint|           1|             1|          2|        1|          31|          1|               2|                      2|                             2|     275000|                        90.0|        3.125|      0.512|           2|           856.0|                   NA|                0.0|           NULL|            NA|      360|                     NA|               NA|                    2|                    2|              2|                           2|        305000|                  1|             1|                                      3|                                       5|          1|                          NA|    91|            30%-<36%|                          2|                             2|                    3|                 NULL|                 NULL|                 NULL|                 NULL|                       3|                    NULL|                    NULL|                    NULL|                    NULL|                           2|                              2|               6|            NULL|            NULL|            NULL|            NULL|                  6|               NULL|               NULL|               NULL|               NULL|                      2|                         2|            1|               2|                     2|                        2|        65-74|           55-64|                   Yes|                      Yes|                        1|                               1|    1| NULL| NULL| NULL| NULL|             10|           NULL|           NULL|           NULL|            6321|                            31.21|                           100000|                          89.3|                      1671|                          1673|                               29|\n",
       "|         2020|549300RBX56T2MW5HO19|         37100|        CA|      06111| 06111008202|                    C|           FHA:First Lien|     Single Family (1-...|Not Hispanic or L...|             White|            Joint|           4|             0|          2|        2|          31|          1|               1|                      2|                             2|     395000|                          NA|           NA|         NA|           3|              NA|                   NA|                 NA|             NA|            NA|       NA|                     NA|               NA|                    2|                    2|              2|                           2|            NA|                  1|             1|                                      3|                                       5|          1|                          NA|    NA|                  NA|                          9|                             9|                    2|                 NULL|                 NULL|                 NULL|                 NULL|                       2|                    NULL|                    NULL|                    NULL|                    NULL|                           2|                              2|               5|            NULL|            NULL|            NULL|            NULL|                  5|               NULL|               NULL|               NULL|               NULL|                      2|                         2|            1|               2|                     2|                        2|        65-74|           65-74|                   Yes|                      Yes|                        1|                               1|    6| NULL| NULL| NULL| NULL|             10|           NULL|           NULL|           NULL|            4762|                            43.55|                            97800|                         88.04|                      1147|                          1444|                               42|\n",
       "|         2020|549300RBX56T2MW5HO19|         19124|        TX|      48121| 48121021405|                    C|     Conventional:Firs...|     Single Family (1-...|Ethnicity Not Ava...|Race Not Available|            Joint|           1|             1|          2|        1|           1|          1|               2|                      2|                             2|     255000|                        80.0|        2.875|      0.058|           2|           120.0|                   NA|                0.0|           NULL|            NA|      360|                     NA|               NA|                    2|                    2|              2|                           2|        315000|                  1|             1|                                      3|                                       5|          1|                          NA|   172|            20%-<30%|                          1|                             5|                    3|                 NULL|                 NULL|                 NULL|                 NULL|                       2|                    NULL|                    NULL|                    NULL|                    NULL|                           2|                              2|               6|            NULL|            NULL|            NULL|            NULL|                  5|               NULL|               NULL|               NULL|               NULL|                      2|                         2|            1|               2|                     2|                        2|        25-34|           25-34|                    No|                       No|                        1|                               1|    1| NULL| NULL| NULL| NULL|             10|           NULL|           NULL|           NULL|            9821|                            41.82|                            86200|                        114.01|                      1924|                          2957|                               12|\n",
       "|         2020|549300RBX56T2MW5HO19|         41940|        CA|      06085| 06085512033|                    C|     Conventional:Firs...|     Single Family (1-...|Ethnicity Not Ava...|Race Not Available|Sex Not Available|           1|             1|          2|        1|          31|          1|               2|                      2|                             2|     495000|                       59.36|          2.5|     -0.288|           2|           120.0|                   NA|                0.0|           NULL|            NA|      360|                     NA|               NA|                    2|                    2|              2|                           2|        845000|                  1|             1|                                      3|                                       5|          1|                          NA|   170|                  39|                          5|                             1|                    3|                 NULL|                 NULL|                 NULL|                 NULL|                       3|                    NULL|                    NULL|                    NULL|                    NULL|                           2|                              2|               6|            NULL|            NULL|            NULL|            NULL|                  6|               NULL|               NULL|               NULL|               NULL|                      2|                         2|            3|               3|                     2|                        2|        55-64|           45-54|                    No|                       No|                        1|                               1|    1| NULL| NULL| NULL| NULL|             10|           NULL|           NULL|           NULL|            6640|                            58.31|                           139800|                        107.44|                      1389|                          1789|                               40|\n",
       "|         2020|549300RBX56T2MW5HO19|         99999|        WA|      53075| 53075000700|                    C|     Conventional:Firs...|     Single Family (1-...|Not Hispanic or L...|             White|            Joint|           1|             1|          2|        1|          31|          1|               2|                      2|                             2|     355000|                        70.0|         2.75|      0.006|           2|          8375.0|                   NA|             8375.0|           NULL|        8375.0|      360|                     NA|               NA|                    2|                    2|              2|                           2|        505000|                  1|             1|                                      3|                                       5|          1|                          NA|   107|            20%-<30%|                          2|                             5|                    2|                 NULL|                 NULL|                 NULL|                 NULL|                       2|                    NULL|                    NULL|                    NULL|                    NULL|                           2|                              2|               5|            NULL|            NULL|            NULL|            NULL|                  5|               NULL|               NULL|               NULL|               NULL|                      2|                         2|            1|               2|                     2|                        2|        25-34|           25-34|                    No|                       No|                        2|                               1|    1| NULL| NULL| NULL| NULL|             10|           NULL|           NULL|           NULL|            3593|                             6.21|                            65500|                         106.0|                      1137|                          1705|                               68|\n",
       "|         2020|549300RBX56T2MW5HO19|         41884|        CA|      06075| 06075030700|                    C|     Conventional:Firs...|     Single Family (1-...|Not Hispanic or L...|             White|            Joint|           1|             1|          2|        1|          31|          1|               2|                      2|                             2|     405000|                       28.15|        2.125|      -0.29|           2|          1606.0|                   NA|              711.0|           NULL|         711.0|      180|                     NA|               NA|                    2|                    2|              2|                           2|       1435000|                  1|             1|                                      3|                                       5|          1|                          NA|   215|                  38|                          5|                             2|                    2|                 NULL|                 NULL|                 NULL|                 NULL|                       2|                    NULL|                    NULL|                    NULL|                    NULL|                           2|                              2|               5|            NULL|            NULL|            NULL|            NULL|                  5|               NULL|               NULL|               NULL|               NULL|                      2|                         2|            1|               2|                     2|                        2|        55-64|           45-54|                    No|                       No|                        1|                               1|    1| NULL| NULL| NULL| NULL|             10|           NULL|           NULL|           NULL|            6952|                            49.08|                           140900|                        126.75|                      2141|                          2792|                               63|\n",
       "|         2020|549300RBX56T2MW5HO19|         42644|        WA|      53033| 53033005700|                    C|     Conventional:Firs...|     Single Family (1-...|Not Hispanic or L...|             White|            Joint|           1|             3|          2|        1|          31|          1|               2|                      2|                             2|     685000|                       74.83|        2.875|      0.049|           2|           801.0|                   NA|              681.0|           NULL|         681.0|      360|                     NA|               NA|                    2|                    2|              2|                           2|        915000|                  1|             1|                                      3|                                       5|          1|                          NA|   185|            20%-<30%|                          2|                             1|                    2|                 NULL|                 NULL|                 NULL|                 NULL|                       2|                    NULL|                    NULL|                    NULL|                    NULL|                           2|                              2|               5|            NULL|            NULL|            NULL|            NULL|                  5|               NULL|               NULL|               NULL|               NULL|                      2|                         2|            1|               2|                     2|                        2|        35-44|           25-34|                    No|                       No|                        1|                               1|    2| NULL| NULL| NULL| NULL|             10|           NULL|           NULL|           NULL|            6633|                            17.04|                           113300|                        116.34|                      1737|                          2411|                               63|\n",
       "|         2020|549300RBX56T2MW5HO19|         20994|        IL|      17093| 17093890400|                    C|     Conventional:Firs...|     Single Family (1-...|Not Hispanic or L...|             White|            Joint|           1|             1|          2|        1|          32|          1|               2|                      2|                             2|     185000|                       66.78|        3.125|       0.89|           2|           570.0|                   NA|                0.0|           NULL|            NA|      180|                     NA|               NA|                    2|                    2|              2|                           2|        285000|                  1|             1|                                      3|                                       5|          1|                          NA|    65|                  38|                          1|                             2|                    2|                 NULL|                 NULL|                 NULL|                 NULL|                       2|                    NULL|                    NULL|                    NULL|                    NULL|                           2|                              2|               5|            NULL|            NULL|            NULL|            NULL|                  5|               NULL|               NULL|               NULL|               NULL|                      2|                         2|            1|               2|                     2|                        2|        55-64|           55-64|                   Yes|                       No|                        1|                               1|    1| NULL| NULL| NULL| NULL|             10|           NULL|           NULL|           NULL|           27626|                            26.05|                            92900|                        121.42|                      7369|                          8696|                               12|\n",
       "+-------------+--------------------+--------------+----------+-----------+------------+---------------------+-------------------------+-------------------------+--------------------+------------------+-----------------+------------+--------------+-----------+---------+------------+-----------+----------------+-----------------------+------------------------------+-----------+----------------------------+-------------+-----------+------------+----------------+---------------------+-------------------+---------------+--------------+---------+-----------------------+-----------------+---------------------+---------------------+---------------+----------------------------+--------------+-------------------+--------------+---------------------------------------+----------------------------------------+-----------+----------------------------+------+--------------------+---------------------------+------------------------------+---------------------+---------------------+---------------------+---------------------+---------------------+------------------------+------------------------+------------------------+------------------------+------------------------+----------------------------+-------------------------------+----------------+----------------+----------------+----------------+----------------+-------------------+-------------------+-------------------+-------------------+-------------------+-----------------------+--------------------------+-------------+----------------+----------------------+-------------------------+-------------+----------------+----------------------+-------------------------+-------------------------+--------------------------------+-----+-----+-----+-----+-----+---------------+---------------+---------------+---------------+----------------+---------------------------------+---------------------------------+------------------------------+--------------------------+------------------------------+---------------------------------+\n",
       "only showing top 20 rows"
      ]
     },
     "execution_count": 6,
     "metadata": {},
     "output_type": "execute_result"
    }
   ],
   "source": [
    "df"
   ]
  },
  {
   "cell_type": "code",
   "execution_count": 7,
   "id": "20557553-7dac-4b43-be1d-6a7074994361",
   "metadata": {},
   "outputs": [
    {
     "name": "stderr",
     "output_type": "stream",
     "text": [
      "                                                                                \r"
     ]
    }
   ],
   "source": [
    "total_rows = df.count()"
   ]
  },
  {
   "cell_type": "code",
   "execution_count": 8,
   "id": "5ea9d1ce-aa20-40a0-a30b-6a0c03919bd7",
   "metadata": {},
   "outputs": [
    {
     "data": {
      "text/plain": [
       "25699043"
      ]
     },
     "execution_count": 8,
     "metadata": {},
     "output_type": "execute_result"
    }
   ],
   "source": [
    "total_rows"
   ]
  },
  {
   "cell_type": "code",
   "execution_count": 9,
   "id": "2d0675ab-f72b-470a-891f-270554170b33",
   "metadata": {},
   "outputs": [
    {
     "data": {
      "text/plain": [
       "['activity_year',\n",
       " 'lei',\n",
       " 'derived_msa_md',\n",
       " 'state_code',\n",
       " 'county_code',\n",
       " 'census_tract',\n",
       " 'conforming_loan_limit',\n",
       " 'derived_loan_product_type',\n",
       " 'derived_dwelling_category',\n",
       " 'derived_ethnicity',\n",
       " 'derived_race',\n",
       " 'derived_sex',\n",
       " 'action_taken',\n",
       " 'purchaser_type',\n",
       " 'preapproval',\n",
       " 'loan_type',\n",
       " 'loan_purpose',\n",
       " 'lien_status',\n",
       " 'reverse_mortgage',\n",
       " 'open_end_line_of_credit',\n",
       " 'business_or_commercial_purpose',\n",
       " 'loan_amount',\n",
       " 'combined_loan_to_value_ratio',\n",
       " 'interest_rate',\n",
       " 'rate_spread',\n",
       " 'hoepa_status',\n",
       " 'total_loan_costs',\n",
       " 'total_points_and_fees',\n",
       " 'origination_charges',\n",
       " 'discount_points',\n",
       " 'lender_credits',\n",
       " 'loan_term',\n",
       " 'prepayment_penalty_term',\n",
       " 'intro_rate_period',\n",
       " 'negative_amortization',\n",
       " 'interest_only_payment',\n",
       " 'balloon_payment',\n",
       " 'other_nonamortizing_features',\n",
       " 'property_value',\n",
       " 'construction_method',\n",
       " 'occupancy_type',\n",
       " 'manufactured_home_secured_property_type',\n",
       " 'manufactured_home_land_property_interest',\n",
       " 'total_units',\n",
       " 'multifamily_affordable_units',\n",
       " 'income',\n",
       " 'debt_to_income_ratio',\n",
       " 'applicant_credit_score_type',\n",
       " 'co_applicant_credit_score_type',\n",
       " 'applicant_ethnicity_1',\n",
       " 'applicant_ethnicity_2',\n",
       " 'applicant_ethnicity_3',\n",
       " 'applicant_ethnicity_4',\n",
       " 'applicant_ethnicity_5',\n",
       " 'co_applicant_ethnicity_1',\n",
       " 'co_applicant_ethnicity_2',\n",
       " 'co_applicant_ethnicity_3',\n",
       " 'co_applicant_ethnicity_4',\n",
       " 'co_applicant_ethnicity_5',\n",
       " 'applicant_ethnicity_observed',\n",
       " 'co_applicant_ethnicity_observed',\n",
       " 'applicant_race_1',\n",
       " 'applicant_race_2',\n",
       " 'applicant_race_3',\n",
       " 'applicant_race_4',\n",
       " 'applicant_race_5',\n",
       " 'co_applicant_race_1',\n",
       " 'co_applicant_race_2',\n",
       " 'co_applicant_race_3',\n",
       " 'co_applicant_race_4',\n",
       " 'co_applicant_race_5',\n",
       " 'applicant_race_observed',\n",
       " 'co_applicant_race_observed',\n",
       " 'applicant_sex',\n",
       " 'co_applicant_sex',\n",
       " 'applicant_sex_observed',\n",
       " 'co_applicant_sex_observed',\n",
       " 'applicant_age',\n",
       " 'co_applicant_age',\n",
       " 'applicant_age_above_62',\n",
       " 'co_applicant_age_above_62',\n",
       " 'submission_of_application',\n",
       " 'initially_payable_to_institution',\n",
       " 'aus_1',\n",
       " 'aus_2',\n",
       " 'aus_3',\n",
       " 'aus_4',\n",
       " 'aus_5',\n",
       " 'denial_reason_1',\n",
       " 'denial_reason_2',\n",
       " 'denial_reason_3',\n",
       " 'denial_reason_4',\n",
       " 'tract_population',\n",
       " 'tract_minority_population_percent',\n",
       " 'ffiec_msa_md_median_family_income',\n",
       " 'tract_to_msa_income_percentage',\n",
       " 'tract_owner_occupied_units',\n",
       " 'tract_one_to_four_family_homes',\n",
       " 'tract_median_age_of_housing_units']"
      ]
     },
     "execution_count": 9,
     "metadata": {},
     "output_type": "execute_result"
    }
   ],
   "source": [
    "df.columns"
   ]
  },
  {
   "cell_type": "code",
   "execution_count": 10,
   "id": "62b9278a-9995-42cc-a0c7-ed54f6985cc3",
   "metadata": {},
   "outputs": [],
   "source": [
    "# sample subset for local machine\n",
    "fraction = 10000/total_rows\n",
    "df = df.sample(fraction=fraction, withReplacement=False)"
   ]
  },
  {
   "cell_type": "markdown",
   "id": "5bb7ebf1-e896-41f0-a76b-ed21c14f7a84",
   "metadata": {},
   "source": [
    "### 2. Feature Selection"
   ]
  },
  {
   "cell_type": "code",
   "execution_count": 10,
   "id": "adb9df7a-c334-4852-9570-59ff3c0c4dc4",
   "metadata": {},
   "outputs": [],
   "source": [
    "loan_details_df = df.select(\"activity_year\", \"lei\", \"loan_type\",\"loan_purpose\", \"loan_amount\", \"interest_rate\",\"loan_term\", \"action_taken\")\n",
    "borrower_details_df = df.select(\"income\",\"applicant_age\",\"applicant_sex\", \"applicant_credit_score_type\", \"co_applicant_age\", \"co_applicant_credit_score_type\")\n",
    "property_details_df = df.select(\"derived_msa_md\", \"state_code\", \"county_code\", \"property_value\", \"total_units\", \"occupancy_type\")\n"
   ]
  },
  {
   "cell_type": "code",
   "execution_count": 11,
   "id": "32c4144c-b449-4d6c-9bf7-53ffd4cfad77",
   "metadata": {},
   "outputs": [],
   "source": [
    "columns = loan_details_df.columns + borrower_details_df.columns + property_details_df.columns"
   ]
  },
  {
   "cell_type": "code",
   "execution_count": 12,
   "id": "9b715772-b94e-4900-846c-653992b920d9",
   "metadata": {},
   "outputs": [
    {
     "data": {
      "text/plain": [
       "20"
      ]
     },
     "execution_count": 12,
     "metadata": {},
     "output_type": "execute_result"
    }
   ],
   "source": [
    "len(columns)"
   ]
  },
  {
   "cell_type": "code",
   "execution_count": 13,
   "id": "bb1f0870-2093-424e-8c5d-8a65eb90f04a",
   "metadata": {},
   "outputs": [],
   "source": [
    "df = df.select(columns)"
   ]
  },
  {
   "cell_type": "code",
   "execution_count": 14,
   "id": "9c619652-e56a-47b2-b5c8-caf79be9b922",
   "metadata": {},
   "outputs": [
    {
     "data": {
      "text/html": [
       "<table border='1'>\n",
       "<tr><th>activity_year</th><th>lei</th><th>loan_type</th><th>loan_purpose</th><th>loan_amount</th><th>interest_rate</th><th>loan_term</th><th>action_taken</th><th>income</th><th>applicant_age</th><th>applicant_sex</th><th>applicant_credit_score_type</th><th>co_applicant_age</th><th>co_applicant_credit_score_type</th><th>derived_msa_md</th><th>state_code</th><th>county_code</th><th>property_value</th><th>total_units</th><th>occupancy_type</th></tr>\n",
       "<tr><td>2020</td><td>549300RBX56T2MW5HO19</td><td>1</td><td>1</td><td>135000</td><td>3.875</td><td>360</td><td>1</td><td>65</td><td>25-34</td><td>1</td><td>2</td><td>25-34</td><td>5</td><td>29620</td><td>MI</td><td>26065</td><td>145000</td><td>1</td><td>1</td></tr>\n",
       "<tr><td>2020</td><td>549300RBX56T2MW5HO19</td><td>1</td><td>31</td><td>315000</td><td>2.124</td><td>180</td><td>1</td><td>135</td><td>45-54</td><td>1</td><td>5</td><td>45-54</td><td>1</td><td>31084</td><td>CA</td><td>06037</td><td>855000</td><td>1</td><td>1</td></tr>\n",
       "<tr><td>2020</td><td>549300RBX56T2MW5HO19</td><td>2</td><td>1</td><td>135000</td><td>3.43</td><td>NA</td><td>1</td><td>NA</td><td>65-74</td><td>1</td><td>9</td><td>65-74</td><td>9</td><td>41100</td><td>UT</td><td>49053</td><td>255000</td><td>1</td><td>1</td></tr>\n",
       "<tr><td>2020</td><td>549300RBX56T2MW5HO19</td><td>1</td><td>32</td><td>405000</td><td>NA</td><td>240</td><td>4</td><td>120</td><td>35-44</td><td>1</td><td>9</td><td>35-44</td><td>9</td><td>19740</td><td>CO</td><td>08031</td><td>NA</td><td>1</td><td>1</td></tr>\n",
       "<tr><td>2020</td><td>549300RBX56T2MW5HO19</td><td>1</td><td>1</td><td>435000</td><td>2.5</td><td>360</td><td>1</td><td>328</td><td>55-64</td><td>2</td><td>1</td><td>55-64</td><td>2</td><td>17820</td><td>CO</td><td>08041</td><td>565000</td><td>1</td><td>1</td></tr>\n",
       "<tr><td>2020</td><td>549300RBX56T2MW5HO19</td><td>1</td><td>31</td><td>355000</td><td>2.875</td><td>180</td><td>1</td><td>565</td><td>55-64</td><td>1</td><td>2</td><td>55-64</td><td>1</td><td>11244</td><td>CA</td><td>06059</td><td>855000</td><td>1</td><td>3</td></tr>\n",
       "<tr><td>2020</td><td>549300RBX56T2MW5HO19</td><td>1</td><td>31</td><td>265000</td><td>3.0</td><td>360</td><td>1</td><td>57</td><td>65-74</td><td>1</td><td>5</td><td>65-74</td><td>1</td><td>19740</td><td>CO</td><td>08031</td><td>355000</td><td>1</td><td>1</td></tr>\n",
       "<tr><td>2020</td><td>549300RBX56T2MW5HO19</td><td>1</td><td>31</td><td>485000</td><td>2.249</td><td>180</td><td>1</td><td>171</td><td>55-64</td><td>1</td><td>1</td><td>55-64</td><td>1</td><td>41740</td><td>CA</td><td>06073</td><td>995000</td><td>1</td><td>1</td></tr>\n",
       "<tr><td>2020</td><td>549300RBX56T2MW5HO19</td><td>1</td><td>31</td><td>345000</td><td>2.875</td><td>360</td><td>1</td><td>157</td><td>25-34</td><td>1</td><td>5</td><td>25-34</td><td>5</td><td>24540</td><td>CO</td><td>08123</td><td>365000</td><td>1</td><td>1</td></tr>\n",
       "<tr><td>2020</td><td>549300RBX56T2MW5HO19</td><td>1</td><td>32</td><td>475000</td><td>3.0</td><td>360</td><td>1</td><td>285</td><td>35-44</td><td>1</td><td>1</td><td>35-44</td><td>1</td><td>16984</td><td>IL</td><td>17043</td><td>635000</td><td>1</td><td>1</td></tr>\n",
       "<tr><td>2020</td><td>549300RBX56T2MW5HO19</td><td>1</td><td>31</td><td>365000</td><td>2.875</td><td>360</td><td>1</td><td>136</td><td>25-34</td><td>2</td><td>5</td><td>25-34</td><td>1</td><td>38900</td><td>OR</td><td>41051</td><td>465000</td><td>1</td><td>1</td></tr>\n",
       "<tr><td>2020</td><td>549300RBX56T2MW5HO19</td><td>1</td><td>31</td><td>455000</td><td>NA</td><td>360</td><td>5</td><td>75</td><td>45-54</td><td>3</td><td>9</td><td>55-64</td><td>9</td><td>23224</td><td>MD</td><td>24031</td><td>NA</td><td>1</td><td>1</td></tr>\n",
       "<tr><td>2020</td><td>549300RBX56T2MW5HO19</td><td>1</td><td>31</td><td>275000</td><td>3.125</td><td>360</td><td>1</td><td>91</td><td>65-74</td><td>1</td><td>2</td><td>55-64</td><td>2</td><td>19740</td><td>CO</td><td>08031</td><td>305000</td><td>1</td><td>1</td></tr>\n",
       "<tr><td>2020</td><td>549300RBX56T2MW5HO19</td><td>2</td><td>31</td><td>395000</td><td>NA</td><td>NA</td><td>4</td><td>NA</td><td>65-74</td><td>1</td><td>9</td><td>65-74</td><td>9</td><td>37100</td><td>CA</td><td>06111</td><td>NA</td><td>1</td><td>1</td></tr>\n",
       "<tr><td>2020</td><td>549300RBX56T2MW5HO19</td><td>1</td><td>1</td><td>255000</td><td>2.875</td><td>360</td><td>1</td><td>172</td><td>25-34</td><td>1</td><td>1</td><td>25-34</td><td>5</td><td>19124</td><td>TX</td><td>48121</td><td>315000</td><td>1</td><td>1</td></tr>\n",
       "<tr><td>2020</td><td>549300RBX56T2MW5HO19</td><td>1</td><td>31</td><td>495000</td><td>2.5</td><td>360</td><td>1</td><td>170</td><td>55-64</td><td>3</td><td>5</td><td>45-54</td><td>1</td><td>41940</td><td>CA</td><td>06085</td><td>845000</td><td>1</td><td>1</td></tr>\n",
       "<tr><td>2020</td><td>549300RBX56T2MW5HO19</td><td>1</td><td>31</td><td>355000</td><td>2.75</td><td>360</td><td>1</td><td>107</td><td>25-34</td><td>1</td><td>2</td><td>25-34</td><td>5</td><td>99999</td><td>WA</td><td>53075</td><td>505000</td><td>1</td><td>1</td></tr>\n",
       "<tr><td>2020</td><td>549300RBX56T2MW5HO19</td><td>1</td><td>31</td><td>405000</td><td>2.125</td><td>180</td><td>1</td><td>215</td><td>55-64</td><td>1</td><td>5</td><td>45-54</td><td>2</td><td>41884</td><td>CA</td><td>06075</td><td>1435000</td><td>1</td><td>1</td></tr>\n",
       "<tr><td>2020</td><td>549300RBX56T2MW5HO19</td><td>1</td><td>31</td><td>685000</td><td>2.875</td><td>360</td><td>1</td><td>185</td><td>35-44</td><td>1</td><td>2</td><td>25-34</td><td>1</td><td>42644</td><td>WA</td><td>53033</td><td>915000</td><td>1</td><td>1</td></tr>\n",
       "<tr><td>2020</td><td>549300RBX56T2MW5HO19</td><td>1</td><td>32</td><td>185000</td><td>3.125</td><td>180</td><td>1</td><td>65</td><td>55-64</td><td>1</td><td>1</td><td>55-64</td><td>2</td><td>20994</td><td>IL</td><td>17093</td><td>285000</td><td>1</td><td>1</td></tr>\n",
       "</table>\n",
       "only showing top 20 rows\n"
      ],
      "text/plain": [
       "+-------------+--------------------+---------+------------+-----------+-------------+---------+------------+------+-------------+-------------+---------------------------+----------------+------------------------------+--------------+----------+-----------+--------------+-----------+--------------+\n",
       "|activity_year|                 lei|loan_type|loan_purpose|loan_amount|interest_rate|loan_term|action_taken|income|applicant_age|applicant_sex|applicant_credit_score_type|co_applicant_age|co_applicant_credit_score_type|derived_msa_md|state_code|county_code|property_value|total_units|occupancy_type|\n",
       "+-------------+--------------------+---------+------------+-----------+-------------+---------+------------+------+-------------+-------------+---------------------------+----------------+------------------------------+--------------+----------+-----------+--------------+-----------+--------------+\n",
       "|         2020|549300RBX56T2MW5HO19|        1|           1|     135000|        3.875|      360|           1|    65|        25-34|            1|                          2|           25-34|                             5|         29620|        MI|      26065|        145000|          1|             1|\n",
       "|         2020|549300RBX56T2MW5HO19|        1|          31|     315000|        2.124|      180|           1|   135|        45-54|            1|                          5|           45-54|                             1|         31084|        CA|      06037|        855000|          1|             1|\n",
       "|         2020|549300RBX56T2MW5HO19|        2|           1|     135000|         3.43|       NA|           1|    NA|        65-74|            1|                          9|           65-74|                             9|         41100|        UT|      49053|        255000|          1|             1|\n",
       "|         2020|549300RBX56T2MW5HO19|        1|          32|     405000|           NA|      240|           4|   120|        35-44|            1|                          9|           35-44|                             9|         19740|        CO|      08031|            NA|          1|             1|\n",
       "|         2020|549300RBX56T2MW5HO19|        1|           1|     435000|          2.5|      360|           1|   328|        55-64|            2|                          1|           55-64|                             2|         17820|        CO|      08041|        565000|          1|             1|\n",
       "|         2020|549300RBX56T2MW5HO19|        1|          31|     355000|        2.875|      180|           1|   565|        55-64|            1|                          2|           55-64|                             1|         11244|        CA|      06059|        855000|          1|             3|\n",
       "|         2020|549300RBX56T2MW5HO19|        1|          31|     265000|          3.0|      360|           1|    57|        65-74|            1|                          5|           65-74|                             1|         19740|        CO|      08031|        355000|          1|             1|\n",
       "|         2020|549300RBX56T2MW5HO19|        1|          31|     485000|        2.249|      180|           1|   171|        55-64|            1|                          1|           55-64|                             1|         41740|        CA|      06073|        995000|          1|             1|\n",
       "|         2020|549300RBX56T2MW5HO19|        1|          31|     345000|        2.875|      360|           1|   157|        25-34|            1|                          5|           25-34|                             5|         24540|        CO|      08123|        365000|          1|             1|\n",
       "|         2020|549300RBX56T2MW5HO19|        1|          32|     475000|          3.0|      360|           1|   285|        35-44|            1|                          1|           35-44|                             1|         16984|        IL|      17043|        635000|          1|             1|\n",
       "|         2020|549300RBX56T2MW5HO19|        1|          31|     365000|        2.875|      360|           1|   136|        25-34|            2|                          5|           25-34|                             1|         38900|        OR|      41051|        465000|          1|             1|\n",
       "|         2020|549300RBX56T2MW5HO19|        1|          31|     455000|           NA|      360|           5|    75|        45-54|            3|                          9|           55-64|                             9|         23224|        MD|      24031|            NA|          1|             1|\n",
       "|         2020|549300RBX56T2MW5HO19|        1|          31|     275000|        3.125|      360|           1|    91|        65-74|            1|                          2|           55-64|                             2|         19740|        CO|      08031|        305000|          1|             1|\n",
       "|         2020|549300RBX56T2MW5HO19|        2|          31|     395000|           NA|       NA|           4|    NA|        65-74|            1|                          9|           65-74|                             9|         37100|        CA|      06111|            NA|          1|             1|\n",
       "|         2020|549300RBX56T2MW5HO19|        1|           1|     255000|        2.875|      360|           1|   172|        25-34|            1|                          1|           25-34|                             5|         19124|        TX|      48121|        315000|          1|             1|\n",
       "|         2020|549300RBX56T2MW5HO19|        1|          31|     495000|          2.5|      360|           1|   170|        55-64|            3|                          5|           45-54|                             1|         41940|        CA|      06085|        845000|          1|             1|\n",
       "|         2020|549300RBX56T2MW5HO19|        1|          31|     355000|         2.75|      360|           1|   107|        25-34|            1|                          2|           25-34|                             5|         99999|        WA|      53075|        505000|          1|             1|\n",
       "|         2020|549300RBX56T2MW5HO19|        1|          31|     405000|        2.125|      180|           1|   215|        55-64|            1|                          5|           45-54|                             2|         41884|        CA|      06075|       1435000|          1|             1|\n",
       "|         2020|549300RBX56T2MW5HO19|        1|          31|     685000|        2.875|      360|           1|   185|        35-44|            1|                          2|           25-34|                             1|         42644|        WA|      53033|        915000|          1|             1|\n",
       "|         2020|549300RBX56T2MW5HO19|        1|          32|     185000|        3.125|      180|           1|    65|        55-64|            1|                          1|           55-64|                             2|         20994|        IL|      17093|        285000|          1|             1|\n",
       "+-------------+--------------------+---------+------------+-----------+-------------+---------+------------+------+-------------+-------------+---------------------------+----------------+------------------------------+--------------+----------+-----------+--------------+-----------+--------------+\n",
       "only showing top 20 rows"
      ]
     },
     "execution_count": 14,
     "metadata": {},
     "output_type": "execute_result"
    }
   ],
   "source": [
    "df"
   ]
  },
  {
   "cell_type": "code",
   "execution_count": 15,
   "id": "fa3b7d71-ecc5-434e-9e0b-9d6a8e2b5f57",
   "metadata": {},
   "outputs": [],
   "source": [
    "df = df.drop('activity_year')"
   ]
  },
  {
   "cell_type": "markdown",
   "id": "66e2ecf8-cc1c-4935-8175-815607253da7",
   "metadata": {},
   "source": [
    "### 3. Data Checks"
   ]
  },
  {
   "cell_type": "markdown",
   "id": "3b16275f-2120-4f48-8dc1-33a3681f9486",
   "metadata": {},
   "source": [
    "#### Data Type"
   ]
  },
  {
   "cell_type": "code",
   "execution_count": 16,
   "id": "75825c8e-e1a7-423e-ab19-337adffaa5c4",
   "metadata": {},
   "outputs": [],
   "source": [
    "from pyspark.sql.types import StructType, StructField, IntegerType, StringType, DoubleType, FloatType\n",
    "\n",
    "from pyspark.sql.functions import col, when, count"
   ]
  },
  {
   "cell_type": "code",
   "execution_count": 17,
   "id": "f5ac01d4-25db-48a3-94bb-e1d7ac63793d",
   "metadata": {},
   "outputs": [],
   "source": [
    "\n",
    "coltype_map = {\n",
    "    \"lei\": StringType(),\n",
    "    \"loan_type\": IntegerType(),\n",
    "    \"loan_purpose\": IntegerType(),\n",
    "    \"loan_amount\": FloatType(),\n",
    "    \"interest_rate\": FloatType(),\n",
    "    \"loan_term\": IntegerType(),\n",
    "    \"action_taken\": IntegerType(),\n",
    "    \"income\": FloatType(),\n",
    "    \"applicant_age\": StringType(),\n",
    "    \"applicant_sex\": IntegerType(),\n",
    "    \"applicant_credit_score_type\": IntegerType(),\n",
    "    \"co_applicant_age\": StringType(),\n",
    "    \"co_applicant_credit_score_type\": IntegerType(),\n",
    "    \"derived_msa_md\": IntegerType(),\n",
    "    \"state_code\": StringType(),\n",
    "    \"county_code\": StringType(),\n",
    "    \"property_value\": FloatType(),\n",
    "    \"total_units\": IntegerType(),\n",
    "    \"occupancy_type\": IntegerType(),\n",
    "}\n",
    "\n"
   ]
  },
  {
   "cell_type": "code",
   "execution_count": 18,
   "id": "7d2755f0-9d6d-4322-ba57-6115a6e36c7b",
   "metadata": {},
   "outputs": [],
   "source": [
    "for col_name, data_type in coltype_map.items():\n",
    "    df = df.withColumn(col_name, col(col_name).cast(data_type))"
   ]
  },
  {
   "cell_type": "code",
   "execution_count": 19,
   "id": "79aea457-248a-4654-be84-9cb9536632b9",
   "metadata": {
    "scrolled": true
   },
   "outputs": [
    {
     "name": "stdout",
     "output_type": "stream",
     "text": [
      "root\n",
      " |-- lei: string (nullable = true)\n",
      " |-- loan_type: integer (nullable = true)\n",
      " |-- loan_purpose: integer (nullable = true)\n",
      " |-- loan_amount: float (nullable = true)\n",
      " |-- interest_rate: float (nullable = true)\n",
      " |-- loan_term: integer (nullable = true)\n",
      " |-- action_taken: integer (nullable = true)\n",
      " |-- income: float (nullable = true)\n",
      " |-- applicant_age: string (nullable = true)\n",
      " |-- applicant_sex: integer (nullable = true)\n",
      " |-- applicant_credit_score_type: integer (nullable = true)\n",
      " |-- co_applicant_age: string (nullable = true)\n",
      " |-- co_applicant_credit_score_type: integer (nullable = true)\n",
      " |-- derived_msa_md: integer (nullable = true)\n",
      " |-- state_code: string (nullable = true)\n",
      " |-- county_code: string (nullable = true)\n",
      " |-- property_value: float (nullable = true)\n",
      " |-- total_units: integer (nullable = true)\n",
      " |-- occupancy_type: integer (nullable = true)\n",
      "\n"
     ]
    }
   ],
   "source": [
    "df.printSchema()"
   ]
  },
  {
   "cell_type": "code",
   "execution_count": null,
   "id": "d8aa8be4-28cb-414a-aeff-7a850037a16f",
   "metadata": {},
   "outputs": [],
   "source": []
  },
  {
   "cell_type": "markdown",
   "id": "f6216e4e-809f-41ca-9e84-57b0d9f145ab",
   "metadata": {},
   "source": [
    "#### Missing values"
   ]
  },
  {
   "cell_type": "code",
   "execution_count": 20,
   "id": "d5fe1be6-3c68-460d-bf2d-68fa820e7748",
   "metadata": {},
   "outputs": [],
   "source": [
    "from pyspark.sql.functions import col, isnan\n",
    "\n",
    "# Missing count for each column\n",
    "missing_info = df.select([\n",
    "    count(when(col(c).isNull() | isnan(col(c)) |(col(c) == \"NA\"), c)).alias(c) for c in df.columns\n",
    "])\n"
   ]
  },
  {
   "cell_type": "code",
   "execution_count": 21,
   "id": "97a55deb-7446-47c9-a76d-ff8b87c4e34f",
   "metadata": {},
   "outputs": [
    {
     "name": "stderr",
     "output_type": "stream",
     "text": [
      "                                                                                \r"
     ]
    },
    {
     "data": {
      "text/html": [
       "<table border='1'>\n",
       "<tr><th>lei</th><th>loan_type</th><th>loan_purpose</th><th>loan_amount</th><th>interest_rate</th><th>loan_term</th><th>action_taken</th><th>income</th><th>applicant_age</th><th>applicant_sex</th><th>applicant_credit_score_type</th><th>co_applicant_age</th><th>co_applicant_credit_score_type</th><th>derived_msa_md</th><th>state_code</th><th>county_code</th><th>property_value</th><th>total_units</th><th>occupancy_type</th></tr>\n",
       "<tr><td>0</td><td>0</td><td>0</td><td>0</td><td>8058681</td><td>787724</td><td>0</td><td>3805537</td><td>0</td><td>0</td><td>0</td><td>0</td><td>0</td><td>0</td><td>191662</td><td>301904</td><td>6256159</td><td>67537</td><td>0</td></tr>\n",
       "</table>\n"
      ],
      "text/plain": [
       "+---+---------+------------+-----------+-------------+---------+------------+-------+-------------+-------------+---------------------------+----------------+------------------------------+--------------+----------+-----------+--------------+-----------+--------------+\n",
       "|lei|loan_type|loan_purpose|loan_amount|interest_rate|loan_term|action_taken| income|applicant_age|applicant_sex|applicant_credit_score_type|co_applicant_age|co_applicant_credit_score_type|derived_msa_md|state_code|county_code|property_value|total_units|occupancy_type|\n",
       "+---+---------+------------+-----------+-------------+---------+------------+-------+-------------+-------------+---------------------------+----------------+------------------------------+--------------+----------+-----------+--------------+-----------+--------------+\n",
       "|  0|        0|           0|          0|      8058681|   787724|           0|3805537|            0|            0|                          0|               0|                             0|             0|    191662|     301904|       6256159|      67537|             0|\n",
       "+---+---------+------------+-----------+-------------+---------+------------+-------+-------------+-------------+---------------------------+----------------+------------------------------+--------------+----------+-----------+--------------+-----------+--------------+"
      ]
     },
     "execution_count": 21,
     "metadata": {},
     "output_type": "execute_result"
    }
   ],
   "source": [
    "missing_info"
   ]
  },
  {
   "cell_type": "code",
   "execution_count": 22,
   "id": "c77af0a6-8955-4146-a69c-366755b786cd",
   "metadata": {},
   "outputs": [
    {
     "name": "stderr",
     "output_type": "stream",
     "text": [
      "                                                                                \r"
     ]
    }
   ],
   "source": [
    "# Median imputation for 'income'\n",
    "from pyspark.ml.feature import Imputer\n",
    "\n",
    "income_imputer = Imputer(inputCols=['income'], outputCols=['income'], strategy=\"median\")\n",
    "df = income_imputer.fit(df).transform(df)"
   ]
  },
  {
   "cell_type": "code",
   "execution_count": 23,
   "id": "2a4a65cc-55dd-4020-afbe-c0525868f2f4",
   "metadata": {},
   "outputs": [
    {
     "name": "stderr",
     "output_type": "stream",
     "text": [
      "                                                                                \r"
     ]
    }
   ],
   "source": [
    "# Mean imputation for `interest_rate`\n",
    "interest_rate_imputer = Imputer(inputCols=[\"interest_rate\"], outputCols=[\"interest_rate\"], strategy=\"mean\")\n",
    "\n",
    "# Fit and transform\n",
    "df = interest_rate_imputer.fit(df).transform(df)"
   ]
  },
  {
   "cell_type": "code",
   "execution_count": 24,
   "id": "4434318b-6dd1-4803-a847-1f41548bee3b",
   "metadata": {},
   "outputs": [
    {
     "name": "stderr",
     "output_type": "stream",
     "text": [
      "                                                                                \r"
     ]
    }
   ],
   "source": [
    "# Mode imputation for 'loan_Term'\n",
    "from pyspark.sql.functions import col, count, when\n",
    "\n",
    "# Calculate mode for `loan_term`\n",
    "mode_loan_term = (\n",
    "    df.groupBy(\"loan_term\")\n",
    "    .count()\n",
    "    .orderBy(col(\"count\").desc())\n",
    "    .first()[0]\n",
    ")\n",
    "\n",
    "# Replace missing values with the mode\n",
    "df = df.withColumn( \"loan_term\", when(col(\"loan_term\").isNull(), mode_loan_term).otherwise(col(\"loan_term\")))\n"
   ]
  },
  {
   "cell_type": "code",
   "execution_count": null,
   "id": "67e7bbde-1046-47f2-9fb5-5f03fd98b8d3",
   "metadata": {},
   "outputs": [],
   "source": []
  },
  {
   "cell_type": "code",
   "execution_count": 25,
   "id": "8aabb8a1-3cc2-4b83-8cad-2f402c8094a5",
   "metadata": {
    "scrolled": true
   },
   "outputs": [],
   "source": [
    "# Remove rows that has no 'property_value'\n",
    "df = df.filter(col('property_value')!=0)"
   ]
  },
  {
   "cell_type": "code",
   "execution_count": 26,
   "id": "7f839172-c059-40d0-918b-aadc8223d16c",
   "metadata": {},
   "outputs": [],
   "source": [
    "# Remove rows that has no 'state_code'\n",
    "df = df.filter(col('state_code')!='NA')"
   ]
  },
  {
   "cell_type": "code",
   "execution_count": 27,
   "id": "4ce2c23f-0aa7-44f0-8147-094456b17249",
   "metadata": {},
   "outputs": [],
   "source": [
    "# Remove rows that has no 'county_code'\n",
    "df = df.filter(col('county_code')!='NA')"
   ]
  },
  {
   "cell_type": "code",
   "execution_count": 28,
   "id": "0c7fe5e1-0bdc-4048-99b9-1c521366211d",
   "metadata": {},
   "outputs": [],
   "source": [
    "# Remove rows that has no 'total_units'\n",
    "df = df.filter(col('total_units')!=0)"
   ]
  },
  {
   "cell_type": "code",
   "execution_count": 29,
   "id": "fc2a2c58-ac96-4ffa-a542-b4b23a9b215e",
   "metadata": {},
   "outputs": [
    {
     "name": "stderr",
     "output_type": "stream",
     "text": [
      "                                                                                \r"
     ]
    },
    {
     "data": {
      "text/plain": [
       "19216487"
      ]
     },
     "execution_count": 29,
     "metadata": {},
     "output_type": "execute_result"
    }
   ],
   "source": [
    "df.count()"
   ]
  },
  {
   "cell_type": "code",
   "execution_count": 30,
   "id": "7f25d355-c20c-401f-919b-45544529fc5c",
   "metadata": {
    "scrolled": true
   },
   "outputs": [
    {
     "data": {
      "text/html": [
       "<table border='1'>\n",
       "<tr><th>lei</th><th>loan_type</th><th>loan_purpose</th><th>loan_amount</th><th>interest_rate</th><th>loan_term</th><th>action_taken</th><th>income</th><th>applicant_age</th><th>applicant_sex</th><th>applicant_credit_score_type</th><th>co_applicant_age</th><th>co_applicant_credit_score_type</th><th>derived_msa_md</th><th>state_code</th><th>county_code</th><th>property_value</th><th>total_units</th><th>occupancy_type</th></tr>\n",
       "<tr><td>549300RBX56T2MW5HO19</td><td>1</td><td>1</td><td>135000.0</td><td>3.875</td><td>360</td><td>1</td><td>65.0</td><td>25-34</td><td>1</td><td>2</td><td>25-34</td><td>5</td><td>29620</td><td>MI</td><td>26065</td><td>145000.0</td><td>1</td><td>1</td></tr>\n",
       "<tr><td>549300RBX56T2MW5HO19</td><td>1</td><td>31</td><td>315000.0</td><td>2.124</td><td>180</td><td>1</td><td>135.0</td><td>45-54</td><td>1</td><td>5</td><td>45-54</td><td>1</td><td>31084</td><td>CA</td><td>06037</td><td>855000.0</td><td>1</td><td>1</td></tr>\n",
       "<tr><td>549300RBX56T2MW5HO19</td><td>2</td><td>1</td><td>135000.0</td><td>3.43</td><td>360</td><td>1</td><td>95.0</td><td>65-74</td><td>1</td><td>9</td><td>65-74</td><td>9</td><td>41100</td><td>UT</td><td>49053</td><td>255000.0</td><td>1</td><td>1</td></tr>\n",
       "<tr><td>549300RBX56T2MW5HO19</td><td>1</td><td>1</td><td>435000.0</td><td>2.5</td><td>360</td><td>1</td><td>328.0</td><td>55-64</td><td>2</td><td>1</td><td>55-64</td><td>2</td><td>17820</td><td>CO</td><td>08041</td><td>565000.0</td><td>1</td><td>1</td></tr>\n",
       "<tr><td>549300RBX56T2MW5HO19</td><td>1</td><td>31</td><td>355000.0</td><td>2.875</td><td>180</td><td>1</td><td>565.0</td><td>55-64</td><td>1</td><td>2</td><td>55-64</td><td>1</td><td>11244</td><td>CA</td><td>06059</td><td>855000.0</td><td>1</td><td>3</td></tr>\n",
       "<tr><td>549300RBX56T2MW5HO19</td><td>1</td><td>31</td><td>265000.0</td><td>3.0</td><td>360</td><td>1</td><td>57.0</td><td>65-74</td><td>1</td><td>5</td><td>65-74</td><td>1</td><td>19740</td><td>CO</td><td>08031</td><td>355000.0</td><td>1</td><td>1</td></tr>\n",
       "<tr><td>549300RBX56T2MW5HO19</td><td>1</td><td>31</td><td>485000.0</td><td>2.249</td><td>180</td><td>1</td><td>171.0</td><td>55-64</td><td>1</td><td>1</td><td>55-64</td><td>1</td><td>41740</td><td>CA</td><td>06073</td><td>995000.0</td><td>1</td><td>1</td></tr>\n",
       "<tr><td>549300RBX56T2MW5HO19</td><td>1</td><td>31</td><td>345000.0</td><td>2.875</td><td>360</td><td>1</td><td>157.0</td><td>25-34</td><td>1</td><td>5</td><td>25-34</td><td>5</td><td>24540</td><td>CO</td><td>08123</td><td>365000.0</td><td>1</td><td>1</td></tr>\n",
       "<tr><td>549300RBX56T2MW5HO19</td><td>1</td><td>32</td><td>475000.0</td><td>3.0</td><td>360</td><td>1</td><td>285.0</td><td>35-44</td><td>1</td><td>1</td><td>35-44</td><td>1</td><td>16984</td><td>IL</td><td>17043</td><td>635000.0</td><td>1</td><td>1</td></tr>\n",
       "<tr><td>549300RBX56T2MW5HO19</td><td>1</td><td>31</td><td>365000.0</td><td>2.875</td><td>360</td><td>1</td><td>136.0</td><td>25-34</td><td>2</td><td>5</td><td>25-34</td><td>1</td><td>38900</td><td>OR</td><td>41051</td><td>465000.0</td><td>1</td><td>1</td></tr>\n",
       "<tr><td>549300RBX56T2MW5HO19</td><td>1</td><td>31</td><td>275000.0</td><td>3.125</td><td>360</td><td>1</td><td>91.0</td><td>65-74</td><td>1</td><td>2</td><td>55-64</td><td>2</td><td>19740</td><td>CO</td><td>08031</td><td>305000.0</td><td>1</td><td>1</td></tr>\n",
       "<tr><td>549300RBX56T2MW5HO19</td><td>1</td><td>1</td><td>255000.0</td><td>2.875</td><td>360</td><td>1</td><td>172.0</td><td>25-34</td><td>1</td><td>1</td><td>25-34</td><td>5</td><td>19124</td><td>TX</td><td>48121</td><td>315000.0</td><td>1</td><td>1</td></tr>\n",
       "<tr><td>549300RBX56T2MW5HO19</td><td>1</td><td>31</td><td>495000.0</td><td>2.5</td><td>360</td><td>1</td><td>170.0</td><td>55-64</td><td>3</td><td>5</td><td>45-54</td><td>1</td><td>41940</td><td>CA</td><td>06085</td><td>845000.0</td><td>1</td><td>1</td></tr>\n",
       "<tr><td>549300RBX56T2MW5HO19</td><td>1</td><td>31</td><td>355000.0</td><td>2.75</td><td>360</td><td>1</td><td>107.0</td><td>25-34</td><td>1</td><td>2</td><td>25-34</td><td>5</td><td>99999</td><td>WA</td><td>53075</td><td>505000.0</td><td>1</td><td>1</td></tr>\n",
       "<tr><td>549300RBX56T2MW5HO19</td><td>1</td><td>31</td><td>405000.0</td><td>2.125</td><td>180</td><td>1</td><td>215.0</td><td>55-64</td><td>1</td><td>5</td><td>45-54</td><td>2</td><td>41884</td><td>CA</td><td>06075</td><td>1435000.0</td><td>1</td><td>1</td></tr>\n",
       "<tr><td>549300RBX56T2MW5HO19</td><td>1</td><td>31</td><td>685000.0</td><td>2.875</td><td>360</td><td>1</td><td>185.0</td><td>35-44</td><td>1</td><td>2</td><td>25-34</td><td>1</td><td>42644</td><td>WA</td><td>53033</td><td>915000.0</td><td>1</td><td>1</td></tr>\n",
       "<tr><td>549300RBX56T2MW5HO19</td><td>1</td><td>32</td><td>185000.0</td><td>3.125</td><td>180</td><td>1</td><td>65.0</td><td>55-64</td><td>1</td><td>1</td><td>55-64</td><td>2</td><td>20994</td><td>IL</td><td>17093</td><td>285000.0</td><td>1</td><td>1</td></tr>\n",
       "<tr><td>549300RBX56T2MW5HO19</td><td>1</td><td>31</td><td>325000.0</td><td>2.49</td><td>360</td><td>1</td><td>163.0</td><td>45-54</td><td>3</td><td>2</td><td>45-54</td><td>2</td><td>28140</td><td>KS</td><td>20091</td><td>585000.0</td><td>1</td><td>1</td></tr>\n",
       "<tr><td>549300RBX56T2MW5HO19</td><td>1</td><td>31</td><td>115000.0</td><td>3.0</td><td>360</td><td>1</td><td>41.0</td><td>65-74</td><td>2</td><td>1</td><td>65-74</td><td>1</td><td>24300</td><td>CO</td><td>08077</td><td>465000.0</td><td>1</td><td>1</td></tr>\n",
       "<tr><td>549300RBX56T2MW5HO19</td><td>1</td><td>32</td><td>315000.0</td><td>2.5</td><td>180</td><td>1</td><td>128.0</td><td>45-54</td><td>2</td><td>1</td><td>45-54</td><td>1</td><td>33460</td><td>WI</td><td>55109</td><td>425000.0</td><td>1</td><td>1</td></tr>\n",
       "</table>\n",
       "only showing top 20 rows\n"
      ],
      "text/plain": [
       "+--------------------+---------+------------+-----------+-------------+---------+------------+------+-------------+-------------+---------------------------+----------------+------------------------------+--------------+----------+-----------+--------------+-----------+--------------+\n",
       "|                 lei|loan_type|loan_purpose|loan_amount|interest_rate|loan_term|action_taken|income|applicant_age|applicant_sex|applicant_credit_score_type|co_applicant_age|co_applicant_credit_score_type|derived_msa_md|state_code|county_code|property_value|total_units|occupancy_type|\n",
       "+--------------------+---------+------------+-----------+-------------+---------+------------+------+-------------+-------------+---------------------------+----------------+------------------------------+--------------+----------+-----------+--------------+-----------+--------------+\n",
       "|549300RBX56T2MW5HO19|        1|           1|   135000.0|        3.875|      360|           1|  65.0|        25-34|            1|                          2|           25-34|                             5|         29620|        MI|      26065|      145000.0|          1|             1|\n",
       "|549300RBX56T2MW5HO19|        1|          31|   315000.0|        2.124|      180|           1| 135.0|        45-54|            1|                          5|           45-54|                             1|         31084|        CA|      06037|      855000.0|          1|             1|\n",
       "|549300RBX56T2MW5HO19|        2|           1|   135000.0|         3.43|      360|           1|  95.0|        65-74|            1|                          9|           65-74|                             9|         41100|        UT|      49053|      255000.0|          1|             1|\n",
       "|549300RBX56T2MW5HO19|        1|           1|   435000.0|          2.5|      360|           1| 328.0|        55-64|            2|                          1|           55-64|                             2|         17820|        CO|      08041|      565000.0|          1|             1|\n",
       "|549300RBX56T2MW5HO19|        1|          31|   355000.0|        2.875|      180|           1| 565.0|        55-64|            1|                          2|           55-64|                             1|         11244|        CA|      06059|      855000.0|          1|             3|\n",
       "|549300RBX56T2MW5HO19|        1|          31|   265000.0|          3.0|      360|           1|  57.0|        65-74|            1|                          5|           65-74|                             1|         19740|        CO|      08031|      355000.0|          1|             1|\n",
       "|549300RBX56T2MW5HO19|        1|          31|   485000.0|        2.249|      180|           1| 171.0|        55-64|            1|                          1|           55-64|                             1|         41740|        CA|      06073|      995000.0|          1|             1|\n",
       "|549300RBX56T2MW5HO19|        1|          31|   345000.0|        2.875|      360|           1| 157.0|        25-34|            1|                          5|           25-34|                             5|         24540|        CO|      08123|      365000.0|          1|             1|\n",
       "|549300RBX56T2MW5HO19|        1|          32|   475000.0|          3.0|      360|           1| 285.0|        35-44|            1|                          1|           35-44|                             1|         16984|        IL|      17043|      635000.0|          1|             1|\n",
       "|549300RBX56T2MW5HO19|        1|          31|   365000.0|        2.875|      360|           1| 136.0|        25-34|            2|                          5|           25-34|                             1|         38900|        OR|      41051|      465000.0|          1|             1|\n",
       "|549300RBX56T2MW5HO19|        1|          31|   275000.0|        3.125|      360|           1|  91.0|        65-74|            1|                          2|           55-64|                             2|         19740|        CO|      08031|      305000.0|          1|             1|\n",
       "|549300RBX56T2MW5HO19|        1|           1|   255000.0|        2.875|      360|           1| 172.0|        25-34|            1|                          1|           25-34|                             5|         19124|        TX|      48121|      315000.0|          1|             1|\n",
       "|549300RBX56T2MW5HO19|        1|          31|   495000.0|          2.5|      360|           1| 170.0|        55-64|            3|                          5|           45-54|                             1|         41940|        CA|      06085|      845000.0|          1|             1|\n",
       "|549300RBX56T2MW5HO19|        1|          31|   355000.0|         2.75|      360|           1| 107.0|        25-34|            1|                          2|           25-34|                             5|         99999|        WA|      53075|      505000.0|          1|             1|\n",
       "|549300RBX56T2MW5HO19|        1|          31|   405000.0|        2.125|      180|           1| 215.0|        55-64|            1|                          5|           45-54|                             2|         41884|        CA|      06075|     1435000.0|          1|             1|\n",
       "|549300RBX56T2MW5HO19|        1|          31|   685000.0|        2.875|      360|           1| 185.0|        35-44|            1|                          2|           25-34|                             1|         42644|        WA|      53033|      915000.0|          1|             1|\n",
       "|549300RBX56T2MW5HO19|        1|          32|   185000.0|        3.125|      180|           1|  65.0|        55-64|            1|                          1|           55-64|                             2|         20994|        IL|      17093|      285000.0|          1|             1|\n",
       "|549300RBX56T2MW5HO19|        1|          31|   325000.0|         2.49|      360|           1| 163.0|        45-54|            3|                          2|           45-54|                             2|         28140|        KS|      20091|      585000.0|          1|             1|\n",
       "|549300RBX56T2MW5HO19|        1|          31|   115000.0|          3.0|      360|           1|  41.0|        65-74|            2|                          1|           65-74|                             1|         24300|        CO|      08077|      465000.0|          1|             1|\n",
       "|549300RBX56T2MW5HO19|        1|          32|   315000.0|          2.5|      180|           1| 128.0|        45-54|            2|                          1|           45-54|                             1|         33460|        WI|      55109|      425000.0|          1|             1|\n",
       "+--------------------+---------+------------+-----------+-------------+---------+------------+------+-------------+-------------+---------------------------+----------------+------------------------------+--------------+----------+-----------+--------------+-----------+--------------+\n",
       "only showing top 20 rows"
      ]
     },
     "execution_count": 30,
     "metadata": {},
     "output_type": "execute_result"
    }
   ],
   "source": [
    "df"
   ]
  },
  {
   "cell_type": "markdown",
   "id": "03a2fb7a-fafb-4010-b54e-627e6c593e84",
   "metadata": {},
   "source": [
    "Target variable"
   ]
  },
  {
   "cell_type": "code",
   "execution_count": 31,
   "id": "16f07bd8-8c1d-4fc9-94cf-c06d763738b0",
   "metadata": {},
   "outputs": [],
   "source": [
    "df = df.withColumn('action_taken', when(col('action_taken')!=1, 0).otherwise(1) )"
   ]
  },
  {
   "cell_type": "code",
   "execution_count": 32,
   "id": "40d54fd2-85bf-42d4-8610-60af0001a69c",
   "metadata": {},
   "outputs": [
    {
     "name": "stderr",
     "output_type": "stream",
     "text": [
      "                                                                                \r"
     ]
    },
    {
     "data": {
      "text/plain": [
       "19216487"
      ]
     },
     "execution_count": 32,
     "metadata": {},
     "output_type": "execute_result"
    }
   ],
   "source": [
    "df.count()"
   ]
  },
  {
   "cell_type": "code",
   "execution_count": 33,
   "id": "7180a6d1-bca5-4164-928d-dd20b25f93c2",
   "metadata": {},
   "outputs": [
    {
     "name": "stderr",
     "output_type": "stream",
     "text": [
      "                                                                                \r"
     ]
    },
    {
     "data": {
      "text/plain": [
       "13569956"
      ]
     },
     "execution_count": 33,
     "metadata": {},
     "output_type": "execute_result"
    }
   ],
   "source": [
    "# count number of loan approved\n",
    "df.filter(col('action_taken')==1).count()"
   ]
  },
  {
   "cell_type": "code",
   "execution_count": 34,
   "id": "382fd630-1bb2-4026-a306-13d1bcc2ff12",
   "metadata": {},
   "outputs": [
    {
     "name": "stderr",
     "output_type": "stream",
     "text": [
      "                                                                                \r"
     ]
    },
    {
     "data": {
      "text/plain": [
       "5646531"
      ]
     },
     "execution_count": 34,
     "metadata": {},
     "output_type": "execute_result"
    }
   ],
   "source": [
    "# count of loan rejected\n",
    "df.filter(col('action_taken')==0).count()"
   ]
  },
  {
   "cell_type": "code",
   "execution_count": null,
   "id": "7a1b0092-a036-4276-bb88-1a1fb8b5b921",
   "metadata": {},
   "outputs": [],
   "source": []
  },
  {
   "cell_type": "markdown",
   "id": "ab302e74-675f-4ad5-91c3-b35985f61e10",
   "metadata": {},
   "source": [
    "#### Check unique values of each column"
   ]
  },
  {
   "cell_type": "code",
   "execution_count": 25,
   "id": "e7cf43ff-9f9f-4691-ab4d-ddcacfd4eab0",
   "metadata": {},
   "outputs": [
    {
     "name": "stderr",
     "output_type": "stream",
     "text": [
      "                                                                                \r"
     ]
    },
    {
     "data": {
      "text/html": [
       "<table border='1'>\n",
       "<tr><th>action_taken</th></tr>\n",
       "<tr><td>1</td></tr>\n",
       "<tr><td>0</td></tr>\n",
       "</table>\n"
      ],
      "text/plain": [
       "+------------+\n",
       "|action_taken|\n",
       "+------------+\n",
       "|           1|\n",
       "|           0|\n",
       "+------------+"
      ]
     },
     "execution_count": 25,
     "metadata": {},
     "output_type": "execute_result"
    }
   ],
   "source": [
    "df.select('action_taken').distinct()"
   ]
  },
  {
   "cell_type": "code",
   "execution_count": 27,
   "id": "433f6874-6d49-4e9b-a907-5586b38ce3a7",
   "metadata": {},
   "outputs": [
    {
     "name": "stderr",
     "output_type": "stream",
     "text": [
      "                                                                                \r"
     ]
    },
    {
     "data": {
      "text/plain": [
       "2957"
      ]
     },
     "execution_count": 27,
     "metadata": {},
     "output_type": "execute_result"
    }
   ],
   "source": [
    "df.select('lei').distinct().count()"
   ]
  },
  {
   "cell_type": "code",
   "execution_count": 28,
   "id": "12d481c8-782b-4411-9ea8-b23410b965ec",
   "metadata": {},
   "outputs": [
    {
     "name": "stderr",
     "output_type": "stream",
     "text": [
      "                                                                                \r"
     ]
    },
    {
     "data": {
      "text/plain": [
       "9"
      ]
     },
     "execution_count": 28,
     "metadata": {},
     "output_type": "execute_result"
    }
   ],
   "source": [
    "df.select('applicant_age').distinct().count()"
   ]
  },
  {
   "cell_type": "code",
   "execution_count": 29,
   "id": "0e9cae01-d2da-44c6-9df2-c3fcc36f92ea",
   "metadata": {},
   "outputs": [
    {
     "name": "stderr",
     "output_type": "stream",
     "text": [
      "                                                                                \r"
     ]
    },
    {
     "data": {
      "text/plain": [
       "9"
      ]
     },
     "execution_count": 29,
     "metadata": {},
     "output_type": "execute_result"
    }
   ],
   "source": [
    "df.select('co_applicant_age').distinct().count()"
   ]
  },
  {
   "cell_type": "code",
   "execution_count": 30,
   "id": "d9c010aa-092e-4428-8389-0bf06164167a",
   "metadata": {},
   "outputs": [
    {
     "name": "stderr",
     "output_type": "stream",
     "text": [
      "                                                                                \r"
     ]
    },
    {
     "data": {
      "text/plain": [
       "54"
      ]
     },
     "execution_count": 30,
     "metadata": {},
     "output_type": "execute_result"
    }
   ],
   "source": [
    "df.select('state_code').distinct().count()"
   ]
  },
  {
   "cell_type": "code",
   "execution_count": 31,
   "id": "24511afd-2a0f-4bd2-ba9d-11c347108048",
   "metadata": {},
   "outputs": [
    {
     "name": "stderr",
     "output_type": "stream",
     "text": [
      "                                                                                \r"
     ]
    },
    {
     "data": {
      "text/plain": [
       "3222"
      ]
     },
     "execution_count": 31,
     "metadata": {},
     "output_type": "execute_result"
    }
   ],
   "source": [
    "df.select('county_code').distinct().count()"
   ]
  },
  {
   "cell_type": "code",
   "execution_count": 32,
   "id": "4d8e3497-73b1-42fb-9ca0-08a3989cb8eb",
   "metadata": {},
   "outputs": [
    {
     "name": "stderr",
     "output_type": "stream",
     "text": [
      "                                                                                \r"
     ]
    },
    {
     "data": {
      "text/plain": [
       "4"
      ]
     },
     "execution_count": 32,
     "metadata": {},
     "output_type": "execute_result"
    }
   ],
   "source": [
    "df.select('loan_type').distinct().count()"
   ]
  },
  {
   "cell_type": "code",
   "execution_count": 33,
   "id": "a066af8b-7697-4b7b-9f82-6c1480e7da72",
   "metadata": {},
   "outputs": [
    {
     "name": "stderr",
     "output_type": "stream",
     "text": [
      "                                                                                \r"
     ]
    },
    {
     "data": {
      "text/plain": [
       "6"
      ]
     },
     "execution_count": 33,
     "metadata": {},
     "output_type": "execute_result"
    }
   ],
   "source": [
    "df.select('loan_purpose').distinct().count()"
   ]
  },
  {
   "cell_type": "code",
   "execution_count": 34,
   "id": "45fa42b1-b9af-4ee6-a443-014002130612",
   "metadata": {},
   "outputs": [
    {
     "name": "stderr",
     "output_type": "stream",
     "text": [
      "                                                                                \r"
     ]
    },
    {
     "data": {
      "text/plain": [
       "5"
      ]
     },
     "execution_count": 34,
     "metadata": {},
     "output_type": "execute_result"
    }
   ],
   "source": [
    "df.select('applicant_sex').distinct().count()"
   ]
  },
  {
   "cell_type": "code",
   "execution_count": 35,
   "id": "06c5b43a-d98c-438e-b1c5-02ea8108f4ed",
   "metadata": {},
   "outputs": [
    {
     "name": "stderr",
     "output_type": "stream",
     "text": [
      "                                                                                \r"
     ]
    },
    {
     "data": {
      "text/plain": [
       "10"
      ]
     },
     "execution_count": 35,
     "metadata": {},
     "output_type": "execute_result"
    }
   ],
   "source": [
    "df.select('applicant_credit_score_type').distinct().count()"
   ]
  },
  {
   "cell_type": "code",
   "execution_count": 36,
   "id": "463faf58-ca0f-4e4d-9cdc-6254e171302f",
   "metadata": {},
   "outputs": [
    {
     "name": "stderr",
     "output_type": "stream",
     "text": [
      "                                                                                \r"
     ]
    },
    {
     "data": {
      "text/plain": [
       "413"
      ]
     },
     "execution_count": 36,
     "metadata": {},
     "output_type": "execute_result"
    }
   ],
   "source": [
    "df.select('derived_msa_md').distinct().count()"
   ]
  },
  {
   "cell_type": "code",
   "execution_count": 37,
   "id": "7bb670c6-73ef-4c2c-8901-fe5d3d2f4a5b",
   "metadata": {},
   "outputs": [
    {
     "name": "stderr",
     "output_type": "stream",
     "text": [
      "                                                                                \r"
     ]
    },
    {
     "data": {
      "text/plain": [
       "4"
      ]
     },
     "execution_count": 37,
     "metadata": {},
     "output_type": "execute_result"
    }
   ],
   "source": [
    "df.select('total_units').distinct().count()"
   ]
  },
  {
   "cell_type": "code",
   "execution_count": 38,
   "id": "4293bdf1-d741-45aa-8259-135b128e6f53",
   "metadata": {},
   "outputs": [
    {
     "name": "stderr",
     "output_type": "stream",
     "text": [
      "                                                                                \r"
     ]
    },
    {
     "data": {
      "text/plain": [
       "3"
      ]
     },
     "execution_count": 38,
     "metadata": {},
     "output_type": "execute_result"
    }
   ],
   "source": [
    "df.select('occupancy_type').distinct().count()"
   ]
  },
  {
   "cell_type": "code",
   "execution_count": null,
   "id": "a9fc48da-15a2-4375-98bf-007c29b0d3d1",
   "metadata": {},
   "outputs": [],
   "source": []
  },
  {
   "cell_type": "code",
   "execution_count": null,
   "id": "e1dac148-546e-41fe-8d29-59f6f092f885",
   "metadata": {},
   "outputs": [],
   "source": []
  },
  {
   "cell_type": "code",
   "execution_count": null,
   "id": "0f82ce3c-f771-4f14-a1d2-530d449aec4d",
   "metadata": {},
   "outputs": [],
   "source": []
  },
  {
   "cell_type": "code",
   "execution_count": null,
   "id": "845b5616-3d9f-4d9e-a599-b096bb997fc3",
   "metadata": {},
   "outputs": [],
   "source": []
  },
  {
   "cell_type": "code",
   "execution_count": null,
   "id": "87d8e33e-fa9e-4be6-b544-1cbbdefa9da8",
   "metadata": {},
   "outputs": [],
   "source": []
  },
  {
   "cell_type": "code",
   "execution_count": null,
   "id": "06b7ae3f-804a-4b36-a73e-bd26228dde25",
   "metadata": {},
   "outputs": [],
   "source": []
  },
  {
   "cell_type": "code",
   "execution_count": 34,
   "id": "f5e16414-f28b-4c97-ae7c-79fddcb622f6",
   "metadata": {},
   "outputs": [],
   "source": [
    "# from pyspark.sql.functions import col, isnan\n",
    "\n",
    "# df.filter(col('action_taken').isNull()| isnan(col('action_taken')))"
   ]
  },
  {
   "cell_type": "markdown",
   "id": "f080a5e5-394f-4cee-8ade-4b123bf10583",
   "metadata": {
    "jp-MarkdownHeadingCollapsed": true
   },
   "source": [
    "### Load data to parquet"
   ]
  },
  {
   "cell_type": "code",
   "execution_count": 35,
   "id": "6decb8ea-87d6-4397-b81e-198672ed7ee6",
   "metadata": {},
   "outputs": [
    {
     "name": "stderr",
     "output_type": "stream",
     "text": [
      "24/12/03 16:13:29 WARN MemoryManager: Total allocation exceeds 95.00% (1,020,054,720 bytes) of heap memory\n",
      "Scaling row group sizes to 95.00% for 8 writers\n",
      "24/12/03 16:13:31 WARN MemoryManager: Total allocation exceeds 95.00% (1,020,054,720 bytes) of heap memory\n",
      "Scaling row group sizes to 95.00% for 8 writers\n",
      "24/12/03 16:13:33 WARN MemoryManager: Total allocation exceeds 95.00% (1,020,054,720 bytes) of heap memory\n",
      "Scaling row group sizes to 95.00% for 8 writers\n",
      "24/12/03 16:13:35 WARN MemoryManager: Total allocation exceeds 95.00% (1,020,054,720 bytes) of heap memory\n",
      "Scaling row group sizes to 95.00% for 8 writers\n",
      "24/12/03 16:13:37 WARN MemoryManager: Total allocation exceeds 95.00% (1,020,054,720 bytes) of heap memory\n",
      "Scaling row group sizes to 95.00% for 8 writers\n",
      "24/12/03 16:13:38 WARN MemoryManager: Total allocation exceeds 95.00% (1,020,054,720 bytes) of heap memory\n",
      "Scaling row group sizes to 95.00% for 8 writers\n",
      "24/12/03 16:13:38 WARN MemoryManager: Total allocation exceeds 95.00% (1,020,054,720 bytes) of heap memory\n",
      "Scaling row group sizes to 95.00% for 8 writers\n",
      "24/12/03 16:13:40 WARN MemoryManager: Total allocation exceeds 95.00% (1,020,054,720 bytes) of heap memory\n",
      "Scaling row group sizes to 95.00% for 8 writers\n",
      "24/12/03 16:13:40 WARN MemoryManager: Total allocation exceeds 95.00% (1,020,054,720 bytes) of heap memory\n",
      "Scaling row group sizes to 95.00% for 8 writers\n",
      "24/12/03 16:13:42 WARN MemoryManager: Total allocation exceeds 95.00% (1,020,054,720 bytes) of heap memory\n",
      "Scaling row group sizes to 95.00% for 8 writers\n",
      "24/12/03 16:13:44 WARN MemoryManager: Total allocation exceeds 95.00% (1,020,054,720 bytes) of heap memory\n",
      "Scaling row group sizes to 95.00% for 8 writers\n",
      "                                                                                \r"
     ]
    }
   ],
   "source": [
    "df.write.parquet('./cleaned_dataset', mode='overwrite')"
   ]
  },
  {
   "cell_type": "code",
   "execution_count": null,
   "id": "1941fa47-9f8e-4491-8775-df3908d187b0",
   "metadata": {},
   "outputs": [],
   "source": []
  },
  {
   "cell_type": "code",
   "execution_count": null,
   "id": "1157ae9c-c6eb-4c8e-ab93-d9b19fa071e0",
   "metadata": {},
   "outputs": [],
   "source": []
  },
  {
   "cell_type": "code",
   "execution_count": null,
   "id": "a5e56c6c-a95c-49b4-baf2-5d5e1d4a2c4c",
   "metadata": {},
   "outputs": [],
   "source": []
  },
  {
   "cell_type": "code",
   "execution_count": null,
   "id": "237151c0-4a9c-4246-b3bb-7886377a103e",
   "metadata": {},
   "outputs": [],
   "source": []
  },
  {
   "cell_type": "code",
   "execution_count": null,
   "id": "4473d893-b97a-45b2-9f17-22965ab65e6d",
   "metadata": {},
   "outputs": [],
   "source": []
  },
  {
   "cell_type": "code",
   "execution_count": null,
   "id": "3bf0cdc4-ac17-4c5f-a281-2cb551aa4fcc",
   "metadata": {},
   "outputs": [],
   "source": []
  },
  {
   "cell_type": "code",
   "execution_count": null,
   "id": "97be716c-1884-4dec-8cde-61c5a440b57e",
   "metadata": {},
   "outputs": [],
   "source": []
  }
 ],
 "metadata": {
  "kernelspec": {
   "display_name": "Python 3 (ipykernel)",
   "language": "python",
   "name": "python3"
  },
  "language_info": {
   "codemirror_mode": {
    "name": "ipython",
    "version": 3
   },
   "file_extension": ".py",
   "mimetype": "text/x-python",
   "name": "python",
   "nbconvert_exporter": "python",
   "pygments_lexer": "ipython3",
   "version": "3.12.1"
  }
 },
 "nbformat": 4,
 "nbformat_minor": 5
}

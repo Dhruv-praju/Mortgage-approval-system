{
 "cells": [
  {
   "cell_type": "code",
   "execution_count": 1,
   "id": "f061da50-a00e-4ad0-aded-39d5cefa802c",
   "metadata": {},
   "outputs": [],
   "source": [
    "from pyspark.sql import SparkSession"
   ]
  },
  {
   "cell_type": "code",
   "execution_count": 2,
   "id": "349c6db9-dc71-44ec-8c98-6b8f9bdb72c4",
   "metadata": {},
   "outputs": [],
   "source": [
    "import mlflow\n",
    "import mlflow.spark\n",
    "import pandas as pd"
   ]
  },
  {
   "cell_type": "code",
   "execution_count": 3,
   "id": "64598903-b30f-4200-931d-c53685e043a0",
   "metadata": {},
   "outputs": [
    {
     "data": {
      "text/plain": [
       "<Experiment: artifact_location='mlflow-artifacts:/377674707853028999', creation_time=1737431595708, experiment_id='377674707853028999', last_update_time=1737431595708, lifecycle_stage='active', name='MLflow Quickstart 2', tags={}>"
      ]
     },
     "execution_count": 3,
     "metadata": {},
     "output_type": "execute_result"
    }
   ],
   "source": [
    "# Set our tracking server uri for logging\n",
    "mlflow.set_tracking_uri(uri=\"http://127.0.0.1:8080\")\n",
    "\n",
    "# Create a new MLflow Experiment\n",
    "mlflow.set_experiment(\"MLflow Quickstart 2\")"
   ]
  },
  {
   "cell_type": "code",
   "execution_count": 4,
   "id": "5d6c63d3-d756-47ed-aa00-4277d15abd70",
   "metadata": {},
   "outputs": [
    {
     "name": "stderr",
     "output_type": "stream",
     "text": [
      "25/01/20 22:58:39 WARN Utils: Your hostname, mac.local resolves to a loopback address: 127.0.0.1; using 10.0.0.2 instead (on interface en0)\n",
      "25/01/20 22:58:39 WARN Utils: Set SPARK_LOCAL_IP if you need to bind to another address\n",
      "Setting default log level to \"WARN\".\n",
      "To adjust logging level use sc.setLogLevel(newLevel). For SparkR, use setLogLevel(newLevel).\n",
      "25/01/20 22:58:39 WARN NativeCodeLoader: Unable to load native-hadoop library for your platform... using builtin-java classes where applicable\n"
     ]
    }
   ],
   "source": [
    "spark = SparkSession.builder \\\n",
    "    .appName(\"Final\") \\\n",
    "    .getOrCreate()\n",
    "\n",
    "sc = spark.sparkContext"
   ]
  },
  {
   "cell_type": "code",
   "execution_count": 5,
   "id": "46df0786-11e6-4dd2-85b0-11ac126de551",
   "metadata": {},
   "outputs": [
    {
     "data": {
      "text/html": [
       "\n",
       "            <div>\n",
       "                <p><b>SparkSession - in-memory</b></p>\n",
       "                \n",
       "        <div>\n",
       "            <p><b>SparkContext</b></p>\n",
       "\n",
       "            <p><a href=\"http://10.0.0.2:4040\">Spark UI</a></p>\n",
       "\n",
       "            <dl>\n",
       "              <dt>Version</dt>\n",
       "                <dd><code>v3.5.2</code></dd>\n",
       "              <dt>Master</dt>\n",
       "                <dd><code>local[*]</code></dd>\n",
       "              <dt>AppName</dt>\n",
       "                <dd><code>Final</code></dd>\n",
       "            </dl>\n",
       "        </div>\n",
       "        \n",
       "            </div>\n",
       "        "
      ],
      "text/plain": [
       "<pyspark.sql.session.SparkSession at 0x132cbfce0>"
      ]
     },
     "execution_count": 5,
     "metadata": {},
     "output_type": "execute_result"
    }
   ],
   "source": [
    "spark"
   ]
  },
  {
   "cell_type": "code",
   "execution_count": 6,
   "id": "dede3fa2-82b7-4131-b73b-b08a7be28902",
   "metadata": {},
   "outputs": [],
   "source": [
    "spark.conf.set('spark.sql.repl.eagerEval.enabled', True)"
   ]
  },
  {
   "cell_type": "code",
   "execution_count": 7,
   "id": "ff447413-7951-44d7-970e-fe142df32c71",
   "metadata": {},
   "outputs": [],
   "source": [
    "df = spark.read.parquet('./cleaned_dataset')"
   ]
  },
  {
   "cell_type": "code",
   "execution_count": 8,
   "id": "53a9917d-7b98-43a3-86d2-a80943908b32",
   "metadata": {},
   "outputs": [
    {
     "name": "stdout",
     "output_type": "stream",
     "text": [
      "root\n",
      " |-- lei: string (nullable = true)\n",
      " |-- loan_type: integer (nullable = true)\n",
      " |-- loan_purpose: integer (nullable = true)\n",
      " |-- loan_amount: float (nullable = true)\n",
      " |-- interest_rate: float (nullable = true)\n",
      " |-- loan_term: integer (nullable = true)\n",
      " |-- action_taken: integer (nullable = true)\n",
      " |-- income: float (nullable = true)\n",
      " |-- applicant_age: string (nullable = true)\n",
      " |-- applicant_sex: integer (nullable = true)\n",
      " |-- applicant_credit_score_type: integer (nullable = true)\n",
      " |-- co_applicant_age: string (nullable = true)\n",
      " |-- co_applicant_credit_score_type: integer (nullable = true)\n",
      " |-- derived_msa_md: integer (nullable = true)\n",
      " |-- state_code: string (nullable = true)\n",
      " |-- county_code: string (nullable = true)\n",
      " |-- property_value: float (nullable = true)\n",
      " |-- total_units: integer (nullable = true)\n",
      " |-- occupancy_type: integer (nullable = true)\n",
      "\n"
     ]
    }
   ],
   "source": [
    "df.printSchema()"
   ]
  },
  {
   "cell_type": "code",
   "execution_count": 9,
   "id": "5b3472df-7fe6-47e9-a41e-235ef798410f",
   "metadata": {},
   "outputs": [
    {
     "data": {
      "text/html": [
       "<table border='1'>\n",
       "<tr><th>lei</th><th>loan_type</th><th>loan_purpose</th><th>loan_amount</th><th>interest_rate</th><th>loan_term</th><th>action_taken</th><th>income</th><th>applicant_age</th><th>applicant_sex</th><th>applicant_credit_score_type</th><th>co_applicant_age</th><th>co_applicant_credit_score_type</th><th>derived_msa_md</th><th>state_code</th><th>county_code</th><th>property_value</th><th>total_units</th><th>occupancy_type</th></tr>\n",
       "<tr><td>549300YIBRM1ZYA6GT07</td><td>1</td><td>4</td><td>65000.0</td><td>3.2904205</td><td>180</td><td>0</td><td>116.0</td><td>35-44</td><td>1</td><td>3</td><td>35-44</td><td>3</td><td>39300</td><td>RI</td><td>44005</td><td>485000.0</td><td>3</td><td>1</td></tr>\n",
       "<tr><td>549300YIBRM1ZYA6GT07</td><td>1</td><td>31</td><td>75000.0</td><td>2.75</td><td>240</td><td>1</td><td>31.0</td><td>65-74</td><td>2</td><td>3</td><td>&gt;74</td><td>3</td><td>39300</td><td>RI</td><td>44007</td><td>225000.0</td><td>1</td><td>1</td></tr>\n",
       "<tr><td>549300YIBRM1ZYA6GT07</td><td>1</td><td>31</td><td>145000.0</td><td>3.125</td><td>240</td><td>1</td><td>40.0</td><td>55-64</td><td>2</td><td>3</td><td>9999</td><td>10</td><td>39300</td><td>RI</td><td>44007</td><td>235000.0</td><td>1</td><td>1</td></tr>\n",
       "<tr><td>01J4SO3XTWZF4PP38209</td><td>1</td><td>2</td><td>5000.0</td><td>3.2904205</td><td>60</td><td>0</td><td>27.0</td><td>65-74</td><td>1</td><td>1</td><td>9999</td><td>10</td><td>32820</td><td>TN</td><td>47157</td><td>75000.0</td><td>1</td><td>1</td></tr>\n",
       "<tr><td>01J4SO3XTWZF4PP38209</td><td>1</td><td>31</td><td>25000.0</td><td>5.5</td><td>120</td><td>1</td><td>187.0</td><td>35-44</td><td>2</td><td>7</td><td>35-44</td><td>9</td><td>25620</td><td>MS</td><td>28035</td><td>405000.0</td><td>1</td><td>1</td></tr>\n",
       "<tr><td>01J4SO3XTWZF4PP38209</td><td>2</td><td>1</td><td>115000.0</td><td>3.99</td><td>360</td><td>0</td><td>94.0</td><td>8888</td><td>4</td><td>9</td><td>8888</td><td>9</td><td>99999</td><td>MS</td><td>28083</td><td>125000.0</td><td>1</td><td>1</td></tr>\n",
       "<tr><td>01J4SO3XTWZF4PP38209</td><td>1</td><td>4</td><td>15000.0</td><td>0.98</td><td>120</td><td>1</td><td>58.0</td><td>55-64</td><td>2</td><td>7</td><td>65-74</td><td>9</td><td>25060</td><td>MS</td><td>28047</td><td>125000.0</td><td>2</td><td>1</td></tr>\n",
       "<tr><td>01J4SO3XTWZF4PP38209</td><td>2</td><td>1</td><td>315000.0</td><td>2.875</td><td>360</td><td>1</td><td>87.0</td><td>25-34</td><td>1</td><td>1</td><td>9999</td><td>10</td><td>32820</td><td>MS</td><td>28137</td><td>325000.0</td><td>1</td><td>1</td></tr>\n",
       "<tr><td>01J4SO3XTWZF4PP38209</td><td>1</td><td>1</td><td>465000.0</td><td>3.5</td><td>360</td><td>1</td><td>188.0</td><td>35-44</td><td>2</td><td>3</td><td>35-44</td><td>3</td><td>13820</td><td>AL</td><td>01117</td><td>495000.0</td><td>1</td><td>1</td></tr>\n",
       "<tr><td>01J4SO3XTWZF4PP38209</td><td>1</td><td>32</td><td>105000.0</td><td>2.625</td><td>180</td><td>1</td><td>65.0</td><td>45-54</td><td>2</td><td>2</td><td>9999</td><td>10</td><td>25060</td><td>MS</td><td>28047</td><td>175000.0</td><td>1</td><td>1</td></tr>\n",
       "<tr><td>01J4SO3XTWZF4PP38209</td><td>1</td><td>31</td><td>15000.0</td><td>4.95</td><td>60</td><td>1</td><td>94.0</td><td>8888</td><td>4</td><td>9</td><td>9999</td><td>10</td><td>25060</td><td>MS</td><td>28047</td><td>45000.0</td><td>1</td><td>3</td></tr>\n",
       "<tr><td>01J4SO3XTWZF4PP38209</td><td>1</td><td>31</td><td>205000.0</td><td>3.0</td><td>360</td><td>1</td><td>97.0</td><td>65-74</td><td>1</td><td>1</td><td>65-74</td><td>1</td><td>19300</td><td>AL</td><td>01003</td><td>375000.0</td><td>1</td><td>1</td></tr>\n",
       "<tr><td>01J4SO3XTWZF4PP38209</td><td>1</td><td>31</td><td>45000.0</td><td>4.25</td><td>59</td><td>1</td><td>94.0</td><td>8888</td><td>4</td><td>9</td><td>9999</td><td>10</td><td>27140</td><td>MS</td><td>28049</td><td>75000.0</td><td>1</td><td>3</td></tr>\n",
       "<tr><td>549300Z2FPZZD55OG155</td><td>1</td><td>1</td><td>135000.0</td><td>3.125</td><td>360</td><td>1</td><td>47.0</td><td>25-34</td><td>2</td><td>1</td><td>9999</td><td>10</td><td>48660</td><td>TX</td><td>48485</td><td>145000.0</td><td>1</td><td>1</td></tr>\n",
       "<tr><td>549300F8C5JA44WNMI75</td><td>2</td><td>1</td><td>115000.0</td><td>3.2904205</td><td>360</td><td>0</td><td>15.0</td><td>35-44</td><td>2</td><td>2</td><td>9999</td><td>10</td><td>99999</td><td>IN</td><td>18099</td><td>115000.0</td><td>1</td><td>1</td></tr>\n",
       "<tr><td>549300F8C5JA44WNMI75</td><td>1</td><td>32</td><td>455000.0</td><td>2.875</td><td>360</td><td>1</td><td>97.0</td><td>45-54</td><td>1</td><td>3</td><td>45-54</td><td>9</td><td>36740</td><td>FL</td><td>12095</td><td>755000.0</td><td>1</td><td>1</td></tr>\n",
       "<tr><td>549300F8C5JA44WNMI75</td><td>1</td><td>32</td><td>305000.0</td><td>3.5</td><td>360</td><td>1</td><td>220.0</td><td>35-44</td><td>1</td><td>3</td><td>45-54</td><td>9</td><td>19124</td><td>TX</td><td>48139</td><td>505000.0</td><td>1</td><td>1</td></tr>\n",
       "<tr><td>549300F8C5JA44WNMI75</td><td>1</td><td>1</td><td>165000.0</td><td>3.875</td><td>360</td><td>1</td><td>47.0</td><td>&lt;25</td><td>2</td><td>2</td><td>9999</td><td>10</td><td>26900</td><td>IN</td><td>18097</td><td>165000.0</td><td>1</td><td>1</td></tr>\n",
       "<tr><td>549300F8C5JA44WNMI75</td><td>1</td><td>1</td><td>365000.0</td><td>3.5</td><td>360</td><td>1</td><td>625.0</td><td>45-54</td><td>1</td><td>2</td><td>9999</td><td>10</td><td>41620</td><td>UT</td><td>49035</td><td>455000.0</td><td>1</td><td>3</td></tr>\n",
       "<tr><td>549300F8C5JA44WNMI75</td><td>4</td><td>1</td><td>145000.0</td><td>3.0</td><td>360</td><td>1</td><td>62.0</td><td>35-44</td><td>1</td><td>3</td><td>9999</td><td>10</td><td>99999</td><td>WI</td><td>55119</td><td>145000.0</td><td>1</td><td>1</td></tr>\n",
       "</table>\n",
       "only showing top 20 rows\n"
      ],
      "text/plain": [
       "+--------------------+---------+------------+-----------+-------------+---------+------------+------+-------------+-------------+---------------------------+----------------+------------------------------+--------------+----------+-----------+--------------+-----------+--------------+\n",
       "|                 lei|loan_type|loan_purpose|loan_amount|interest_rate|loan_term|action_taken|income|applicant_age|applicant_sex|applicant_credit_score_type|co_applicant_age|co_applicant_credit_score_type|derived_msa_md|state_code|county_code|property_value|total_units|occupancy_type|\n",
       "+--------------------+---------+------------+-----------+-------------+---------+------------+------+-------------+-------------+---------------------------+----------------+------------------------------+--------------+----------+-----------+--------------+-----------+--------------+\n",
       "|549300YIBRM1ZYA6GT07|        1|           4|    65000.0|    3.2904205|      180|           0| 116.0|        35-44|            1|                          3|           35-44|                             3|         39300|        RI|      44005|      485000.0|          3|             1|\n",
       "|549300YIBRM1ZYA6GT07|        1|          31|    75000.0|         2.75|      240|           1|  31.0|        65-74|            2|                          3|             >74|                             3|         39300|        RI|      44007|      225000.0|          1|             1|\n",
       "|549300YIBRM1ZYA6GT07|        1|          31|   145000.0|        3.125|      240|           1|  40.0|        55-64|            2|                          3|            9999|                            10|         39300|        RI|      44007|      235000.0|          1|             1|\n",
       "|01J4SO3XTWZF4PP38209|        1|           2|     5000.0|    3.2904205|       60|           0|  27.0|        65-74|            1|                          1|            9999|                            10|         32820|        TN|      47157|       75000.0|          1|             1|\n",
       "|01J4SO3XTWZF4PP38209|        1|          31|    25000.0|          5.5|      120|           1| 187.0|        35-44|            2|                          7|           35-44|                             9|         25620|        MS|      28035|      405000.0|          1|             1|\n",
       "|01J4SO3XTWZF4PP38209|        2|           1|   115000.0|         3.99|      360|           0|  94.0|         8888|            4|                          9|            8888|                             9|         99999|        MS|      28083|      125000.0|          1|             1|\n",
       "|01J4SO3XTWZF4PP38209|        1|           4|    15000.0|         0.98|      120|           1|  58.0|        55-64|            2|                          7|           65-74|                             9|         25060|        MS|      28047|      125000.0|          2|             1|\n",
       "|01J4SO3XTWZF4PP38209|        2|           1|   315000.0|        2.875|      360|           1|  87.0|        25-34|            1|                          1|            9999|                            10|         32820|        MS|      28137|      325000.0|          1|             1|\n",
       "|01J4SO3XTWZF4PP38209|        1|           1|   465000.0|          3.5|      360|           1| 188.0|        35-44|            2|                          3|           35-44|                             3|         13820|        AL|      01117|      495000.0|          1|             1|\n",
       "|01J4SO3XTWZF4PP38209|        1|          32|   105000.0|        2.625|      180|           1|  65.0|        45-54|            2|                          2|            9999|                            10|         25060|        MS|      28047|      175000.0|          1|             1|\n",
       "|01J4SO3XTWZF4PP38209|        1|          31|    15000.0|         4.95|       60|           1|  94.0|         8888|            4|                          9|            9999|                            10|         25060|        MS|      28047|       45000.0|          1|             3|\n",
       "|01J4SO3XTWZF4PP38209|        1|          31|   205000.0|          3.0|      360|           1|  97.0|        65-74|            1|                          1|           65-74|                             1|         19300|        AL|      01003|      375000.0|          1|             1|\n",
       "|01J4SO3XTWZF4PP38209|        1|          31|    45000.0|         4.25|       59|           1|  94.0|         8888|            4|                          9|            9999|                            10|         27140|        MS|      28049|       75000.0|          1|             3|\n",
       "|549300Z2FPZZD55OG155|        1|           1|   135000.0|        3.125|      360|           1|  47.0|        25-34|            2|                          1|            9999|                            10|         48660|        TX|      48485|      145000.0|          1|             1|\n",
       "|549300F8C5JA44WNMI75|        2|           1|   115000.0|    3.2904205|      360|           0|  15.0|        35-44|            2|                          2|            9999|                            10|         99999|        IN|      18099|      115000.0|          1|             1|\n",
       "|549300F8C5JA44WNMI75|        1|          32|   455000.0|        2.875|      360|           1|  97.0|        45-54|            1|                          3|           45-54|                             9|         36740|        FL|      12095|      755000.0|          1|             1|\n",
       "|549300F8C5JA44WNMI75|        1|          32|   305000.0|          3.5|      360|           1| 220.0|        35-44|            1|                          3|           45-54|                             9|         19124|        TX|      48139|      505000.0|          1|             1|\n",
       "|549300F8C5JA44WNMI75|        1|           1|   165000.0|        3.875|      360|           1|  47.0|          <25|            2|                          2|            9999|                            10|         26900|        IN|      18097|      165000.0|          1|             1|\n",
       "|549300F8C5JA44WNMI75|        1|           1|   365000.0|          3.5|      360|           1| 625.0|        45-54|            1|                          2|            9999|                            10|         41620|        UT|      49035|      455000.0|          1|             3|\n",
       "|549300F8C5JA44WNMI75|        4|           1|   145000.0|          3.0|      360|           1|  62.0|        35-44|            1|                          3|            9999|                            10|         99999|        WI|      55119|      145000.0|          1|             1|\n",
       "+--------------------+---------+------------+-----------+-------------+---------+------------+------+-------------+-------------+---------------------------+----------------+------------------------------+--------------+----------+-----------+--------------+-----------+--------------+\n",
       "only showing top 20 rows"
      ]
     },
     "execution_count": 9,
     "metadata": {},
     "output_type": "execute_result"
    }
   ],
   "source": [
    "df"
   ]
  },
  {
   "cell_type": "code",
   "execution_count": 10,
   "id": "8311e627-9427-4f0c-a160-78fca5636332",
   "metadata": {},
   "outputs": [
    {
     "data": {
      "text/plain": [
       "19"
      ]
     },
     "execution_count": 10,
     "metadata": {},
     "output_type": "execute_result"
    }
   ],
   "source": [
    "len(df.columns)"
   ]
  },
  {
   "cell_type": "code",
   "execution_count": 11,
   "id": "7cfa5546-9063-4d07-adc1-7eb4a973f0e0",
   "metadata": {},
   "outputs": [
    {
     "data": {
      "text/plain": [
       "7427"
      ]
     },
     "execution_count": 11,
     "metadata": {},
     "output_type": "execute_result"
    }
   ],
   "source": [
    "df.count()"
   ]
  },
  {
   "cell_type": "markdown",
   "id": "a3653676-439d-4212-93a1-1bcb316f4f68",
   "metadata": {},
   "source": [
    "### 4. Train Test split"
   ]
  },
  {
   "cell_type": "code",
   "execution_count": 12,
   "id": "7ba08c29-77f9-4739-ac5a-7a99b1c63b73",
   "metadata": {},
   "outputs": [],
   "source": [
    "train_df, test_df = df.randomSplit(weights=[0.8, 0.2], seed=100)"
   ]
  },
  {
   "cell_type": "code",
   "execution_count": 13,
   "id": "631f43c5-2c13-4698-b17f-50fab91990f2",
   "metadata": {},
   "outputs": [
    {
     "data": {
      "text/plain": [
       "5915"
      ]
     },
     "execution_count": 13,
     "metadata": {},
     "output_type": "execute_result"
    }
   ],
   "source": [
    "train_df.count()"
   ]
  },
  {
   "cell_type": "code",
   "execution_count": 14,
   "id": "45d7493b-1941-420e-8ec0-d0e77f6b6999",
   "metadata": {},
   "outputs": [
    {
     "data": {
      "text/plain": [
       "1512"
      ]
     },
     "execution_count": 14,
     "metadata": {},
     "output_type": "execute_result"
    }
   ],
   "source": [
    "test_df.count()"
   ]
  },
  {
   "cell_type": "code",
   "execution_count": null,
   "id": "37698698-584c-4ff8-8e7e-b0eb711943c6",
   "metadata": {},
   "outputs": [],
   "source": []
  },
  {
   "cell_type": "code",
   "execution_count": null,
   "id": "7a8c8386-ccc4-4f48-b71e-a95d84c895bf",
   "metadata": {},
   "outputs": [],
   "source": []
  },
  {
   "cell_type": "code",
   "execution_count": null,
   "id": "8ce72115-7c25-4b32-a101-c6927092f66d",
   "metadata": {},
   "outputs": [],
   "source": []
  },
  {
   "cell_type": "markdown",
   "id": "046987ee-3597-4f64-ba58-224cd4c0feae",
   "metadata": {},
   "source": [
    "### 5. Feature transformation"
   ]
  },
  {
   "cell_type": "code",
   "execution_count": 15,
   "id": "a8df1bd9-b1a4-423e-b671-b4d4f4c289d1",
   "metadata": {},
   "outputs": [],
   "source": [
    "from pyspark.sql.types import StringType"
   ]
  },
  {
   "cell_type": "code",
   "execution_count": 16,
   "id": "14ef2fd3-d5cc-4e02-bbc2-ceb209b52f14",
   "metadata": {},
   "outputs": [],
   "source": [
    "from pyspark.ml.feature import StringIndexer, StandardScaler, VectorAssembler, FeatureHasher, OneHotEncoder\n",
    "from pyspark.ml import Pipeline"
   ]
  },
  {
   "cell_type": "code",
   "execution_count": null,
   "id": "0fc03a7c-dbda-4960-a23a-4ee9a04a6853",
   "metadata": {},
   "outputs": [],
   "source": []
  },
  {
   "cell_type": "code",
   "execution_count": 17,
   "id": "7dfee4b7-53e8-4dcc-85a9-14f7883f1815",
   "metadata": {},
   "outputs": [],
   "source": [
    "## Total columns(including target col) = 19\n",
    "\n",
    "## Categorical columns \n",
    "## cat_1 columns (<10 ) ==> one hot encoding\n",
    "cat_1_cols = ['loan_type', 'loan_purpose', 'applicant_sex', 'total_units', 'occupancy_type', 'applicant_age', 'co_applicant_age', 'applicant_credit_score_type', 'co_applicant_credit_score_type']\n",
    "## cat_2 columns (high unique categories) ==> label encoding\n",
    "cat_2_cols = ['state_code', 'county_code', 'derived_msa_md', 'lei']\n",
    "\n",
    "## Numerical columns ==> Standard Scaler\n",
    "num_features = ['loan_amount', 'interest_rate', 'loan_term', 'income', 'property_value']"
   ]
  },
  {
   "cell_type": "code",
   "execution_count": 18,
   "id": "55b11f79-8dd0-4749-8fee-e8ca457abb78",
   "metadata": {},
   "outputs": [],
   "source": [
    "# Perform transformation\n",
    "\n",
    "cat_1_index_cols = [ c+\"_index\" for c in cat_1_cols]\n",
    "cat_1_OHE_cols = [c+\"_OHE\" for c in cat_1_cols]\n",
    "\n",
    "cat_1_stringIndexer = StringIndexer(inputCols=cat_1_cols, outputCols=cat_1_index_cols, handleInvalid=\"skip\")\n",
    "cat_1_OneHotEncoder = OneHotEncoder(inputCols=cat_1_index_cols, outputCols=cat_1_OHE_cols)"
   ]
  },
  {
   "cell_type": "code",
   "execution_count": 19,
   "id": "26be71f1-8a48-43e6-ba61-4028822e1099",
   "metadata": {},
   "outputs": [],
   "source": [
    "cat_2_index_cols = [ c+\"_index\" for c in cat_2_cols]\n",
    "\n",
    "cat_2_stringIndexer = StringIndexer(inputCols=cat_2_cols, outputCols=cat_2_index_cols, handleInvalid=\"skip\")"
   ]
  },
  {
   "cell_type": "code",
   "execution_count": 20,
   "id": "9cc7f00c-b081-4af7-a31d-d4de6524833b",
   "metadata": {},
   "outputs": [],
   "source": [
    "num_assembler = VectorAssembler(inputCols=num_features, outputCol=\"num_vector\")\n",
    "num_scaler = StandardScaler(inputCol='num_vector', outputCol='num_scaled_vector')"
   ]
  },
  {
   "cell_type": "code",
   "execution_count": 21,
   "id": "93954a2a-a412-477c-ab49-c1bcf2515aae",
   "metadata": {},
   "outputs": [],
   "source": [
    "# assemble all the features together\n",
    "X_assembler = VectorAssembler(inputCols=['num_scaled_vector'] + cat_1_OHE_cols + cat_2_index_cols, outputCol='features' )"
   ]
  },
  {
   "cell_type": "code",
   "execution_count": 22,
   "id": "7f81bfc0-4cdf-41ca-92a1-ec3900c4e55a",
   "metadata": {},
   "outputs": [],
   "source": [
    "# make the Pipeline\n",
    "transformPipeline = Pipeline(stages = [cat_1_stringIndexer,cat_1_OneHotEncoder, cat_2_stringIndexer, num_assembler, num_scaler, X_assembler])"
   ]
  },
  {
   "cell_type": "code",
   "execution_count": 23,
   "id": "74bdb90f-203d-45aa-9c1c-ae3aba279248",
   "metadata": {},
   "outputs": [],
   "source": [
    "# train it\n",
    "transformPipeModel = transformPipeline.fit(train_df)"
   ]
  },
  {
   "cell_type": "code",
   "execution_count": 24,
   "id": "56729dd1-46db-471b-9611-58a873ef4c0c",
   "metadata": {
    "scrolled": true
   },
   "outputs": [
    {
     "name": "stderr",
     "output_type": "stream",
     "text": [
      "25/01/20 22:58:45 ERROR Instrumentation: org.apache.hadoop.fs.UnsupportedFileSystemException: No FileSystem for scheme \"mlflow-artifacts\"\n",
      "\tat org.apache.hadoop.fs.FileSystem.getFileSystemClass(FileSystem.java:3443)\n",
      "\tat org.apache.hadoop.fs.FileSystem.createFileSystem(FileSystem.java:3466)\n",
      "\tat org.apache.hadoop.fs.FileSystem.access$300(FileSystem.java:174)\n",
      "\tat org.apache.hadoop.fs.FileSystem$Cache.getInternal(FileSystem.java:3574)\n",
      "\tat org.apache.hadoop.fs.FileSystem$Cache.get(FileSystem.java:3521)\n",
      "\tat org.apache.hadoop.fs.FileSystem.get(FileSystem.java:540)\n",
      "\tat org.apache.hadoop.fs.Path.getFileSystem(Path.java:365)\n",
      "\tat org.apache.spark.ml.util.FileSystemOverwrite.handleOverwrite(ReadWrite.scala:673)\n",
      "\tat org.apache.spark.ml.util.MLWriter.save(ReadWrite.scala:167)\n",
      "\tat org.apache.spark.ml.PipelineModel$PipelineModelWriter.super$save(Pipeline.scala:344)\n",
      "\tat org.apache.spark.ml.PipelineModel$PipelineModelWriter.$anonfun$save$4(Pipeline.scala:344)\n",
      "\tat org.apache.spark.ml.MLEvents.withSaveInstanceEvent(events.scala:174)\n",
      "\tat org.apache.spark.ml.MLEvents.withSaveInstanceEvent$(events.scala:169)\n",
      "\tat org.apache.spark.ml.util.Instrumentation.withSaveInstanceEvent(Instrumentation.scala:42)\n",
      "\tat org.apache.spark.ml.PipelineModel$PipelineModelWriter.$anonfun$save$3(Pipeline.scala:344)\n",
      "\tat org.apache.spark.ml.PipelineModel$PipelineModelWriter.$anonfun$save$3$adapted(Pipeline.scala:344)\n",
      "\tat org.apache.spark.ml.util.Instrumentation$.$anonfun$instrumented$1(Instrumentation.scala:191)\n",
      "\tat scala.util.Try$.apply(Try.scala:213)\n",
      "\tat org.apache.spark.ml.util.Instrumentation$.instrumented(Instrumentation.scala:191)\n",
      "\tat org.apache.spark.ml.PipelineModel$PipelineModelWriter.save(Pipeline.scala:344)\n",
      "\tat java.base/jdk.internal.reflect.NativeMethodAccessorImpl.invoke0(Native Method)\n",
      "\tat java.base/jdk.internal.reflect.NativeMethodAccessorImpl.invoke(NativeMethodAccessorImpl.java:77)\n",
      "\tat java.base/jdk.internal.reflect.DelegatingMethodAccessorImpl.invoke(DelegatingMethodAccessorImpl.java:43)\n",
      "\tat java.base/java.lang.reflect.Method.invoke(Method.java:568)\n",
      "\tat py4j.reflection.MethodInvoker.invoke(MethodInvoker.java:244)\n",
      "\tat py4j.reflection.ReflectionEngine.invoke(ReflectionEngine.java:374)\n",
      "\tat py4j.Gateway.invoke(Gateway.java:282)\n",
      "\tat py4j.commands.AbstractCommand.invokeMethod(AbstractCommand.java:132)\n",
      "\tat py4j.commands.CallCommand.execute(CallCommand.java:79)\n",
      "\tat py4j.ClientServerConnection.waitForCommands(ClientServerConnection.java:182)\n",
      "\tat py4j.ClientServerConnection.run(ClientServerConnection.java:106)\n",
      "\tat java.base/java.lang.Thread.run(Thread.java:833)\n",
      "\n",
      "\u001b[31m2025/01/20 22:58:54 WARNING mlflow.models.model: Model logged without a signature and input example. Please set `input_example` parameter when logging the model to auto infer the model signature.\u001b[0m\n"
     ]
    },
    {
     "data": {
      "text/plain": [
       "<mlflow.models.model.ModelInfo at 0x1303da420>"
      ]
     },
     "execution_count": 24,
     "metadata": {},
     "output_type": "execute_result"
    }
   ],
   "source": [
    "# log pipeline\n",
    "mlflow.spark.log_model(transformPipeModel, 'transform pipeline')"
   ]
  },
  {
   "cell_type": "code",
   "execution_count": null,
   "id": "41edb8e3-a89e-4d6f-98cc-d32d806e0f73",
   "metadata": {},
   "outputs": [],
   "source": []
  },
  {
   "cell_type": "code",
   "execution_count": 25,
   "id": "6a88e010-b53b-43a5-9ab5-554755dfb209",
   "metadata": {},
   "outputs": [],
   "source": [
    "transformPipeModel.write().overwrite().save('./models/transformPipeModel')"
   ]
  },
  {
   "cell_type": "code",
   "execution_count": 26,
   "id": "a52cef78-03b4-4498-9d32-b64765c11dc5",
   "metadata": {},
   "outputs": [],
   "source": [
    "train_df = transformPipeModel.transform(train_df)"
   ]
  },
  {
   "cell_type": "code",
   "execution_count": 27,
   "id": "71098462-35b7-40d3-b7af-e10e0d5907d1",
   "metadata": {
    "scrolled": true
   },
   "outputs": [
    {
     "name": "stderr",
     "output_type": "stream",
     "text": [
      "25/01/20 22:58:55 WARN SparkStringUtils: Truncated the string representation of a plan since it was too large. This behavior can be adjusted by setting 'spark.sql.debug.maxToStringFields'.\n"
     ]
    },
    {
     "data": {
      "text/html": [
       "<table border='1'>\n",
       "<tr><th>lei</th><th>loan_type</th><th>loan_purpose</th><th>loan_amount</th><th>interest_rate</th><th>loan_term</th><th>action_taken</th><th>income</th><th>applicant_age</th><th>applicant_sex</th><th>applicant_credit_score_type</th><th>co_applicant_age</th><th>co_applicant_credit_score_type</th><th>derived_msa_md</th><th>state_code</th><th>county_code</th><th>property_value</th><th>total_units</th><th>occupancy_type</th><th>loan_type_index</th><th>loan_purpose_index</th><th>applicant_sex_index</th><th>total_units_index</th><th>occupancy_type_index</th><th>applicant_age_index</th><th>co_applicant_age_index</th><th>applicant_credit_score_type_index</th><th>co_applicant_credit_score_type_index</th><th>loan_type_OHE</th><th>loan_purpose_OHE</th><th>applicant_sex_OHE</th><th>total_units_OHE</th><th>occupancy_type_OHE</th><th>applicant_age_OHE</th><th>co_applicant_age_OHE</th><th>applicant_credit_score_type_OHE</th><th>co_applicant_credit_score_type_OHE</th><th>state_code_index</th><th>county_code_index</th><th>derived_msa_md_index</th><th>lei_index</th><th>num_vector</th><th>num_scaled_vector</th><th>features</th></tr>\n",
       "<tr><td>01J4SO3XTWZF4PP38209</td><td>1</td><td>1</td><td>465000.0</td><td>3.5</td><td>360</td><td>1</td><td>188.0</td><td>35-44</td><td>2</td><td>3</td><td>35-44</td><td>3</td><td>13820</td><td>AL</td><td>01117</td><td>495000.0</td><td>1</td><td>1</td><td>0.0</td><td>1.0</td><td>1.0</td><td>0.0</td><td>0.0</td><td>0.0</td><td>1.0</td><td>2.0</td><td>4.0</td><td>(3,[0],[1.0])</td><td>(5,[1],[1.0])</td><td>(4,[1],[1.0])</td><td>(3,[0],[1.0])</td><td>(2,[0],[1.0])</td><td>(7,[0],[1.0])</td><td>(8,[1],[1.0])</td><td>(8,[2],[1.0])</td><td>(9,[4],[1.0])</td><td>26.0</td><td>146.0</td><td>67.0</td><td>93.0</td><td>[465000.0,3.5,360...</td><td>[2.04958786384093...</td><td>(58,[0,1,2,3,4,5,...</td></tr>\n",
       "<tr><td>01J4SO3XTWZF4PP38209</td><td>1</td><td>2</td><td>5000.0</td><td>3.2904205</td><td>60</td><td>0</td><td>27.0</td><td>65-74</td><td>1</td><td>1</td><td>9999</td><td>10</td><td>32820</td><td>TN</td><td>47157</td><td>75000.0</td><td>1</td><td>1</td><td>0.0</td><td>3.0</td><td>0.0</td><td>0.0</td><td>0.0</td><td>4.0</td><td>0.0</td><td>0.0</td><td>0.0</td><td>(3,[0],[1.0])</td><td>(5,[3],[1.0])</td><td>(4,[0],[1.0])</td><td>(3,[0],[1.0])</td><td>(2,[0],[1.0])</td><td>(7,[4],[1.0])</td><td>(8,[0],[1.0])</td><td>(8,[0],[1.0])</td><td>(9,[0],[1.0])</td><td>20.0</td><td>100.0</td><td>66.0</td><td>93.0</td><td>[5000.0,3.2904205...</td><td>[0.02203857918108...</td><td>(58,[0,1,2,3,4,5,...</td></tr>\n",
       "<tr><td>01J4SO3XTWZF4PP38209</td><td>1</td><td>4</td><td>15000.0</td><td>0.98</td><td>120</td><td>1</td><td>58.0</td><td>55-64</td><td>2</td><td>7</td><td>65-74</td><td>9</td><td>25060</td><td>MS</td><td>28047</td><td>125000.0</td><td>2</td><td>1</td><td>0.0</td><td>4.0</td><td>1.0</td><td>1.0</td><td>0.0</td><td>3.0</td><td>6.0</td><td>5.0</td><td>1.0</td><td>(3,[0],[1.0])</td><td>(5,[4],[1.0])</td><td>(4,[1],[1.0])</td><td>(3,[1],[1.0])</td><td>(2,[0],[1.0])</td><td>(7,[3],[1.0])</td><td>(8,[6],[1.0])</td><td>(8,[5],[1.0])</td><td>(9,[1],[1.0])</td><td>36.0</td><td>284.0</td><td>174.0</td><td>93.0</td><td>[15000.0,0.980000...</td><td>[0.06611573754325...</td><td>(58,[0,1,2,3,4,5,...</td></tr>\n",
       "<tr><td>01J4SO3XTWZF4PP38209</td><td>1</td><td>31</td><td>25000.0</td><td>5.5</td><td>120</td><td>1</td><td>187.0</td><td>35-44</td><td>2</td><td>7</td><td>35-44</td><td>9</td><td>25620</td><td>MS</td><td>28035</td><td>405000.0</td><td>1</td><td>1</td><td>0.0</td><td>0.0</td><td>1.0</td><td>0.0</td><td>0.0</td><td>0.0</td><td>1.0</td><td>5.0</td><td>1.0</td><td>(3,[0],[1.0])</td><td>(5,[0],[1.0])</td><td>(4,[1],[1.0])</td><td>(3,[0],[1.0])</td><td>(2,[0],[1.0])</td><td>(7,[0],[1.0])</td><td>(8,[1],[1.0])</td><td>(8,[5],[1.0])</td><td>(9,[1],[1.0])</td><td>36.0</td><td>441.0</td><td>225.0</td><td>93.0</td><td>[25000.0,5.5,120....</td><td>[0.11019289590542...</td><td>(58,[0,1,2,3,4,5,...</td></tr>\n",
       "<tr><td>01J4SO3XTWZF4PP38209</td><td>1</td><td>31</td><td>45000.0</td><td>4.25</td><td>59</td><td>1</td><td>94.0</td><td>8888</td><td>4</td><td>9</td><td>9999</td><td>10</td><td>27140</td><td>MS</td><td>28049</td><td>75000.0</td><td>1</td><td>3</td><td>0.0</td><td>0.0</td><td>2.0</td><td>0.0</td><td>1.0</td><td>5.0</td><td>0.0</td><td>3.0</td><td>0.0</td><td>(3,[0],[1.0])</td><td>(5,[0],[1.0])</td><td>(4,[2],[1.0])</td><td>(3,[0],[1.0])</td><td>(2,[1],[1.0])</td><td>(7,[5],[1.0])</td><td>(8,[0],[1.0])</td><td>(8,[3],[1.0])</td><td>(9,[0],[1.0])</td><td>36.0</td><td>914.0</td><td>179.0</td><td>93.0</td><td>[45000.0,4.25,59....</td><td>[0.19834721262976...</td><td>(58,[0,1,2,3,4,5,...</td></tr>\n",
       "<tr><td>01J4SO3XTWZF4PP38209</td><td>1</td><td>31</td><td>205000.0</td><td>3.0</td><td>360</td><td>1</td><td>97.0</td><td>65-74</td><td>1</td><td>1</td><td>65-74</td><td>1</td><td>19300</td><td>AL</td><td>01003</td><td>375000.0</td><td>1</td><td>1</td><td>0.0</td><td>0.0</td><td>0.0</td><td>0.0</td><td>0.0</td><td>4.0</td><td>6.0</td><td>0.0</td><td>2.0</td><td>(3,[0],[1.0])</td><td>(5,[0],[1.0])</td><td>(4,[0],[1.0])</td><td>(3,[0],[1.0])</td><td>(2,[0],[1.0])</td><td>(7,[4],[1.0])</td><td>(8,[6],[1.0])</td><td>(8,[0],[1.0])</td><td>(9,[2],[1.0])</td><td>26.0</td><td>145.0</td><td>126.0</td><td>93.0</td><td>[205000.0,3.0,360...</td><td>[0.90358174642449...</td><td>(58,[0,1,2,3,4,5,...</td></tr>\n",
       "<tr><td>01J4SO3XTWZF4PP38209</td><td>1</td><td>32</td><td>105000.0</td><td>2.625</td><td>180</td><td>1</td><td>65.0</td><td>45-54</td><td>2</td><td>2</td><td>9999</td><td>10</td><td>25060</td><td>MS</td><td>28047</td><td>175000.0</td><td>1</td><td>1</td><td>0.0</td><td>2.0</td><td>1.0</td><td>0.0</td><td>0.0</td><td>1.0</td><td>0.0</td><td>1.0</td><td>0.0</td><td>(3,[0],[1.0])</td><td>(5,[2],[1.0])</td><td>(4,[1],[1.0])</td><td>(3,[0],[1.0])</td><td>(2,[0],[1.0])</td><td>(7,[1],[1.0])</td><td>(8,[0],[1.0])</td><td>(8,[1],[1.0])</td><td>(9,[0],[1.0])</td><td>36.0</td><td>284.0</td><td>174.0</td><td>93.0</td><td>[105000.0,2.625,1...</td><td>[0.46281016280279...</td><td>(58,[0,1,2,3,4,5,...</td></tr>\n",
       "<tr><td>01J4SO3XTWZF4PP38209</td><td>2</td><td>1</td><td>115000.0</td><td>3.99</td><td>360</td><td>0</td><td>94.0</td><td>8888</td><td>4</td><td>9</td><td>8888</td><td>9</td><td>99999</td><td>MS</td><td>28083</td><td>125000.0</td><td>1</td><td>1</td><td>1.0</td><td>1.0</td><td>2.0</td><td>0.0</td><td>0.0</td><td>5.0</td><td>4.0</td><td>3.0</td><td>1.0</td><td>(3,[1],[1.0])</td><td>(5,[1],[1.0])</td><td>(4,[2],[1.0])</td><td>(3,[0],[1.0])</td><td>(2,[0],[1.0])</td><td>(7,[5],[1.0])</td><td>(8,[4],[1.0])</td><td>(8,[3],[1.0])</td><td>(9,[1],[1.0])</td><td>36.0</td><td>918.0</td><td>0.0</td><td>93.0</td><td>[115000.0,3.99000...</td><td>[0.50688732116496...</td><td>(58,[0,1,2,3,4,6,...</td></tr>\n",
       "<tr><td>01J4SO3XTWZF4PP38209</td><td>2</td><td>1</td><td>315000.0</td><td>2.875</td><td>360</td><td>1</td><td>87.0</td><td>25-34</td><td>1</td><td>1</td><td>9999</td><td>10</td><td>32820</td><td>MS</td><td>28137</td><td>325000.0</td><td>1</td><td>1</td><td>1.0</td><td>1.0</td><td>0.0</td><td>0.0</td><td>0.0</td><td>2.0</td><td>0.0</td><td>0.0</td><td>0.0</td><td>(3,[1],[1.0])</td><td>(5,[1],[1.0])</td><td>(4,[0],[1.0])</td><td>(3,[0],[1.0])</td><td>(2,[0],[1.0])</td><td>(7,[2],[1.0])</td><td>(8,[0],[1.0])</td><td>(8,[0],[1.0])</td><td>(9,[0],[1.0])</td><td>36.0</td><td>443.0</td><td>66.0</td><td>93.0</td><td>[315000.0,2.875,3...</td><td>[1.38843048840837...</td><td>(58,[0,1,2,3,4,6,...</td></tr>\n",
       "<tr><td>0S8H5NJFLHEVJXVTQ413</td><td>1</td><td>32</td><td>285000.0</td><td>3.5</td><td>360</td><td>1</td><td>64.0</td><td>25-34</td><td>3</td><td>1</td><td>25-34</td><td>1</td><td>13380</td><td>WA</td><td>53073</td><td>355000.0</td><td>1</td><td>1</td><td>0.0</td><td>2.0</td><td>3.0</td><td>0.0</td><td>0.0</td><td>2.0</td><td>3.0</td><td>0.0</td><td>2.0</td><td>(3,[0],[1.0])</td><td>(5,[2],[1.0])</td><td>(4,[3],[1.0])</td><td>(3,[0],[1.0])</td><td>(2,[0],[1.0])</td><td>(7,[2],[1.0])</td><td>(8,[3],[1.0])</td><td>(8,[0],[1.0])</td><td>(9,[2],[1.0])</td><td>10.0</td><td>221.0</td><td>153.0</td><td>577.0</td><td>[285000.0,3.5,360...</td><td>[1.25619901332186...</td><td>(58,[0,1,2,3,4,5,...</td></tr>\n",
       "<tr><td>1IE8VN30JCEQV1H4R804</td><td>1</td><td>1</td><td>255000.0</td><td>2.75</td><td>360</td><td>0</td><td>102.0</td><td>8888</td><td>4</td><td>9</td><td>8888</td><td>9</td><td>47894</td><td>DC</td><td>11001</td><td>835000.0</td><td>1</td><td>1</td><td>0.0</td><td>1.0</td><td>2.0</td><td>0.0</td><td>0.0</td><td>5.0</td><td>4.0</td><td>3.0</td><td>1.0</td><td>(3,[0],[1.0])</td><td>(5,[1],[1.0])</td><td>(4,[2],[1.0])</td><td>(3,[0],[1.0])</td><td>(2,[0],[1.0])</td><td>(7,[5],[1.0])</td><td>(8,[4],[1.0])</td><td>(8,[3],[1.0])</td><td>(9,[1],[1.0])</td><td>47.0</td><td>124.0</td><td>4.0</td><td>349.0</td><td>[255000.0,2.75,36...</td><td>[1.12396753823535...</td><td>(58,[0,1,2,3,4,5,...</td></tr>\n",
       "<tr><td>1IE8VN30JCEQV1H4R804</td><td>1</td><td>31</td><td>165000.0</td><td>2.75</td><td>360</td><td>1</td><td>99.0</td><td>55-64</td><td>3</td><td>1</td><td>55-64</td><td>9</td><td>35614</td><td>NY</td><td>36085</td><td>785000.0</td><td>1</td><td>1</td><td>0.0</td><td>0.0</td><td>3.0</td><td>0.0</td><td>0.0</td><td>3.0</td><td>5.0</td><td>0.0</td><td>1.0</td><td>(3,[0],[1.0])</td><td>(5,[0],[1.0])</td><td>(4,[3],[1.0])</td><td>(3,[0],[1.0])</td><td>(2,[0],[1.0])</td><td>(7,[3],[1.0])</td><td>(8,[5],[1.0])</td><td>(8,[0],[1.0])</td><td>(9,[1],[1.0])</td><td>13.0</td><td>290.0</td><td>10.0</td><td>349.0</td><td>[165000.0,2.75,36...</td><td>[0.72727311297581...</td><td>(58,[0,1,2,3,4,5,...</td></tr>\n",
       "<tr><td>213800THW6KSUL191M34</td><td>1</td><td>31</td><td>145000.0</td><td>3.125</td><td>240</td><td>1</td><td>92.0</td><td>55-64</td><td>2</td><td>7</td><td>55-64</td><td>9</td><td>99999</td><td>ND</td><td>38093</td><td>175000.0</td><td>1</td><td>1</td><td>0.0</td><td>0.0</td><td>1.0</td><td>0.0</td><td>0.0</td><td>3.0</td><td>5.0</td><td>5.0</td><td>1.0</td><td>(3,[0],[1.0])</td><td>(5,[0],[1.0])</td><td>(4,[1],[1.0])</td><td>(3,[0],[1.0])</td><td>(2,[0],[1.0])</td><td>(7,[3],[1.0])</td><td>(8,[5],[1.0])</td><td>(8,[5],[1.0])</td><td>(9,[1],[1.0])</td><td>48.0</td><td>603.0</td><td>0.0</td><td>580.0</td><td>[145000.0,3.125,2...</td><td>[0.63911879625147...</td><td>(58,[0,1,2,3,4,5,...</td></tr>\n",
       "<tr><td>213800XR2TCBQJSF1X93</td><td>1</td><td>31</td><td>95000.0</td><td>2.625</td><td>180</td><td>1</td><td>37.0</td><td>45-54</td><td>2</td><td>3</td><td>55-64</td><td>3</td><td>23420</td><td>CA</td><td>06019</td><td>245000.0</td><td>1</td><td>1</td><td>0.0</td><td>0.0</td><td>1.0</td><td>0.0</td><td>0.0</td><td>1.0</td><td>5.0</td><td>2.0</td><td>4.0</td><td>(3,[0],[1.0])</td><td>(5,[0],[1.0])</td><td>(4,[1],[1.0])</td><td>(3,[0],[1.0])</td><td>(2,[0],[1.0])</td><td>(7,[1],[1.0])</td><td>(8,[5],[1.0])</td><td>(8,[2],[1.0])</td><td>(9,[4],[1.0])</td><td>0.0</td><td>135.0</td><td>115.0</td><td>140.0</td><td>[95000.0,2.625,18...</td><td>[0.41873300444062...</td><td>(58,[0,1,2,3,4,5,...</td></tr>\n",
       "<tr><td>213800XR2TCBQJSF1X93</td><td>1</td><td>31</td><td>255000.0</td><td>3.375</td><td>360</td><td>1</td><td>187.0</td><td>45-54</td><td>2</td><td>1</td><td>45-54</td><td>2</td><td>99999</td><td>WA</td><td>53001</td><td>375000.0</td><td>1</td><td>1</td><td>0.0</td><td>0.0</td><td>1.0</td><td>0.0</td><td>0.0</td><td>1.0</td><td>2.0</td><td>0.0</td><td>3.0</td><td>(3,[0],[1.0])</td><td>(5,[0],[1.0])</td><td>(4,[1],[1.0])</td><td>(3,[0],[1.0])</td><td>(2,[0],[1.0])</td><td>(7,[1],[1.0])</td><td>(8,[2],[1.0])</td><td>(8,[0],[1.0])</td><td>(9,[3],[1.0])</td><td>10.0</td><td>1154.0</td><td>0.0</td><td>140.0</td><td>[255000.0,3.375,3...</td><td>[1.12396753823535...</td><td>(58,[0,1,2,3,4,5,...</td></tr>\n",
       "<tr><td>213800XR2TCBQJSF1X93</td><td>1</td><td>31</td><td>265000.0</td><td>3.75</td><td>360</td><td>1</td><td>98.0</td><td>55-64</td><td>1</td><td>3</td><td>45-54</td><td>3</td><td>99999</td><td>LA</td><td>22009</td><td>335000.0</td><td>1</td><td>1</td><td>0.0</td><td>0.0</td><td>0.0</td><td>0.0</td><td>0.0</td><td>3.0</td><td>2.0</td><td>2.0</td><td>4.0</td><td>(3,[0],[1.0])</td><td>(5,[0],[1.0])</td><td>(4,[0],[1.0])</td><td>(3,[0],[1.0])</td><td>(2,[0],[1.0])</td><td>(7,[3],[1.0])</td><td>(8,[2],[1.0])</td><td>(8,[2],[1.0])</td><td>(9,[4],[1.0])</td><td>28.0</td><td>549.0</td><td>0.0</td><td>140.0</td><td>[265000.0,3.75,36...</td><td>[1.16804469659752...</td><td>(58,[0,1,2,3,4,5,...</td></tr>\n",
       "<tr><td>213800XR2TCBQJSF1X93</td><td>1</td><td>31</td><td>345000.0</td><td>3.5</td><td>360</td><td>1</td><td>86.0</td><td>25-34</td><td>1</td><td>2</td><td>35-44</td><td>1</td><td>29820</td><td>NV</td><td>32003</td><td>465000.0</td><td>1</td><td>1</td><td>0.0</td><td>0.0</td><td>0.0</td><td>0.0</td><td>0.0</td><td>2.0</td><td>1.0</td><td>1.0</td><td>2.0</td><td>(3,[0],[1.0])</td><td>(5,[0],[1.0])</td><td>(4,[0],[1.0])</td><td>(3,[0],[1.0])</td><td>(2,[0],[1.0])</td><td>(7,[2],[1.0])</td><td>(8,[1],[1.0])</td><td>(8,[1],[1.0])</td><td>(9,[2],[1.0])</td><td>25.0</td><td>5.0</td><td>16.0</td><td>140.0</td><td>[345000.0,3.5,360...</td><td>[1.52066196349488...</td><td>(58,[0,1,2,3,4,5,...</td></tr>\n",
       "<tr><td>213800XR2TCBQJSF1X93</td><td>1</td><td>31</td><td>465000.0</td><td>3.2904205</td><td>360</td><td>0</td><td>191.0</td><td>45-54</td><td>2</td><td>2</td><td>35-44</td><td>3</td><td>41740</td><td>CA</td><td>06073</td><td>785000.0</td><td>1</td><td>1</td><td>0.0</td><td>0.0</td><td>1.0</td><td>0.0</td><td>0.0</td><td>1.0</td><td>1.0</td><td>1.0</td><td>4.0</td><td>(3,[0],[1.0])</td><td>(5,[0],[1.0])</td><td>(4,[1],[1.0])</td><td>(3,[0],[1.0])</td><td>(2,[0],[1.0])</td><td>(7,[1],[1.0])</td><td>(8,[1],[1.0])</td><td>(8,[1],[1.0])</td><td>(9,[4],[1.0])</td><td>0.0</td><td>3.0</td><td>13.0</td><td>140.0</td><td>[465000.0,3.29042...</td><td>[2.04958786384093...</td><td>(58,[0,1,2,3,4,5,...</td></tr>\n",
       "<tr><td>213800XR2TCBQJSF1X93</td><td>1</td><td>32</td><td>395000.0</td><td>2.875</td><td>360</td><td>1</td><td>90.0</td><td>65-74</td><td>1</td><td>3</td><td>65-74</td><td>3</td><td>40900</td><td>CA</td><td>06067</td><td>805000.0</td><td>1</td><td>1</td><td>0.0</td><td>2.0</td><td>0.0</td><td>0.0</td><td>0.0</td><td>4.0</td><td>6.0</td><td>2.0</td><td>4.0</td><td>(3,[0],[1.0])</td><td>(5,[2],[1.0])</td><td>(4,[0],[1.0])</td><td>(3,[0],[1.0])</td><td>(2,[0],[1.0])</td><td>(7,[4],[1.0])</td><td>(8,[6],[1.0])</td><td>(8,[2],[1.0])</td><td>(9,[4],[1.0])</td><td>0.0</td><td>11.0</td><td>22.0</td><td>140.0</td><td>[395000.0,2.875,3...</td><td>[1.74104775530573...</td><td>(58,[0,1,2,3,4,5,...</td></tr>\n",
       "<tr><td>2549001SI0EMFPT39035</td><td>1</td><td>31</td><td>185000.0</td><td>2.875</td><td>360</td><td>1</td><td>111.0</td><td>65-74</td><td>1</td><td>7</td><td>65-74</td><td>7</td><td>29820</td><td>NV</td><td>32003</td><td>285000.0</td><td>1</td><td>2</td><td>0.0</td><td>0.0</td><td>0.0</td><td>0.0</td><td>2.0</td><td>4.0</td><td>6.0</td><td>5.0</td><td>6.0</td><td>(3,[0],[1.0])</td><td>(5,[0],[1.0])</td><td>(4,[0],[1.0])</td><td>(3,[0],[1.0])</td><td>(2,[],[])</td><td>(7,[4],[1.0])</td><td>(8,[6],[1.0])</td><td>(8,[5],[1.0])</td><td>(9,[6],[1.0])</td><td>25.0</td><td>5.0</td><td>16.0</td><td>584.0</td><td>[185000.0,2.875,3...</td><td>[0.81542742970015...</td><td>(58,[0,1,2,3,4,5,...</td></tr>\n",
       "</table>\n",
       "only showing top 20 rows\n"
      ],
      "text/plain": [
       "+--------------------+---------+------------+-----------+-------------+---------+------------+------+-------------+-------------+---------------------------+----------------+------------------------------+--------------+----------+-----------+--------------+-----------+--------------+---------------+------------------+-------------------+-----------------+--------------------+-------------------+----------------------+---------------------------------+------------------------------------+-------------+----------------+-----------------+---------------+------------------+-----------------+--------------------+-------------------------------+----------------------------------+----------------+-----------------+--------------------+---------+--------------------+--------------------+--------------------+\n",
       "|                 lei|loan_type|loan_purpose|loan_amount|interest_rate|loan_term|action_taken|income|applicant_age|applicant_sex|applicant_credit_score_type|co_applicant_age|co_applicant_credit_score_type|derived_msa_md|state_code|county_code|property_value|total_units|occupancy_type|loan_type_index|loan_purpose_index|applicant_sex_index|total_units_index|occupancy_type_index|applicant_age_index|co_applicant_age_index|applicant_credit_score_type_index|co_applicant_credit_score_type_index|loan_type_OHE|loan_purpose_OHE|applicant_sex_OHE|total_units_OHE|occupancy_type_OHE|applicant_age_OHE|co_applicant_age_OHE|applicant_credit_score_type_OHE|co_applicant_credit_score_type_OHE|state_code_index|county_code_index|derived_msa_md_index|lei_index|          num_vector|   num_scaled_vector|            features|\n",
       "+--------------------+---------+------------+-----------+-------------+---------+------------+------+-------------+-------------+---------------------------+----------------+------------------------------+--------------+----------+-----------+--------------+-----------+--------------+---------------+------------------+-------------------+-----------------+--------------------+-------------------+----------------------+---------------------------------+------------------------------------+-------------+----------------+-----------------+---------------+------------------+-----------------+--------------------+-------------------------------+----------------------------------+----------------+-----------------+--------------------+---------+--------------------+--------------------+--------------------+\n",
       "|01J4SO3XTWZF4PP38209|        1|           1|   465000.0|          3.5|      360|           1| 188.0|        35-44|            2|                          3|           35-44|                             3|         13820|        AL|      01117|      495000.0|          1|             1|            0.0|               1.0|                1.0|              0.0|                 0.0|                0.0|                   1.0|                              2.0|                                 4.0|(3,[0],[1.0])|   (5,[1],[1.0])|    (4,[1],[1.0])|  (3,[0],[1.0])|     (2,[0],[1.0])|    (7,[0],[1.0])|       (8,[1],[1.0])|                  (8,[2],[1.0])|                     (9,[4],[1.0])|            26.0|            146.0|                67.0|     93.0|[465000.0,3.5,360...|[2.04958786384093...|(58,[0,1,2,3,4,5,...|\n",
       "|01J4SO3XTWZF4PP38209|        1|           2|     5000.0|    3.2904205|       60|           0|  27.0|        65-74|            1|                          1|            9999|                            10|         32820|        TN|      47157|       75000.0|          1|             1|            0.0|               3.0|                0.0|              0.0|                 0.0|                4.0|                   0.0|                              0.0|                                 0.0|(3,[0],[1.0])|   (5,[3],[1.0])|    (4,[0],[1.0])|  (3,[0],[1.0])|     (2,[0],[1.0])|    (7,[4],[1.0])|       (8,[0],[1.0])|                  (8,[0],[1.0])|                     (9,[0],[1.0])|            20.0|            100.0|                66.0|     93.0|[5000.0,3.2904205...|[0.02203857918108...|(58,[0,1,2,3,4,5,...|\n",
       "|01J4SO3XTWZF4PP38209|        1|           4|    15000.0|         0.98|      120|           1|  58.0|        55-64|            2|                          7|           65-74|                             9|         25060|        MS|      28047|      125000.0|          2|             1|            0.0|               4.0|                1.0|              1.0|                 0.0|                3.0|                   6.0|                              5.0|                                 1.0|(3,[0],[1.0])|   (5,[4],[1.0])|    (4,[1],[1.0])|  (3,[1],[1.0])|     (2,[0],[1.0])|    (7,[3],[1.0])|       (8,[6],[1.0])|                  (8,[5],[1.0])|                     (9,[1],[1.0])|            36.0|            284.0|               174.0|     93.0|[15000.0,0.980000...|[0.06611573754325...|(58,[0,1,2,3,4,5,...|\n",
       "|01J4SO3XTWZF4PP38209|        1|          31|    25000.0|          5.5|      120|           1| 187.0|        35-44|            2|                          7|           35-44|                             9|         25620|        MS|      28035|      405000.0|          1|             1|            0.0|               0.0|                1.0|              0.0|                 0.0|                0.0|                   1.0|                              5.0|                                 1.0|(3,[0],[1.0])|   (5,[0],[1.0])|    (4,[1],[1.0])|  (3,[0],[1.0])|     (2,[0],[1.0])|    (7,[0],[1.0])|       (8,[1],[1.0])|                  (8,[5],[1.0])|                     (9,[1],[1.0])|            36.0|            441.0|               225.0|     93.0|[25000.0,5.5,120....|[0.11019289590542...|(58,[0,1,2,3,4,5,...|\n",
       "|01J4SO3XTWZF4PP38209|        1|          31|    45000.0|         4.25|       59|           1|  94.0|         8888|            4|                          9|            9999|                            10|         27140|        MS|      28049|       75000.0|          1|             3|            0.0|               0.0|                2.0|              0.0|                 1.0|                5.0|                   0.0|                              3.0|                                 0.0|(3,[0],[1.0])|   (5,[0],[1.0])|    (4,[2],[1.0])|  (3,[0],[1.0])|     (2,[1],[1.0])|    (7,[5],[1.0])|       (8,[0],[1.0])|                  (8,[3],[1.0])|                     (9,[0],[1.0])|            36.0|            914.0|               179.0|     93.0|[45000.0,4.25,59....|[0.19834721262976...|(58,[0,1,2,3,4,5,...|\n",
       "|01J4SO3XTWZF4PP38209|        1|          31|   205000.0|          3.0|      360|           1|  97.0|        65-74|            1|                          1|           65-74|                             1|         19300|        AL|      01003|      375000.0|          1|             1|            0.0|               0.0|                0.0|              0.0|                 0.0|                4.0|                   6.0|                              0.0|                                 2.0|(3,[0],[1.0])|   (5,[0],[1.0])|    (4,[0],[1.0])|  (3,[0],[1.0])|     (2,[0],[1.0])|    (7,[4],[1.0])|       (8,[6],[1.0])|                  (8,[0],[1.0])|                     (9,[2],[1.0])|            26.0|            145.0|               126.0|     93.0|[205000.0,3.0,360...|[0.90358174642449...|(58,[0,1,2,3,4,5,...|\n",
       "|01J4SO3XTWZF4PP38209|        1|          32|   105000.0|        2.625|      180|           1|  65.0|        45-54|            2|                          2|            9999|                            10|         25060|        MS|      28047|      175000.0|          1|             1|            0.0|               2.0|                1.0|              0.0|                 0.0|                1.0|                   0.0|                              1.0|                                 0.0|(3,[0],[1.0])|   (5,[2],[1.0])|    (4,[1],[1.0])|  (3,[0],[1.0])|     (2,[0],[1.0])|    (7,[1],[1.0])|       (8,[0],[1.0])|                  (8,[1],[1.0])|                     (9,[0],[1.0])|            36.0|            284.0|               174.0|     93.0|[105000.0,2.625,1...|[0.46281016280279...|(58,[0,1,2,3,4,5,...|\n",
       "|01J4SO3XTWZF4PP38209|        2|           1|   115000.0|         3.99|      360|           0|  94.0|         8888|            4|                          9|            8888|                             9|         99999|        MS|      28083|      125000.0|          1|             1|            1.0|               1.0|                2.0|              0.0|                 0.0|                5.0|                   4.0|                              3.0|                                 1.0|(3,[1],[1.0])|   (5,[1],[1.0])|    (4,[2],[1.0])|  (3,[0],[1.0])|     (2,[0],[1.0])|    (7,[5],[1.0])|       (8,[4],[1.0])|                  (8,[3],[1.0])|                     (9,[1],[1.0])|            36.0|            918.0|                 0.0|     93.0|[115000.0,3.99000...|[0.50688732116496...|(58,[0,1,2,3,4,6,...|\n",
       "|01J4SO3XTWZF4PP38209|        2|           1|   315000.0|        2.875|      360|           1|  87.0|        25-34|            1|                          1|            9999|                            10|         32820|        MS|      28137|      325000.0|          1|             1|            1.0|               1.0|                0.0|              0.0|                 0.0|                2.0|                   0.0|                              0.0|                                 0.0|(3,[1],[1.0])|   (5,[1],[1.0])|    (4,[0],[1.0])|  (3,[0],[1.0])|     (2,[0],[1.0])|    (7,[2],[1.0])|       (8,[0],[1.0])|                  (8,[0],[1.0])|                     (9,[0],[1.0])|            36.0|            443.0|                66.0|     93.0|[315000.0,2.875,3...|[1.38843048840837...|(58,[0,1,2,3,4,6,...|\n",
       "|0S8H5NJFLHEVJXVTQ413|        1|          32|   285000.0|          3.5|      360|           1|  64.0|        25-34|            3|                          1|           25-34|                             1|         13380|        WA|      53073|      355000.0|          1|             1|            0.0|               2.0|                3.0|              0.0|                 0.0|                2.0|                   3.0|                              0.0|                                 2.0|(3,[0],[1.0])|   (5,[2],[1.0])|    (4,[3],[1.0])|  (3,[0],[1.0])|     (2,[0],[1.0])|    (7,[2],[1.0])|       (8,[3],[1.0])|                  (8,[0],[1.0])|                     (9,[2],[1.0])|            10.0|            221.0|               153.0|    577.0|[285000.0,3.5,360...|[1.25619901332186...|(58,[0,1,2,3,4,5,...|\n",
       "|1IE8VN30JCEQV1H4R804|        1|           1|   255000.0|         2.75|      360|           0| 102.0|         8888|            4|                          9|            8888|                             9|         47894|        DC|      11001|      835000.0|          1|             1|            0.0|               1.0|                2.0|              0.0|                 0.0|                5.0|                   4.0|                              3.0|                                 1.0|(3,[0],[1.0])|   (5,[1],[1.0])|    (4,[2],[1.0])|  (3,[0],[1.0])|     (2,[0],[1.0])|    (7,[5],[1.0])|       (8,[4],[1.0])|                  (8,[3],[1.0])|                     (9,[1],[1.0])|            47.0|            124.0|                 4.0|    349.0|[255000.0,2.75,36...|[1.12396753823535...|(58,[0,1,2,3,4,5,...|\n",
       "|1IE8VN30JCEQV1H4R804|        1|          31|   165000.0|         2.75|      360|           1|  99.0|        55-64|            3|                          1|           55-64|                             9|         35614|        NY|      36085|      785000.0|          1|             1|            0.0|               0.0|                3.0|              0.0|                 0.0|                3.0|                   5.0|                              0.0|                                 1.0|(3,[0],[1.0])|   (5,[0],[1.0])|    (4,[3],[1.0])|  (3,[0],[1.0])|     (2,[0],[1.0])|    (7,[3],[1.0])|       (8,[5],[1.0])|                  (8,[0],[1.0])|                     (9,[1],[1.0])|            13.0|            290.0|                10.0|    349.0|[165000.0,2.75,36...|[0.72727311297581...|(58,[0,1,2,3,4,5,...|\n",
       "|213800THW6KSUL191M34|        1|          31|   145000.0|        3.125|      240|           1|  92.0|        55-64|            2|                          7|           55-64|                             9|         99999|        ND|      38093|      175000.0|          1|             1|            0.0|               0.0|                1.0|              0.0|                 0.0|                3.0|                   5.0|                              5.0|                                 1.0|(3,[0],[1.0])|   (5,[0],[1.0])|    (4,[1],[1.0])|  (3,[0],[1.0])|     (2,[0],[1.0])|    (7,[3],[1.0])|       (8,[5],[1.0])|                  (8,[5],[1.0])|                     (9,[1],[1.0])|            48.0|            603.0|                 0.0|    580.0|[145000.0,3.125,2...|[0.63911879625147...|(58,[0,1,2,3,4,5,...|\n",
       "|213800XR2TCBQJSF1X93|        1|          31|    95000.0|        2.625|      180|           1|  37.0|        45-54|            2|                          3|           55-64|                             3|         23420|        CA|      06019|      245000.0|          1|             1|            0.0|               0.0|                1.0|              0.0|                 0.0|                1.0|                   5.0|                              2.0|                                 4.0|(3,[0],[1.0])|   (5,[0],[1.0])|    (4,[1],[1.0])|  (3,[0],[1.0])|     (2,[0],[1.0])|    (7,[1],[1.0])|       (8,[5],[1.0])|                  (8,[2],[1.0])|                     (9,[4],[1.0])|             0.0|            135.0|               115.0|    140.0|[95000.0,2.625,18...|[0.41873300444062...|(58,[0,1,2,3,4,5,...|\n",
       "|213800XR2TCBQJSF1X93|        1|          31|   255000.0|        3.375|      360|           1| 187.0|        45-54|            2|                          1|           45-54|                             2|         99999|        WA|      53001|      375000.0|          1|             1|            0.0|               0.0|                1.0|              0.0|                 0.0|                1.0|                   2.0|                              0.0|                                 3.0|(3,[0],[1.0])|   (5,[0],[1.0])|    (4,[1],[1.0])|  (3,[0],[1.0])|     (2,[0],[1.0])|    (7,[1],[1.0])|       (8,[2],[1.0])|                  (8,[0],[1.0])|                     (9,[3],[1.0])|            10.0|           1154.0|                 0.0|    140.0|[255000.0,3.375,3...|[1.12396753823535...|(58,[0,1,2,3,4,5,...|\n",
       "|213800XR2TCBQJSF1X93|        1|          31|   265000.0|         3.75|      360|           1|  98.0|        55-64|            1|                          3|           45-54|                             3|         99999|        LA|      22009|      335000.0|          1|             1|            0.0|               0.0|                0.0|              0.0|                 0.0|                3.0|                   2.0|                              2.0|                                 4.0|(3,[0],[1.0])|   (5,[0],[1.0])|    (4,[0],[1.0])|  (3,[0],[1.0])|     (2,[0],[1.0])|    (7,[3],[1.0])|       (8,[2],[1.0])|                  (8,[2],[1.0])|                     (9,[4],[1.0])|            28.0|            549.0|                 0.0|    140.0|[265000.0,3.75,36...|[1.16804469659752...|(58,[0,1,2,3,4,5,...|\n",
       "|213800XR2TCBQJSF1X93|        1|          31|   345000.0|          3.5|      360|           1|  86.0|        25-34|            1|                          2|           35-44|                             1|         29820|        NV|      32003|      465000.0|          1|             1|            0.0|               0.0|                0.0|              0.0|                 0.0|                2.0|                   1.0|                              1.0|                                 2.0|(3,[0],[1.0])|   (5,[0],[1.0])|    (4,[0],[1.0])|  (3,[0],[1.0])|     (2,[0],[1.0])|    (7,[2],[1.0])|       (8,[1],[1.0])|                  (8,[1],[1.0])|                     (9,[2],[1.0])|            25.0|              5.0|                16.0|    140.0|[345000.0,3.5,360...|[1.52066196349488...|(58,[0,1,2,3,4,5,...|\n",
       "|213800XR2TCBQJSF1X93|        1|          31|   465000.0|    3.2904205|      360|           0| 191.0|        45-54|            2|                          2|           35-44|                             3|         41740|        CA|      06073|      785000.0|          1|             1|            0.0|               0.0|                1.0|              0.0|                 0.0|                1.0|                   1.0|                              1.0|                                 4.0|(3,[0],[1.0])|   (5,[0],[1.0])|    (4,[1],[1.0])|  (3,[0],[1.0])|     (2,[0],[1.0])|    (7,[1],[1.0])|       (8,[1],[1.0])|                  (8,[1],[1.0])|                     (9,[4],[1.0])|             0.0|              3.0|                13.0|    140.0|[465000.0,3.29042...|[2.04958786384093...|(58,[0,1,2,3,4,5,...|\n",
       "|213800XR2TCBQJSF1X93|        1|          32|   395000.0|        2.875|      360|           1|  90.0|        65-74|            1|                          3|           65-74|                             3|         40900|        CA|      06067|      805000.0|          1|             1|            0.0|               2.0|                0.0|              0.0|                 0.0|                4.0|                   6.0|                              2.0|                                 4.0|(3,[0],[1.0])|   (5,[2],[1.0])|    (4,[0],[1.0])|  (3,[0],[1.0])|     (2,[0],[1.0])|    (7,[4],[1.0])|       (8,[6],[1.0])|                  (8,[2],[1.0])|                     (9,[4],[1.0])|             0.0|             11.0|                22.0|    140.0|[395000.0,2.875,3...|[1.74104775530573...|(58,[0,1,2,3,4,5,...|\n",
       "|2549001SI0EMFPT39035|        1|          31|   185000.0|        2.875|      360|           1| 111.0|        65-74|            1|                          7|           65-74|                             7|         29820|        NV|      32003|      285000.0|          1|             2|            0.0|               0.0|                0.0|              0.0|                 2.0|                4.0|                   6.0|                              5.0|                                 6.0|(3,[0],[1.0])|   (5,[0],[1.0])|    (4,[0],[1.0])|  (3,[0],[1.0])|         (2,[],[])|    (7,[4],[1.0])|       (8,[6],[1.0])|                  (8,[5],[1.0])|                     (9,[6],[1.0])|            25.0|              5.0|                16.0|    584.0|[185000.0,2.875,3...|[0.81542742970015...|(58,[0,1,2,3,4,5,...|\n",
       "+--------------------+---------+------------+-----------+-------------+---------+------------+------+-------------+-------------+---------------------------+----------------+------------------------------+--------------+----------+-----------+--------------+-----------+--------------+---------------+------------------+-------------------+-----------------+--------------------+-------------------+----------------------+---------------------------------+------------------------------------+-------------+----------------+-----------------+---------------+------------------+-----------------+--------------------+-------------------------------+----------------------------------+----------------+-----------------+--------------------+---------+--------------------+--------------------+--------------------+\n",
       "only showing top 20 rows"
      ]
     },
     "execution_count": 27,
     "metadata": {},
     "output_type": "execute_result"
    }
   ],
   "source": [
    "train_df"
   ]
  },
  {
   "cell_type": "code",
   "execution_count": null,
   "id": "3b9eb111-0ca0-4717-b4cd-ddde7cd72992",
   "metadata": {},
   "outputs": [],
   "source": []
  },
  {
   "cell_type": "markdown",
   "id": "e0519858-0218-49c1-8f52-55e5307754be",
   "metadata": {},
   "source": [
    "### 6. Models Prediction"
   ]
  },
  {
   "cell_type": "code",
   "execution_count": 28,
   "id": "af0b691a-a5fa-4e4f-a6fa-aec6a3051cc8",
   "metadata": {},
   "outputs": [],
   "source": [
    "from pyspark.ml.classification import LogisticRegression, LinearSVC, NaiveBayes, DecisionTreeClassifier, RandomForestClassifier, GBTClassifier, FMClassifier"
   ]
  },
  {
   "cell_type": "code",
   "execution_count": 29,
   "id": "c3d8d646-2ed3-4215-8fab-8509ae067ef5",
   "metadata": {},
   "outputs": [],
   "source": [
    "# evaluate the model from 'y_true' and 'y_pred' \n",
    "from pyspark.ml.evaluation import MulticlassClassificationEvaluator, BinaryClassificationEvaluator"
   ]
  },
  {
   "cell_type": "code",
   "execution_count": 30,
   "id": "85709496-0cc5-40be-9562-57d5c00ac221",
   "metadata": {},
   "outputs": [],
   "source": [
    "def evaluate_model(predictions, label_col='action_taken', prediction_col='prediction', raw_prediction_col='rawPrediction'):\n",
    "    '''It returns classification evaluation metrics like accuracy, precision, f1, recall and roc'''\n",
    "    \n",
    "    # Initialize evaluators\n",
    "    evaluator_accuracy = MulticlassClassificationEvaluator(labelCol=label_col, predictionCol=prediction_col, metricName='accuracy')\n",
    "    evaluator_precision = MulticlassClassificationEvaluator(labelCol=label_col, predictionCol=prediction_col, metricName='weightedPrecision')\n",
    "    evaluator_recall = MulticlassClassificationEvaluator(labelCol=label_col, predictionCol=prediction_col, metricName='weightedRecall')\n",
    "    evaluator_f1 = MulticlassClassificationEvaluator(labelCol=label_col, predictionCol=prediction_col, metricName='f1')\n",
    "    evaluator_roc = BinaryClassificationEvaluator(labelCol=label_col, rawPredictionCol=raw_prediction_col, metricName='areaUnderROC')\n",
    "\n",
    "    # Calculate metrics\n",
    "    accuracy = evaluator_accuracy.evaluate(predictions)\n",
    "    precision = evaluator_precision.evaluate(predictions)\n",
    "    recall = evaluator_recall.evaluate(predictions)\n",
    "    f1_score = evaluator_f1.evaluate(predictions)\n",
    "    roc_auc = evaluator_roc.evaluate(predictions)\n",
    "\n",
    "    # Return all metrics as a dictionary\n",
    "    metrics = {\n",
    "        'accuracy': accuracy,\n",
    "        'precision': precision,\n",
    "        'recall': recall,\n",
    "        'f1_score': f1_score,\n",
    "        'roc_auc': roc_auc\n",
    "    }\n",
    "\n",
    "    return metrics"
   ]
  },
  {
   "cell_type": "code",
   "execution_count": 31,
   "id": "0190671d-1bc6-49f6-9fcb-353e0ca854e9",
   "metadata": {},
   "outputs": [],
   "source": [
    "models = {\n",
    "    'Logistic Regression': LogisticRegression(featuresCol='features', labelCol='action_taken'),\n",
    "    'Support Vector Machine': LinearSVC(featuresCol='features', labelCol='action_taken'),\n",
    "    # 'Naive Bayes': NaiveBayes(featuresCol='features', labelCol='action_taken'),\n",
    "    'Factorization Machine': FMClassifier(featuresCol='features', labelCol='action_taken'),\n",
    "    'Decision Tree': DecisionTreeClassifier(featuresCol='features', labelCol='action_taken', maxBins=2000),\n",
    "    'Random Forest': RandomForestClassifier(featuresCol='features', labelCol='action_taken', maxBins=2000),\n",
    "    'Gradient Boosting Trees': GBTClassifier(featuresCol='features', labelCol='action_taken', maxBins=2000),\n",
    "}"
   ]
  },
  {
   "cell_type": "code",
   "execution_count": 32,
   "id": "5f7f3068-ede2-4b1d-9a7e-aca95e015439",
   "metadata": {},
   "outputs": [],
   "source": [
    "def getModelHyperparams(model):\n",
    "    params = model.extractParamMap()\n",
    "    paramDict = {param.name:value for param, value in params.items()}\n",
    "    return paramDict"
   ]
  },
  {
   "cell_type": "code",
   "execution_count": null,
   "id": "c0dcf6a5-0f3c-4bb6-a8f9-42d61c2db119",
   "metadata": {},
   "outputs": [],
   "source": []
  },
  {
   "cell_type": "code",
   "execution_count": null,
   "id": "aa106bd8-62d4-47ce-9e15-773be885a73f",
   "metadata": {},
   "outputs": [],
   "source": []
  },
  {
   "cell_type": "code",
   "execution_count": 35,
   "id": "5a4a6e4d-1618-425c-b7de-81ff780e1421",
   "metadata": {
    "scrolled": true
   },
   "outputs": [
    {
     "name": "stdout",
     "output_type": "stream",
     "text": [
      "========== Logistic Regression ============\n"
     ]
    },
    {
     "name": "stderr",
     "output_type": "stream",
     "text": [
      "25/01/20 22:59:31 WARN InstanceBuilder: Failed to load implementation from:dev.ludovic.netlib.blas.JNIBLAS\n",
      "25/01/20 22:59:31 WARN InstanceBuilder: Failed to load implementation from:dev.ludovic.netlib.blas.VectorBLAS\n",
      "25/01/20 22:59:35 ERROR Instrumentation: org.apache.hadoop.fs.UnsupportedFileSystemException: No FileSystem for scheme \"mlflow-artifacts\"\n",
      "\tat org.apache.hadoop.fs.FileSystem.getFileSystemClass(FileSystem.java:3443)\n",
      "\tat org.apache.hadoop.fs.FileSystem.createFileSystem(FileSystem.java:3466)\n",
      "\tat org.apache.hadoop.fs.FileSystem.access$300(FileSystem.java:174)\n",
      "\tat org.apache.hadoop.fs.FileSystem$Cache.getInternal(FileSystem.java:3574)\n",
      "\tat org.apache.hadoop.fs.FileSystem$Cache.get(FileSystem.java:3521)\n",
      "\tat org.apache.hadoop.fs.FileSystem.get(FileSystem.java:540)\n",
      "\tat org.apache.hadoop.fs.Path.getFileSystem(Path.java:365)\n",
      "\tat org.apache.spark.ml.util.FileSystemOverwrite.handleOverwrite(ReadWrite.scala:673)\n",
      "\tat org.apache.spark.ml.util.MLWriter.save(ReadWrite.scala:167)\n",
      "\tat org.apache.spark.ml.PipelineModel$PipelineModelWriter.super$save(Pipeline.scala:344)\n",
      "\tat org.apache.spark.ml.PipelineModel$PipelineModelWriter.$anonfun$save$4(Pipeline.scala:344)\n",
      "\tat org.apache.spark.ml.MLEvents.withSaveInstanceEvent(events.scala:174)\n",
      "\tat org.apache.spark.ml.MLEvents.withSaveInstanceEvent$(events.scala:169)\n",
      "\tat org.apache.spark.ml.util.Instrumentation.withSaveInstanceEvent(Instrumentation.scala:42)\n",
      "\tat org.apache.spark.ml.PipelineModel$PipelineModelWriter.$anonfun$save$3(Pipeline.scala:344)\n",
      "\tat org.apache.spark.ml.PipelineModel$PipelineModelWriter.$anonfun$save$3$adapted(Pipeline.scala:344)\n",
      "\tat org.apache.spark.ml.util.Instrumentation$.$anonfun$instrumented$1(Instrumentation.scala:191)\n",
      "\tat scala.util.Try$.apply(Try.scala:213)\n",
      "\tat org.apache.spark.ml.util.Instrumentation$.instrumented(Instrumentation.scala:191)\n",
      "\tat org.apache.spark.ml.PipelineModel$PipelineModelWriter.save(Pipeline.scala:344)\n",
      "\tat java.base/jdk.internal.reflect.NativeMethodAccessorImpl.invoke0(Native Method)\n",
      "\tat java.base/jdk.internal.reflect.NativeMethodAccessorImpl.invoke(NativeMethodAccessorImpl.java:77)\n",
      "\tat java.base/jdk.internal.reflect.DelegatingMethodAccessorImpl.invoke(DelegatingMethodAccessorImpl.java:43)\n",
      "\tat java.base/java.lang.reflect.Method.invoke(Method.java:568)\n",
      "\tat py4j.reflection.MethodInvoker.invoke(MethodInvoker.java:244)\n",
      "\tat py4j.reflection.ReflectionEngine.invoke(ReflectionEngine.java:374)\n",
      "\tat py4j.Gateway.invoke(Gateway.java:282)\n",
      "\tat py4j.commands.AbstractCommand.invokeMethod(AbstractCommand.java:132)\n",
      "\tat py4j.commands.CallCommand.execute(CallCommand.java:79)\n",
      "\tat py4j.ClientServerConnection.waitForCommands(ClientServerConnection.java:182)\n",
      "\tat py4j.ClientServerConnection.run(ClientServerConnection.java:106)\n",
      "\tat java.base/java.lang.Thread.run(Thread.java:833)\n",
      "\n",
      "\u001b[31m2025/01/20 22:59:42 WARNING mlflow.models.model: Model logged without a signature and input example. Please set `input_example` parameter when logging the model to auto infer the model signature.\u001b[0m\n"
     ]
    },
    {
     "name": "stdout",
     "output_type": "stream",
     "text": [
      "\n",
      "\n",
      "🏃 View run Logistic Regression at: http://127.0.0.1:8080/#/experiments/377674707853028999/runs/4afd0a83f8144d2288231f78725d715c\n",
      "🧪 View experiment at: http://127.0.0.1:8080/#/experiments/377674707853028999\n",
      "========== Support Vector Machine ============\n"
     ]
    },
    {
     "name": "stderr",
     "output_type": "stream",
     "text": [
      "25/01/20 22:59:52 ERROR Instrumentation: org.apache.hadoop.fs.UnsupportedFileSystemException: No FileSystem for scheme \"mlflow-artifacts\"\n",
      "\tat org.apache.hadoop.fs.FileSystem.getFileSystemClass(FileSystem.java:3443)\n",
      "\tat org.apache.hadoop.fs.FileSystem.createFileSystem(FileSystem.java:3466)\n",
      "\tat org.apache.hadoop.fs.FileSystem.access$300(FileSystem.java:174)\n",
      "\tat org.apache.hadoop.fs.FileSystem$Cache.getInternal(FileSystem.java:3574)\n",
      "\tat org.apache.hadoop.fs.FileSystem$Cache.get(FileSystem.java:3521)\n",
      "\tat org.apache.hadoop.fs.FileSystem.get(FileSystem.java:540)\n",
      "\tat org.apache.hadoop.fs.Path.getFileSystem(Path.java:365)\n",
      "\tat org.apache.spark.ml.util.FileSystemOverwrite.handleOverwrite(ReadWrite.scala:673)\n",
      "\tat org.apache.spark.ml.util.MLWriter.save(ReadWrite.scala:167)\n",
      "\tat org.apache.spark.ml.PipelineModel$PipelineModelWriter.super$save(Pipeline.scala:344)\n",
      "\tat org.apache.spark.ml.PipelineModel$PipelineModelWriter.$anonfun$save$4(Pipeline.scala:344)\n",
      "\tat org.apache.spark.ml.MLEvents.withSaveInstanceEvent(events.scala:174)\n",
      "\tat org.apache.spark.ml.MLEvents.withSaveInstanceEvent$(events.scala:169)\n",
      "\tat org.apache.spark.ml.util.Instrumentation.withSaveInstanceEvent(Instrumentation.scala:42)\n",
      "\tat org.apache.spark.ml.PipelineModel$PipelineModelWriter.$anonfun$save$3(Pipeline.scala:344)\n",
      "\tat org.apache.spark.ml.PipelineModel$PipelineModelWriter.$anonfun$save$3$adapted(Pipeline.scala:344)\n",
      "\tat org.apache.spark.ml.util.Instrumentation$.$anonfun$instrumented$1(Instrumentation.scala:191)\n",
      "\tat scala.util.Try$.apply(Try.scala:213)\n",
      "\tat org.apache.spark.ml.util.Instrumentation$.instrumented(Instrumentation.scala:191)\n",
      "\tat org.apache.spark.ml.PipelineModel$PipelineModelWriter.save(Pipeline.scala:344)\n",
      "\tat java.base/jdk.internal.reflect.NativeMethodAccessorImpl.invoke0(Native Method)\n",
      "\tat java.base/jdk.internal.reflect.NativeMethodAccessorImpl.invoke(NativeMethodAccessorImpl.java:77)\n",
      "\tat java.base/jdk.internal.reflect.DelegatingMethodAccessorImpl.invoke(DelegatingMethodAccessorImpl.java:43)\n",
      "\tat java.base/java.lang.reflect.Method.invoke(Method.java:568)\n",
      "\tat py4j.reflection.MethodInvoker.invoke(MethodInvoker.java:244)\n",
      "\tat py4j.reflection.ReflectionEngine.invoke(ReflectionEngine.java:374)\n",
      "\tat py4j.Gateway.invoke(Gateway.java:282)\n",
      "\tat py4j.commands.AbstractCommand.invokeMethod(AbstractCommand.java:132)\n",
      "\tat py4j.commands.CallCommand.execute(CallCommand.java:79)\n",
      "\tat py4j.ClientServerConnection.waitForCommands(ClientServerConnection.java:182)\n",
      "\tat py4j.ClientServerConnection.run(ClientServerConnection.java:106)\n",
      "\tat java.base/java.lang.Thread.run(Thread.java:833)\n",
      "\n",
      "\u001b[31m2025/01/20 22:59:58 WARNING mlflow.models.model: Model logged without a signature and input example. Please set `input_example` parameter when logging the model to auto infer the model signature.\u001b[0m\n"
     ]
    },
    {
     "name": "stdout",
     "output_type": "stream",
     "text": [
      "\n",
      "\n",
      "🏃 View run Support Vector Machine at: http://127.0.0.1:8080/#/experiments/377674707853028999/runs/a796b4955fa64c7b882e02967bce81d5\n",
      "🧪 View experiment at: http://127.0.0.1:8080/#/experiments/377674707853028999\n",
      "========== Factorization Machine ============\n"
     ]
    },
    {
     "name": "stderr",
     "output_type": "stream",
     "text": [
      "25/01/20 23:00:03 ERROR Instrumentation: org.apache.hadoop.fs.UnsupportedFileSystemException: No FileSystem for scheme \"mlflow-artifacts\"\n",
      "\tat org.apache.hadoop.fs.FileSystem.getFileSystemClass(FileSystem.java:3443)\n",
      "\tat org.apache.hadoop.fs.FileSystem.createFileSystem(FileSystem.java:3466)\n",
      "\tat org.apache.hadoop.fs.FileSystem.access$300(FileSystem.java:174)\n",
      "\tat org.apache.hadoop.fs.FileSystem$Cache.getInternal(FileSystem.java:3574)\n",
      "\tat org.apache.hadoop.fs.FileSystem$Cache.get(FileSystem.java:3521)\n",
      "\tat org.apache.hadoop.fs.FileSystem.get(FileSystem.java:540)\n",
      "\tat org.apache.hadoop.fs.Path.getFileSystem(Path.java:365)\n",
      "\tat org.apache.spark.ml.util.FileSystemOverwrite.handleOverwrite(ReadWrite.scala:673)\n",
      "\tat org.apache.spark.ml.util.MLWriter.save(ReadWrite.scala:167)\n",
      "\tat org.apache.spark.ml.PipelineModel$PipelineModelWriter.super$save(Pipeline.scala:344)\n",
      "\tat org.apache.spark.ml.PipelineModel$PipelineModelWriter.$anonfun$save$4(Pipeline.scala:344)\n",
      "\tat org.apache.spark.ml.MLEvents.withSaveInstanceEvent(events.scala:174)\n",
      "\tat org.apache.spark.ml.MLEvents.withSaveInstanceEvent$(events.scala:169)\n",
      "\tat org.apache.spark.ml.util.Instrumentation.withSaveInstanceEvent(Instrumentation.scala:42)\n",
      "\tat org.apache.spark.ml.PipelineModel$PipelineModelWriter.$anonfun$save$3(Pipeline.scala:344)\n",
      "\tat org.apache.spark.ml.PipelineModel$PipelineModelWriter.$anonfun$save$3$adapted(Pipeline.scala:344)\n",
      "\tat org.apache.spark.ml.util.Instrumentation$.$anonfun$instrumented$1(Instrumentation.scala:191)\n",
      "\tat scala.util.Try$.apply(Try.scala:213)\n",
      "\tat org.apache.spark.ml.util.Instrumentation$.instrumented(Instrumentation.scala:191)\n",
      "\tat org.apache.spark.ml.PipelineModel$PipelineModelWriter.save(Pipeline.scala:344)\n",
      "\tat java.base/jdk.internal.reflect.NativeMethodAccessorImpl.invoke0(Native Method)\n",
      "\tat java.base/jdk.internal.reflect.NativeMethodAccessorImpl.invoke(NativeMethodAccessorImpl.java:77)\n",
      "\tat java.base/jdk.internal.reflect.DelegatingMethodAccessorImpl.invoke(DelegatingMethodAccessorImpl.java:43)\n",
      "\tat java.base/java.lang.reflect.Method.invoke(Method.java:568)\n",
      "\tat py4j.reflection.MethodInvoker.invoke(MethodInvoker.java:244)\n",
      "\tat py4j.reflection.ReflectionEngine.invoke(ReflectionEngine.java:374)\n",
      "\tat py4j.Gateway.invoke(Gateway.java:282)\n",
      "\tat py4j.commands.AbstractCommand.invokeMethod(AbstractCommand.java:132)\n",
      "\tat py4j.commands.CallCommand.execute(CallCommand.java:79)\n",
      "\tat py4j.ClientServerConnection.waitForCommands(ClientServerConnection.java:182)\n",
      "\tat py4j.ClientServerConnection.run(ClientServerConnection.java:106)\n",
      "\tat java.base/java.lang.Thread.run(Thread.java:833)\n",
      "\n",
      "\u001b[31m2025/01/20 23:00:10 WARNING mlflow.models.model: Model logged without a signature and input example. Please set `input_example` parameter when logging the model to auto infer the model signature.\u001b[0m\n"
     ]
    },
    {
     "name": "stdout",
     "output_type": "stream",
     "text": [
      "\n",
      "\n",
      "🏃 View run Factorization Machine at: http://127.0.0.1:8080/#/experiments/377674707853028999/runs/718ddbebd4a94c1da2171625b9b3ca30\n",
      "🧪 View experiment at: http://127.0.0.1:8080/#/experiments/377674707853028999\n",
      "========== Decision Tree ============\n"
     ]
    },
    {
     "name": "stderr",
     "output_type": "stream",
     "text": [
      "25/01/20 23:00:12 ERROR Instrumentation: org.apache.hadoop.fs.UnsupportedFileSystemException: No FileSystem for scheme \"mlflow-artifacts\"\n",
      "\tat org.apache.hadoop.fs.FileSystem.getFileSystemClass(FileSystem.java:3443)\n",
      "\tat org.apache.hadoop.fs.FileSystem.createFileSystem(FileSystem.java:3466)\n",
      "\tat org.apache.hadoop.fs.FileSystem.access$300(FileSystem.java:174)\n",
      "\tat org.apache.hadoop.fs.FileSystem$Cache.getInternal(FileSystem.java:3574)\n",
      "\tat org.apache.hadoop.fs.FileSystem$Cache.get(FileSystem.java:3521)\n",
      "\tat org.apache.hadoop.fs.FileSystem.get(FileSystem.java:540)\n",
      "\tat org.apache.hadoop.fs.Path.getFileSystem(Path.java:365)\n",
      "\tat org.apache.spark.ml.util.FileSystemOverwrite.handleOverwrite(ReadWrite.scala:673)\n",
      "\tat org.apache.spark.ml.util.MLWriter.save(ReadWrite.scala:167)\n",
      "\tat org.apache.spark.ml.PipelineModel$PipelineModelWriter.super$save(Pipeline.scala:344)\n",
      "\tat org.apache.spark.ml.PipelineModel$PipelineModelWriter.$anonfun$save$4(Pipeline.scala:344)\n",
      "\tat org.apache.spark.ml.MLEvents.withSaveInstanceEvent(events.scala:174)\n",
      "\tat org.apache.spark.ml.MLEvents.withSaveInstanceEvent$(events.scala:169)\n",
      "\tat org.apache.spark.ml.util.Instrumentation.withSaveInstanceEvent(Instrumentation.scala:42)\n",
      "\tat org.apache.spark.ml.PipelineModel$PipelineModelWriter.$anonfun$save$3(Pipeline.scala:344)\n",
      "\tat org.apache.spark.ml.PipelineModel$PipelineModelWriter.$anonfun$save$3$adapted(Pipeline.scala:344)\n",
      "\tat org.apache.spark.ml.util.Instrumentation$.$anonfun$instrumented$1(Instrumentation.scala:191)\n",
      "\tat scala.util.Try$.apply(Try.scala:213)\n",
      "\tat org.apache.spark.ml.util.Instrumentation$.instrumented(Instrumentation.scala:191)\n",
      "\tat org.apache.spark.ml.PipelineModel$PipelineModelWriter.save(Pipeline.scala:344)\n",
      "\tat java.base/jdk.internal.reflect.NativeMethodAccessorImpl.invoke0(Native Method)\n",
      "\tat java.base/jdk.internal.reflect.NativeMethodAccessorImpl.invoke(NativeMethodAccessorImpl.java:77)\n",
      "\tat java.base/jdk.internal.reflect.DelegatingMethodAccessorImpl.invoke(DelegatingMethodAccessorImpl.java:43)\n",
      "\tat java.base/java.lang.reflect.Method.invoke(Method.java:568)\n",
      "\tat py4j.reflection.MethodInvoker.invoke(MethodInvoker.java:244)\n",
      "\tat py4j.reflection.ReflectionEngine.invoke(ReflectionEngine.java:374)\n",
      "\tat py4j.Gateway.invoke(Gateway.java:282)\n",
      "\tat py4j.commands.AbstractCommand.invokeMethod(AbstractCommand.java:132)\n",
      "\tat py4j.commands.CallCommand.execute(CallCommand.java:79)\n",
      "\tat py4j.ClientServerConnection.waitForCommands(ClientServerConnection.java:182)\n",
      "\tat py4j.ClientServerConnection.run(ClientServerConnection.java:106)\n",
      "\tat java.base/java.lang.Thread.run(Thread.java:833)\n",
      "\n",
      "\u001b[31m2025/01/20 23:00:19 WARNING mlflow.models.model: Model logged without a signature and input example. Please set `input_example` parameter when logging the model to auto infer the model signature.\u001b[0m\n"
     ]
    },
    {
     "name": "stdout",
     "output_type": "stream",
     "text": [
      "\n",
      "\n",
      "🏃 View run Decision Tree at: http://127.0.0.1:8080/#/experiments/377674707853028999/runs/8ffceefb0a4d48c7bae4acb634e10096\n",
      "🧪 View experiment at: http://127.0.0.1:8080/#/experiments/377674707853028999\n",
      "========== Random Forest ============\n"
     ]
    },
    {
     "name": "stderr",
     "output_type": "stream",
     "text": [
      "25/01/20 23:00:21 ERROR Instrumentation: org.apache.hadoop.fs.UnsupportedFileSystemException: No FileSystem for scheme \"mlflow-artifacts\"\n",
      "\tat org.apache.hadoop.fs.FileSystem.getFileSystemClass(FileSystem.java:3443)\n",
      "\tat org.apache.hadoop.fs.FileSystem.createFileSystem(FileSystem.java:3466)\n",
      "\tat org.apache.hadoop.fs.FileSystem.access$300(FileSystem.java:174)\n",
      "\tat org.apache.hadoop.fs.FileSystem$Cache.getInternal(FileSystem.java:3574)\n",
      "\tat org.apache.hadoop.fs.FileSystem$Cache.get(FileSystem.java:3521)\n",
      "\tat org.apache.hadoop.fs.FileSystem.get(FileSystem.java:540)\n",
      "\tat org.apache.hadoop.fs.Path.getFileSystem(Path.java:365)\n",
      "\tat org.apache.spark.ml.util.FileSystemOverwrite.handleOverwrite(ReadWrite.scala:673)\n",
      "\tat org.apache.spark.ml.util.MLWriter.save(ReadWrite.scala:167)\n",
      "\tat org.apache.spark.ml.PipelineModel$PipelineModelWriter.super$save(Pipeline.scala:344)\n",
      "\tat org.apache.spark.ml.PipelineModel$PipelineModelWriter.$anonfun$save$4(Pipeline.scala:344)\n",
      "\tat org.apache.spark.ml.MLEvents.withSaveInstanceEvent(events.scala:174)\n",
      "\tat org.apache.spark.ml.MLEvents.withSaveInstanceEvent$(events.scala:169)\n",
      "\tat org.apache.spark.ml.util.Instrumentation.withSaveInstanceEvent(Instrumentation.scala:42)\n",
      "\tat org.apache.spark.ml.PipelineModel$PipelineModelWriter.$anonfun$save$3(Pipeline.scala:344)\n",
      "\tat org.apache.spark.ml.PipelineModel$PipelineModelWriter.$anonfun$save$3$adapted(Pipeline.scala:344)\n",
      "\tat org.apache.spark.ml.util.Instrumentation$.$anonfun$instrumented$1(Instrumentation.scala:191)\n",
      "\tat scala.util.Try$.apply(Try.scala:213)\n",
      "\tat org.apache.spark.ml.util.Instrumentation$.instrumented(Instrumentation.scala:191)\n",
      "\tat org.apache.spark.ml.PipelineModel$PipelineModelWriter.save(Pipeline.scala:344)\n",
      "\tat java.base/jdk.internal.reflect.NativeMethodAccessorImpl.invoke0(Native Method)\n",
      "\tat java.base/jdk.internal.reflect.NativeMethodAccessorImpl.invoke(NativeMethodAccessorImpl.java:77)\n",
      "\tat java.base/jdk.internal.reflect.DelegatingMethodAccessorImpl.invoke(DelegatingMethodAccessorImpl.java:43)\n",
      "\tat java.base/java.lang.reflect.Method.invoke(Method.java:568)\n",
      "\tat py4j.reflection.MethodInvoker.invoke(MethodInvoker.java:244)\n",
      "\tat py4j.reflection.ReflectionEngine.invoke(ReflectionEngine.java:374)\n",
      "\tat py4j.Gateway.invoke(Gateway.java:282)\n",
      "\tat py4j.commands.AbstractCommand.invokeMethod(AbstractCommand.java:132)\n",
      "\tat py4j.commands.CallCommand.execute(CallCommand.java:79)\n",
      "\tat py4j.ClientServerConnection.waitForCommands(ClientServerConnection.java:182)\n",
      "\tat py4j.ClientServerConnection.run(ClientServerConnection.java:106)\n",
      "\tat java.base/java.lang.Thread.run(Thread.java:833)\n",
      "\n",
      "\u001b[31m2025/01/20 23:00:29 WARNING mlflow.models.model: Model logged without a signature and input example. Please set `input_example` parameter when logging the model to auto infer the model signature.\u001b[0m\n"
     ]
    },
    {
     "name": "stdout",
     "output_type": "stream",
     "text": [
      "\n",
      "\n",
      "🏃 View run Random Forest at: http://127.0.0.1:8080/#/experiments/377674707853028999/runs/9242f963136b41e6ac7cdd3e3ce497f6\n",
      "🧪 View experiment at: http://127.0.0.1:8080/#/experiments/377674707853028999\n",
      "========== Gradient Boosting Trees ============\n"
     ]
    },
    {
     "name": "stderr",
     "output_type": "stream",
     "text": [
      "25/01/20 23:00:33 WARN DAGScheduler: Broadcasting large task binary with size 1005.5 KiB\n",
      "25/01/20 23:00:33 WARN DAGScheduler: Broadcasting large task binary with size 1016.5 KiB\n",
      "25/01/20 23:00:33 WARN DAGScheduler: Broadcasting large task binary with size 1031.3 KiB\n",
      "25/01/20 23:00:33 WARN DAGScheduler: Broadcasting large task binary with size 1054.1 KiB\n",
      "25/01/20 23:00:34 WARN DAGScheduler: Broadcasting large task binary with size 1054.6 KiB\n",
      "25/01/20 23:00:34 WARN DAGScheduler: Broadcasting large task binary with size 1056.5 KiB\n",
      "25/01/20 23:00:34 WARN DAGScheduler: Broadcasting large task binary with size 1059.8 KiB\n",
      "25/01/20 23:00:34 WARN DAGScheduler: Broadcasting large task binary with size 1066.4 KiB\n",
      "25/01/20 23:00:34 WARN DAGScheduler: Broadcasting large task binary with size 1098.0 KiB\n",
      "25/01/20 23:00:34 WARN DAGScheduler: Broadcasting large task binary with size 1098.5 KiB\n",
      "25/01/20 23:00:34 WARN DAGScheduler: Broadcasting large task binary with size 1099.3 KiB\n",
      "25/01/20 23:00:34 WARN DAGScheduler: Broadcasting large task binary with size 1103.8 KiB\n",
      "25/01/20 23:00:34 WARN DAGScheduler: Broadcasting large task binary with size 1114.1 KiB\n",
      "25/01/20 23:00:34 WARN DAGScheduler: Broadcasting large task binary with size 1144.0 KiB\n",
      "25/01/20 23:00:34 WARN DAGScheduler: Broadcasting large task binary with size 1144.5 KiB\n",
      "25/01/20 23:00:34 WARN DAGScheduler: Broadcasting large task binary with size 1145.3 KiB\n",
      "25/01/20 23:00:34 WARN DAGScheduler: Broadcasting large task binary with size 1156.5 KiB\n",
      "25/01/20 23:00:34 WARN DAGScheduler: Broadcasting large task binary with size 1165.6 KiB\n",
      "25/01/20 23:00:34 WARN DAGScheduler: Broadcasting large task binary with size 1195.1 KiB\n",
      "25/01/20 23:00:34 WARN DAGScheduler: Broadcasting large task binary with size 1195.6 KiB\n",
      "25/01/20 23:00:34 WARN DAGScheduler: Broadcasting large task binary with size 1196.3 KiB\n",
      "25/01/20 23:00:35 WARN DAGScheduler: Broadcasting large task binary with size 1200.9 KiB\n",
      "25/01/20 23:00:35 WARN DAGScheduler: Broadcasting large task binary with size 1212.8 KiB\n",
      "25/01/20 23:00:35 WARN DAGScheduler: Broadcasting large task binary with size 1251.7 KiB\n",
      "25/01/20 23:00:35 WARN DAGScheduler: Broadcasting large task binary with size 1252.2 KiB\n",
      "25/01/20 23:00:35 WARN DAGScheduler: Broadcasting large task binary with size 1252.9 KiB\n",
      "25/01/20 23:00:35 WARN DAGScheduler: Broadcasting large task binary with size 1257.4 KiB\n",
      "25/01/20 23:00:35 WARN DAGScheduler: Broadcasting large task binary with size 1272.9 KiB\n",
      "25/01/20 23:00:35 WARN DAGScheduler: Broadcasting large task binary with size 1307.7 KiB\n",
      "25/01/20 23:00:35 WARN DAGScheduler: Broadcasting large task binary with size 1308.2 KiB\n",
      "25/01/20 23:00:35 WARN DAGScheduler: Broadcasting large task binary with size 1308.9 KiB\n",
      "25/01/20 23:00:35 WARN DAGScheduler: Broadcasting large task binary with size 1313.5 KiB\n",
      "25/01/20 23:00:35 WARN DAGScheduler: Broadcasting large task binary with size 1329.3 KiB\n",
      "25/01/20 23:00:35 WARN DAGScheduler: Broadcasting large task binary with size 1362.4 KiB\n",
      "25/01/20 23:00:35 WARN DAGScheduler: Broadcasting large task binary with size 1363.0 KiB\n",
      "25/01/20 23:00:35 WARN DAGScheduler: Broadcasting large task binary with size 1363.7 KiB\n",
      "25/01/20 23:00:35 WARN DAGScheduler: Broadcasting large task binary with size 1368.2 KiB\n",
      "25/01/20 23:00:35 WARN DAGScheduler: Broadcasting large task binary with size 1396.4 KiB\n",
      "25/01/20 23:00:36 ERROR Instrumentation: org.apache.hadoop.fs.UnsupportedFileSystemException: No FileSystem for scheme \"mlflow-artifacts\"\n",
      "\tat org.apache.hadoop.fs.FileSystem.getFileSystemClass(FileSystem.java:3443)\n",
      "\tat org.apache.hadoop.fs.FileSystem.createFileSystem(FileSystem.java:3466)\n",
      "\tat org.apache.hadoop.fs.FileSystem.access$300(FileSystem.java:174)\n",
      "\tat org.apache.hadoop.fs.FileSystem$Cache.getInternal(FileSystem.java:3574)\n",
      "\tat org.apache.hadoop.fs.FileSystem$Cache.get(FileSystem.java:3521)\n",
      "\tat org.apache.hadoop.fs.FileSystem.get(FileSystem.java:540)\n",
      "\tat org.apache.hadoop.fs.Path.getFileSystem(Path.java:365)\n",
      "\tat org.apache.spark.ml.util.FileSystemOverwrite.handleOverwrite(ReadWrite.scala:673)\n",
      "\tat org.apache.spark.ml.util.MLWriter.save(ReadWrite.scala:167)\n",
      "\tat org.apache.spark.ml.PipelineModel$PipelineModelWriter.super$save(Pipeline.scala:344)\n",
      "\tat org.apache.spark.ml.PipelineModel$PipelineModelWriter.$anonfun$save$4(Pipeline.scala:344)\n",
      "\tat org.apache.spark.ml.MLEvents.withSaveInstanceEvent(events.scala:174)\n",
      "\tat org.apache.spark.ml.MLEvents.withSaveInstanceEvent$(events.scala:169)\n",
      "\tat org.apache.spark.ml.util.Instrumentation.withSaveInstanceEvent(Instrumentation.scala:42)\n",
      "\tat org.apache.spark.ml.PipelineModel$PipelineModelWriter.$anonfun$save$3(Pipeline.scala:344)\n",
      "\tat org.apache.spark.ml.PipelineModel$PipelineModelWriter.$anonfun$save$3$adapted(Pipeline.scala:344)\n",
      "\tat org.apache.spark.ml.util.Instrumentation$.$anonfun$instrumented$1(Instrumentation.scala:191)\n",
      "\tat scala.util.Try$.apply(Try.scala:213)\n",
      "\tat org.apache.spark.ml.util.Instrumentation$.instrumented(Instrumentation.scala:191)\n",
      "\tat org.apache.spark.ml.PipelineModel$PipelineModelWriter.save(Pipeline.scala:344)\n",
      "\tat java.base/jdk.internal.reflect.NativeMethodAccessorImpl.invoke0(Native Method)\n",
      "\tat java.base/jdk.internal.reflect.NativeMethodAccessorImpl.invoke(NativeMethodAccessorImpl.java:77)\n",
      "\tat java.base/jdk.internal.reflect.DelegatingMethodAccessorImpl.invoke(DelegatingMethodAccessorImpl.java:43)\n",
      "\tat java.base/java.lang.reflect.Method.invoke(Method.java:568)\n",
      "\tat py4j.reflection.MethodInvoker.invoke(MethodInvoker.java:244)\n",
      "\tat py4j.reflection.ReflectionEngine.invoke(ReflectionEngine.java:374)\n",
      "\tat py4j.Gateway.invoke(Gateway.java:282)\n",
      "\tat py4j.commands.AbstractCommand.invokeMethod(AbstractCommand.java:132)\n",
      "\tat py4j.commands.CallCommand.execute(CallCommand.java:79)\n",
      "\tat py4j.ClientServerConnection.waitForCommands(ClientServerConnection.java:182)\n",
      "\tat py4j.ClientServerConnection.run(ClientServerConnection.java:106)\n",
      "\tat java.base/java.lang.Thread.run(Thread.java:833)\n",
      "\n",
      "\u001b[31m2025/01/20 23:00:44 WARNING mlflow.models.model: Model logged without a signature and input example. Please set `input_example` parameter when logging the model to auto infer the model signature.\u001b[0m\n",
      "25/01/20 23:00:44 WARN DAGScheduler: Broadcasting large task binary with size 1410.3 KiB\n",
      "25/01/20 23:00:45 WARN DAGScheduler: Broadcasting large task binary with size 1410.3 KiB\n",
      "25/01/20 23:00:45 WARN DAGScheduler: Broadcasting large task binary with size 1410.3 KiB\n",
      "25/01/20 23:00:45 WARN DAGScheduler: Broadcasting large task binary with size 1410.3 KiB\n",
      "25/01/20 23:00:45 WARN DAGScheduler: Broadcasting large task binary with size 1398.6 KiB\n"
     ]
    },
    {
     "name": "stdout",
     "output_type": "stream",
     "text": [
      "\n",
      "\n",
      "🏃 View run Gradient Boosting Trees at: http://127.0.0.1:8080/#/experiments/377674707853028999/runs/be2eca69a79c4fa989f75377f7dc4a1d\n",
      "🧪 View experiment at: http://127.0.0.1:8080/#/experiments/377674707853028999\n"
     ]
    }
   ],
   "source": [
    "for algo in models:\n",
    "\n",
    "    with mlflow.start_run(run_name=algo) as run:\n",
    "        \n",
    "        print(f\"========== {algo} ============\")\n",
    "        \n",
    "        model = models[algo]\n",
    "        \n",
    "        # log model params\n",
    "        params = getModelHyperparams(model)\n",
    "        mlflow.log_params(params)\n",
    "\n",
    "        # Train the model\n",
    "        trained_model = model.fit(train_df)\n",
    "        # log model\n",
    "        mlflow.spark.log_model(trained_model, \"model\") \n",
    "    \n",
    "        # Evaluate on Test data\n",
    "        test_df_transformed = transformPipeModel.transform(test_df)\n",
    "        test_predictions = trained_model.transform(test_df_transformed)\n",
    "    \n",
    "        results = evaluate_model(test_predictions)\n",
    "\n",
    "        # log metrics\n",
    "        mlflow.log_metrics({\"Accuracy\": results['accuracy'], \"Precision\":results['precision'], \"Recall\":results['recall'], \"F1-score\":results['f1_score'], \"ROC\":results['roc_auc']})\n",
    "    \n",
    "        trained_model.write().overwrite().save(f'./models/{algo}')\n",
    "    \n",
    "        print('\\n')\n"
   ]
  },
  {
   "cell_type": "code",
   "execution_count": 36,
   "id": "9c5570b4-58d7-40ab-941d-1908f6b04f2f",
   "metadata": {},
   "outputs": [],
   "source": [
    "mlflow.end_run()"
   ]
  },
  {
   "cell_type": "markdown",
   "id": "a3a06f6a-02d1-457e-a8b7-9788cf35d0d4",
   "metadata": {},
   "source": [
    "#### loading model using MLflow"
   ]
  },
  {
   "cell_type": "code",
   "execution_count": 40,
   "id": "f86d9fda-ef19-4461-9f9c-fb860d0abe48",
   "metadata": {},
   "outputs": [
    {
     "name": "stderr",
     "output_type": "stream",
     "text": [
      "2025/01/20 23:01:32 INFO mlflow.spark: 'runs:/bb974a3843a3442a95235a7db9b74a3b/transform pipeline' resolved as 'mlflow-artifacts:/279265602963958873/bb974a3843a3442a95235a7db9b74a3b/artifacts/transform pipeline'\n"
     ]
    },
    {
     "data": {
      "application/vnd.jupyter.widget-view+json": {
       "model_id": "0ae4851153c94c949e1797192cd8ede9",
       "version_major": 2,
       "version_minor": 0
      },
      "text/plain": [
       "Downloading artifacts:   0%|          | 0/1 [00:00<?, ?it/s]"
      ]
     },
     "metadata": {},
     "output_type": "display_data"
    },
    {
     "data": {
      "application/vnd.jupyter.widget-view+json": {
       "model_id": "41ca3725d31148909dd2626e7865bfcf",
       "version_major": 2,
       "version_minor": 0
      },
      "text/plain": [
       "Downloading artifacts:   0%|          | 0/48 [00:00<?, ?it/s]"
      ]
     },
     "metadata": {},
     "output_type": "display_data"
    },
    {
     "name": "stderr",
     "output_type": "stream",
     "text": [
      "2025/01/20 23:01:32 INFO mlflow.spark: URI 'runs:/bb974a3843a3442a95235a7db9b74a3b/transform pipeline/sparkml' does not point to the current DFS.\n",
      "2025/01/20 23:01:32 INFO mlflow.spark: File 'runs:/bb974a3843a3442a95235a7db9b74a3b/transform pipeline/sparkml' not found on DFS. Will attempt to upload the file.\n",
      "2025/01/20 23:01:33 INFO mlflow.spark: 'runs:/082e38361608410aae2d962dc8288b3f/model' resolved as 'mlflow-artifacts:/279265602963958873/082e38361608410aae2d962dc8288b3f/artifacts/model'\n"
     ]
    },
    {
     "data": {
      "application/vnd.jupyter.widget-view+json": {
       "model_id": "c528da29decb47e0a961b8323d9c9eaa",
       "version_major": 2,
       "version_minor": 0
      },
      "text/plain": [
       "Downloading artifacts:   0%|          | 0/1 [00:00<?, ?it/s]"
      ]
     },
     "metadata": {},
     "output_type": "display_data"
    },
    {
     "data": {
      "application/vnd.jupyter.widget-view+json": {
       "model_id": "2505ba3b68924cda98f972e7b3477ae7",
       "version_major": 2,
       "version_minor": 0
      },
      "text/plain": [
       "Downloading artifacts:   0%|          | 0/16 [00:00<?, ?it/s]"
      ]
     },
     "metadata": {},
     "output_type": "display_data"
    },
    {
     "name": "stderr",
     "output_type": "stream",
     "text": [
      "2025/01/20 23:01:33 INFO mlflow.spark: URI 'runs:/082e38361608410aae2d962dc8288b3f/model/sparkml' does not point to the current DFS.\n",
      "2025/01/20 23:01:33 INFO mlflow.spark: File 'runs:/082e38361608410aae2d962dc8288b3f/model/sparkml' not found on DFS. Will attempt to upload the file.\n"
     ]
    }
   ],
   "source": [
    "logged_pipeline = 'runs:/bb974a3843a3442a95235a7db9b74a3b/transform pipeline'\n",
    "# Load pipeline model\n",
    "loaded_pipeline = mlflow.spark.load_model(logged_pipeline)\n",
    "\n",
    "logged_model = 'runs:/082e38361608410aae2d962dc8288b3f/model'\n",
    "# Load model\n",
    "loaded_model = mlflow.spark.load_model(logged_model)"
   ]
  },
  {
   "cell_type": "code",
   "execution_count": 41,
   "id": "bc7c8b66-22c3-442c-b24c-46d4707976f3",
   "metadata": {
    "scrolled": true
   },
   "outputs": [],
   "source": [
    "test_df = test_df.drop('action_taken')"
   ]
  },
  {
   "cell_type": "code",
   "execution_count": 43,
   "id": "b25f55f4-9b43-4878-8826-34063cf90d2c",
   "metadata": {},
   "outputs": [],
   "source": [
    "test_transformed_df = loaded_pipeline.transform(test_df)\n",
    "preds_df = loaded_model.transform(test_transformed_df)"
   ]
  },
  {
   "cell_type": "code",
   "execution_count": 44,
   "id": "a0ac459f-6474-46b9-8e67-6915e4638f46",
   "metadata": {
    "scrolled": true
   },
   "outputs": [
    {
     "data": {
      "text/html": [
       "<table border='1'>\n",
       "<tr><th>lei</th><th>loan_type</th><th>loan_purpose</th><th>loan_amount</th><th>interest_rate</th><th>loan_term</th><th>income</th><th>applicant_age</th><th>applicant_sex</th><th>applicant_credit_score_type</th><th>co_applicant_age</th><th>co_applicant_credit_score_type</th><th>derived_msa_md</th><th>state_code</th><th>county_code</th><th>property_value</th><th>total_units</th><th>occupancy_type</th><th>loan_type_index</th><th>loan_purpose_index</th><th>applicant_sex_index</th><th>total_units_index</th><th>occupancy_type_index</th><th>applicant_age_index</th><th>co_applicant_age_index</th><th>applicant_credit_score_type_index</th><th>co_applicant_credit_score_type_index</th><th>loan_type_OHE</th><th>loan_purpose_OHE</th><th>applicant_sex_OHE</th><th>total_units_OHE</th><th>occupancy_type_OHE</th><th>applicant_age_OHE</th><th>co_applicant_age_OHE</th><th>applicant_credit_score_type_OHE</th><th>co_applicant_credit_score_type_OHE</th><th>state_code_index</th><th>county_code_index</th><th>derived_msa_md_index</th><th>lei_index</th><th>num_vector</th><th>num_scaled_vector</th><th>features</th><th>rawPrediction</th><th>probability</th><th>prediction</th></tr>\n",
       "<tr><td>01J4SO3XTWZF4PP38209</td><td>1</td><td>31</td><td>15000.0</td><td>4.95</td><td>60</td><td>94.0</td><td>8888</td><td>4</td><td>9</td><td>9999</td><td>10</td><td>25060</td><td>MS</td><td>28047</td><td>45000.0</td><td>1</td><td>3</td><td>0.0</td><td>0.0</td><td>2.0</td><td>0.0</td><td>1.0</td><td>5.0</td><td>0.0</td><td>3.0</td><td>0.0</td><td>(3,[0],[1.0])</td><td>(5,[0],[1.0])</td><td>(4,[2],[1.0])</td><td>(3,[0],[1.0])</td><td>(2,[1],[1.0])</td><td>(7,[5],[1.0])</td><td>(8,[0],[1.0])</td><td>(8,[3],[1.0])</td><td>(9,[0],[1.0])</td><td>36.0</td><td>284.0</td><td>174.0</td><td>93.0</td><td>[15000.0,4.949999...</td><td>[0.06611573754325...</td><td>(58,[0,1,2,3,4,5,...</td><td>[0.64475038483749...</td><td>[0.65582650073893...</td><td>0.0</td></tr>\n",
       "<tr><td>0S8H5NJFLHEVJXVTQ413</td><td>1</td><td>31</td><td>435000.0</td><td>3.2904205</td><td>360</td><td>124.0</td><td>35-44</td><td>1</td><td>1</td><td>35-44</td><td>1</td><td>42644</td><td>WA</td><td>53061</td><td>655000.0</td><td>1</td><td>1</td><td>0.0</td><td>0.0</td><td>0.0</td><td>0.0</td><td>0.0</td><td>0.0</td><td>1.0</td><td>0.0</td><td>2.0</td><td>(3,[0],[1.0])</td><td>(5,[0],[1.0])</td><td>(4,[0],[1.0])</td><td>(3,[0],[1.0])</td><td>(2,[0],[1.0])</td><td>(7,[0],[1.0])</td><td>(8,[1],[1.0])</td><td>(8,[0],[1.0])</td><td>(9,[2],[1.0])</td><td>10.0</td><td>66.0</td><td>17.0</td><td>577.0</td><td>[435000.0,3.29042...</td><td>[1.91735638875442...</td><td>(58,[0,1,2,3,4,5,...</td><td>[-2.8612907730043...</td><td>[0.05410060877803...</td><td>1.0</td></tr>\n",
       "<tr><td>1IE8VN30JCEQV1H4R804</td><td>1</td><td>31</td><td>215000.0</td><td>3.2904205</td><td>360</td><td>109.0</td><td>55-64</td><td>1</td><td>2</td><td>9999</td><td>10</td><td>22744</td><td>FL</td><td>12011</td><td>355000.0</td><td>1</td><td>1</td><td>0.0</td><td>0.0</td><td>0.0</td><td>0.0</td><td>0.0</td><td>3.0</td><td>0.0</td><td>1.0</td><td>0.0</td><td>(3,[0],[1.0])</td><td>(5,[0],[1.0])</td><td>(4,[0],[1.0])</td><td>(3,[0],[1.0])</td><td>(2,[0],[1.0])</td><td>(7,[3],[1.0])</td><td>(8,[0],[1.0])</td><td>(8,[1],[1.0])</td><td>(9,[0],[1.0])</td><td>1.0</td><td>21.0</td><td>45.0</td><td>349.0</td><td>[215000.0,3.29042...</td><td>[0.94765890478666...</td><td>(58,[0,1,2,3,4,5,...</td><td>[-1.5122500108184...</td><td>[0.18060558102033...</td><td>1.0</td></tr>\n",
       "<tr><td>213800XR2TCBQJSF1X93</td><td>1</td><td>31</td><td>365000.0</td><td>2.875</td><td>360</td><td>102.0</td><td>35-44</td><td>1</td><td>2</td><td>9999</td><td>10</td><td>31084</td><td>CA</td><td>06037</td><td>625000.0</td><td>1</td><td>1</td><td>0.0</td><td>0.0</td><td>0.0</td><td>0.0</td><td>0.0</td><td>0.0</td><td>0.0</td><td>1.0</td><td>0.0</td><td>(3,[0],[1.0])</td><td>(5,[0],[1.0])</td><td>(4,[0],[1.0])</td><td>(3,[0],[1.0])</td><td>(2,[0],[1.0])</td><td>(7,[0],[1.0])</td><td>(8,[0],[1.0])</td><td>(8,[1],[1.0])</td><td>(9,[0],[1.0])</td><td>0.0</td><td>0.0</td><td>2.0</td><td>140.0</td><td>[365000.0,2.875,3...</td><td>[1.60881628021922...</td><td>(58,[0,1,2,3,4,5,...</td><td>[-1.7766100765648...</td><td>[0.14472222588682...</td><td>1.0</td></tr>\n",
       "<tr><td>2549006II76YXSS5XM65</td><td>1</td><td>31</td><td>205000.0</td><td>3.125</td><td>360</td><td>110.0</td><td>45-54</td><td>2</td><td>3</td><td>9999</td><td>10</td><td>47894</td><td>VA</td><td>51059</td><td>325000.0</td><td>1</td><td>1</td><td>0.0</td><td>0.0</td><td>1.0</td><td>0.0</td><td>0.0</td><td>1.0</td><td>0.0</td><td>2.0</td><td>0.0</td><td>(3,[0],[1.0])</td><td>(5,[0],[1.0])</td><td>(4,[1],[1.0])</td><td>(3,[0],[1.0])</td><td>(2,[0],[1.0])</td><td>(7,[1],[1.0])</td><td>(8,[0],[1.0])</td><td>(8,[2],[1.0])</td><td>(9,[0],[1.0])</td><td>12.0</td><td>14.0</td><td>4.0</td><td>204.0</td><td>[205000.0,3.125,3...</td><td>[0.90358174642449...</td><td>(58,[0,1,2,3,4,5,...</td><td>[-1.5855524675315...</td><td>[0.17001055400556...</td><td>1.0</td></tr>\n",
       "<tr><td>254900ACUWEGW702BR80</td><td>1</td><td>31</td><td>275000.0</td><td>3.0</td><td>360</td><td>78.0</td><td>45-54</td><td>2</td><td>3</td><td>9999</td><td>10</td><td>15804</td><td>NJ</td><td>34007</td><td>305000.0</td><td>1</td><td>1</td><td>0.0</td><td>0.0</td><td>1.0</td><td>0.0</td><td>0.0</td><td>1.0</td><td>0.0</td><td>2.0</td><td>0.0</td><td>(3,[0],[1.0])</td><td>(5,[0],[1.0])</td><td>(4,[1],[1.0])</td><td>(3,[0],[1.0])</td><td>(2,[0],[1.0])</td><td>(7,[1],[1.0])</td><td>(8,[0],[1.0])</td><td>(8,[2],[1.0])</td><td>(9,[0],[1.0])</td><td>11.0</td><td>183.0</td><td>56.0</td><td>353.0</td><td>[275000.0,3.0,360...</td><td>[1.21212185495969...</td><td>(58,[0,1,2,3,4,5,...</td><td>[-1.8713743428235...</td><td>[0.13338277969392...</td><td>1.0</td></tr>\n",
       "<tr><td>254900ACUWEGW702BR80</td><td>1</td><td>31</td><td>395000.0</td><td>3.0</td><td>360</td><td>332.0</td><td>35-44</td><td>1</td><td>1</td><td>&gt;74</td><td>9</td><td>35614</td><td>NJ</td><td>34003</td><td>515000.0</td><td>1</td><td>1</td><td>0.0</td><td>0.0</td><td>0.0</td><td>0.0</td><td>0.0</td><td>0.0</td><td>7.0</td><td>0.0</td><td>1.0</td><td>(3,[0],[1.0])</td><td>(5,[0],[1.0])</td><td>(4,[0],[1.0])</td><td>(3,[0],[1.0])</td><td>(2,[0],[1.0])</td><td>(7,[0],[1.0])</td><td>(8,[7],[1.0])</td><td>(8,[0],[1.0])</td><td>(9,[1],[1.0])</td><td>11.0</td><td>52.0</td><td>10.0</td><td>353.0</td><td>[395000.0,3.0,360...</td><td>[1.74104775530573...</td><td>(58,[0,1,2,3,4,5,...</td><td>[-2.5163454881656...</td><td>[0.07472021517676...</td><td>1.0</td></tr>\n",
       "<tr><td>254900HA4DQWAE0W3342</td><td>1</td><td>1</td><td>335000.0</td><td>2.625</td><td>360</td><td>81.0</td><td>35-44</td><td>4</td><td>9</td><td>35-44</td><td>9</td><td>19124</td><td>TX</td><td>48085</td><td>415000.0</td><td>1</td><td>1</td><td>0.0</td><td>1.0</td><td>2.0</td><td>0.0</td><td>0.0</td><td>0.0</td><td>1.0</td><td>3.0</td><td>1.0</td><td>(3,[0],[1.0])</td><td>(5,[1],[1.0])</td><td>(4,[2],[1.0])</td><td>(3,[0],[1.0])</td><td>(2,[0],[1.0])</td><td>(7,[0],[1.0])</td><td>(8,[1],[1.0])</td><td>(8,[3],[1.0])</td><td>(9,[1],[1.0])</td><td>2.0</td><td>50.0</td><td>12.0</td><td>9.0</td><td>[335000.0,2.625,3...</td><td>[1.47658480513271...</td><td>(58,[0,1,2,3,4,5,...</td><td>[2.12763636553943...</td><td>[0.89356041160467...</td><td>0.0</td></tr>\n",
       "<tr><td>254900HA4DQWAE0W3342</td><td>1</td><td>1</td><td>505000.0</td><td>2.5</td><td>360</td><td>265.0</td><td>45-54</td><td>4</td><td>9</td><td>35-44</td><td>9</td><td>19740</td><td>CO</td><td>08059</td><td>1035000.0</td><td>1</td><td>1</td><td>0.0</td><td>1.0</td><td>2.0</td><td>0.0</td><td>0.0</td><td>1.0</td><td>1.0</td><td>3.0</td><td>1.0</td><td>(3,[0],[1.0])</td><td>(5,[1],[1.0])</td><td>(4,[2],[1.0])</td><td>(3,[0],[1.0])</td><td>(2,[0],[1.0])</td><td>(7,[1],[1.0])</td><td>(8,[1],[1.0])</td><td>(8,[3],[1.0])</td><td>(9,[1],[1.0])</td><td>6.0</td><td>37.0</td><td>6.0</td><td>9.0</td><td>[505000.0,2.5,360...</td><td>[2.22589649728961...</td><td>(58,[0,1,2,3,4,5,...</td><td>[2.06229132845680...</td><td>[0.88718370972536...</td><td>0.0</td></tr>\n",
       "<tr><td>254900HA4DQWAE0W3342</td><td>1</td><td>31</td><td>135000.0</td><td>3.375</td><td>360</td><td>39.0</td><td>25-34</td><td>4</td><td>9</td><td>9999</td><td>9</td><td>36540</td><td>NE</td><td>31055</td><td>155000.0</td><td>1</td><td>1</td><td>0.0</td><td>0.0</td><td>2.0</td><td>0.0</td><td>0.0</td><td>2.0</td><td>0.0</td><td>3.0</td><td>1.0</td><td>(3,[0],[1.0])</td><td>(5,[0],[1.0])</td><td>(4,[2],[1.0])</td><td>(3,[0],[1.0])</td><td>(2,[0],[1.0])</td><td>(7,[2],[1.0])</td><td>(8,[0],[1.0])</td><td>(8,[3],[1.0])</td><td>(9,[1],[1.0])</td><td>34.0</td><td>93.0</td><td>57.0</td><td>9.0</td><td>[135000.0,3.375,3...</td><td>[0.59504163788930...</td><td>(58,[0,1,2,3,4,5,...</td><td>[4.37657193065208...</td><td>[0.98758763312067...</td><td>0.0</td></tr>\n",
       "<tr><td>254900HA4DQWAE0W3342</td><td>1</td><td>31</td><td>205000.0</td><td>3.0</td><td>360</td><td>69.0</td><td>25-34</td><td>4</td><td>9</td><td>25-34</td><td>9</td><td>33340</td><td>WI</td><td>55079</td><td>315000.0</td><td>2</td><td>1</td><td>0.0</td><td>0.0</td><td>2.0</td><td>1.0</td><td>0.0</td><td>2.0</td><td>3.0</td><td>3.0</td><td>1.0</td><td>(3,[0],[1.0])</td><td>(5,[0],[1.0])</td><td>(4,[2],[1.0])</td><td>(3,[1],[1.0])</td><td>(2,[0],[1.0])</td><td>(7,[2],[1.0])</td><td>(8,[3],[1.0])</td><td>(8,[3],[1.0])</td><td>(9,[1],[1.0])</td><td>23.0</td><td>144.0</td><td>62.0</td><td>9.0</td><td>[205000.0,3.0,360...</td><td>[0.90358174642449...</td><td>(58,[0,1,2,3,4,5,...</td><td>[2.65522211110416...</td><td>[0.93433212394353...</td><td>0.0</td></tr>\n",
       "<tr><td>254900HA4DQWAE0W3342</td><td>1</td><td>31</td><td>315000.0</td><td>3.25</td><td>360</td><td>81.0</td><td>35-44</td><td>4</td><td>9</td><td>9999</td><td>9</td><td>22660</td><td>CO</td><td>08069</td><td>355000.0</td><td>1</td><td>1</td><td>0.0</td><td>0.0</td><td>2.0</td><td>0.0</td><td>0.0</td><td>0.0</td><td>0.0</td><td>3.0</td><td>1.0</td><td>(3,[0],[1.0])</td><td>(5,[0],[1.0])</td><td>(4,[2],[1.0])</td><td>(3,[0],[1.0])</td><td>(2,[0],[1.0])</td><td>(7,[0],[1.0])</td><td>(8,[0],[1.0])</td><td>(8,[3],[1.0])</td><td>(9,[1],[1.0])</td><td>6.0</td><td>89.0</td><td>91.0</td><td>9.0</td><td>[315000.0,3.25,36...</td><td>[1.38843048840837...</td><td>(58,[0,1,2,3,4,5,...</td><td>[4.48889285781443...</td><td>[0.98889170673791...</td><td>0.0</td></tr>\n",
       "<tr><td>254900HA4DQWAE0W3342</td><td>1</td><td>31</td><td>325000.0</td><td>3.125</td><td>360</td><td>184.0</td><td>&gt;74</td><td>4</td><td>9</td><td>65-74</td><td>9</td><td>41740</td><td>CA</td><td>06073</td><td>755000.0</td><td>1</td><td>1</td><td>0.0</td><td>0.0</td><td>2.0</td><td>0.0</td><td>0.0</td><td>6.0</td><td>6.0</td><td>3.0</td><td>1.0</td><td>(3,[0],[1.0])</td><td>(5,[0],[1.0])</td><td>(4,[2],[1.0])</td><td>(3,[0],[1.0])</td><td>(2,[0],[1.0])</td><td>(7,[6],[1.0])</td><td>(8,[6],[1.0])</td><td>(8,[3],[1.0])</td><td>(9,[1],[1.0])</td><td>0.0</td><td>3.0</td><td>13.0</td><td>9.0</td><td>[325000.0,3.125,3...</td><td>[1.43250764677054...</td><td>(58,[0,1,2,3,4,5,...</td><td>[1.85561194573925...</td><td>[0.86478466426662...</td><td>0.0</td></tr>\n",
       "<tr><td>254900HA4DQWAE0W3342</td><td>1</td><td>31</td><td>455000.0</td><td>2.75</td><td>360</td><td>200.0</td><td>35-44</td><td>4</td><td>9</td><td>35-44</td><td>9</td><td>19124</td><td>TX</td><td>48113</td><td>795000.0</td><td>1</td><td>1</td><td>0.0</td><td>0.0</td><td>2.0</td><td>0.0</td><td>0.0</td><td>0.0</td><td>1.0</td><td>3.0</td><td>1.0</td><td>(3,[0],[1.0])</td><td>(5,[0],[1.0])</td><td>(4,[2],[1.0])</td><td>(3,[0],[1.0])</td><td>(2,[0],[1.0])</td><td>(7,[0],[1.0])</td><td>(8,[1],[1.0])</td><td>(8,[3],[1.0])</td><td>(9,[1],[1.0])</td><td>2.0</td><td>28.0</td><td>12.0</td><td>9.0</td><td>[455000.0,2.75,36...</td><td>[2.00551070547876...</td><td>(58,[0,1,2,3,4,5,...</td><td>[1.97137101198646...</td><td>[0.87775829714336...</td><td>0.0</td></tr>\n",
       "<tr><td>254900HA4DQWAE0W3342</td><td>1</td><td>32</td><td>165000.0</td><td>3.125</td><td>360</td><td>68.0</td><td>65-74</td><td>4</td><td>9</td><td>9999</td><td>9</td><td>40140</td><td>CA</td><td>06071</td><td>285000.0</td><td>1</td><td>1</td><td>0.0</td><td>2.0</td><td>2.0</td><td>0.0</td><td>0.0</td><td>4.0</td><td>0.0</td><td>3.0</td><td>1.0</td><td>(3,[0],[1.0])</td><td>(5,[2],[1.0])</td><td>(4,[2],[1.0])</td><td>(3,[0],[1.0])</td><td>(2,[0],[1.0])</td><td>(7,[4],[1.0])</td><td>(8,[0],[1.0])</td><td>(8,[3],[1.0])</td><td>(9,[1],[1.0])</td><td>0.0</td><td>7.0</td><td>8.0</td><td>9.0</td><td>[165000.0,3.125,3...</td><td>[0.72727311297581...</td><td>(58,[0,1,2,3,4,5,...</td><td>[5.23094007014081...</td><td>[0.99467995923315...</td><td>0.0</td></tr>\n",
       "<tr><td>254900HA4DQWAE0W3342</td><td>2</td><td>1</td><td>105000.0</td><td>4.625</td><td>360</td><td>33.0</td><td>&lt;25</td><td>4</td><td>9</td><td>9999</td><td>9</td><td>99999</td><td>OH</td><td>39059</td><td>115000.0</td><td>1</td><td>1</td><td>1.0</td><td>1.0</td><td>2.0</td><td>0.0</td><td>0.0</td><td>7.0</td><td>0.0</td><td>3.0</td><td>1.0</td><td>(3,[1],[1.0])</td><td>(5,[1],[1.0])</td><td>(4,[2],[1.0])</td><td>(3,[0],[1.0])</td><td>(2,[0],[1.0])</td><td>(7,[],[])</td><td>(8,[0],[1.0])</td><td>(8,[3],[1.0])</td><td>(9,[1],[1.0])</td><td>8.0</td><td>1004.0</td><td>0.0</td><td>9.0</td><td>[105000.0,4.625,3...</td><td>[0.46281016280279...</td><td>(58,[0,1,2,3,4,6,...</td><td>[4.57742958801451...</td><td>[0.98982333968006...</td><td>0.0</td></tr>\n",
       "<tr><td>254900HA4DQWAE0W3342</td><td>2</td><td>1</td><td>115000.0</td><td>3.125</td><td>360</td><td>42.0</td><td>45-54</td><td>4</td><td>9</td><td>9999</td><td>9</td><td>30140</td><td>PA</td><td>42075</td><td>115000.0</td><td>1</td><td>1</td><td>1.0</td><td>1.0</td><td>2.0</td><td>0.0</td><td>0.0</td><td>1.0</td><td>0.0</td><td>3.0</td><td>1.0</td><td>(3,[1],[1.0])</td><td>(5,[1],[1.0])</td><td>(4,[2],[1.0])</td><td>(3,[0],[1.0])</td><td>(2,[0],[1.0])</td><td>(7,[1],[1.0])</td><td>(8,[0],[1.0])</td><td>(8,[3],[1.0])</td><td>(9,[1],[1.0])</td><td>5.0</td><td>215.0</td><td>159.0</td><td>9.0</td><td>[115000.0,3.125,3...</td><td>[0.50688732116496...</td><td>(58,[0,1,2,3,4,6,...</td><td>[4.97482650895974...</td><td>[0.99313769895281...</td><td>0.0</td></tr>\n",
       "<tr><td>254900HA4DQWAE0W3342</td><td>2</td><td>1</td><td>135000.0</td><td>3.25</td><td>360</td><td>72.0</td><td>35-44</td><td>4</td><td>9</td><td>35-44</td><td>9</td><td>38060</td><td>AZ</td><td>04013</td><td>135000.0</td><td>1</td><td>1</td><td>1.0</td><td>1.0</td><td>2.0</td><td>0.0</td><td>0.0</td><td>0.0</td><td>1.0</td><td>3.0</td><td>1.0</td><td>(3,[1],[1.0])</td><td>(5,[1],[1.0])</td><td>(4,[2],[1.0])</td><td>(3,[0],[1.0])</td><td>(2,[0],[1.0])</td><td>(7,[0],[1.0])</td><td>(8,[1],[1.0])</td><td>(8,[3],[1.0])</td><td>(9,[1],[1.0])</td><td>7.0</td><td>1.0</td><td>3.0</td><td>9.0</td><td>[135000.0,3.25,36...</td><td>[0.59504163788930...</td><td>(58,[0,1,2,3,4,6,...</td><td>[2.37130842638431...</td><td>[0.91461309885239...</td><td>0.0</td></tr>\n",
       "<tr><td>254900HA4DQWAE0W3342</td><td>2</td><td>1</td><td>205000.0</td><td>3.125</td><td>360</td><td>88.0</td><td>25-34</td><td>4</td><td>9</td><td>9999</td><td>9</td><td>12260</td><td>SC</td><td>45003</td><td>215000.0</td><td>1</td><td>1</td><td>1.0</td><td>1.0</td><td>2.0</td><td>0.0</td><td>0.0</td><td>2.0</td><td>0.0</td><td>3.0</td><td>1.0</td><td>(3,[1],[1.0])</td><td>(5,[1],[1.0])</td><td>(4,[2],[1.0])</td><td>(3,[0],[1.0])</td><td>(2,[0],[1.0])</td><td>(7,[2],[1.0])</td><td>(8,[0],[1.0])</td><td>(8,[3],[1.0])</td><td>(9,[1],[1.0])</td><td>24.0</td><td>1054.0</td><td>124.0</td><td>9.0</td><td>[205000.0,3.125,3...</td><td>[0.90358174642449...</td><td>(58,[0,1,2,3,4,6,...</td><td>[4.42996761165365...</td><td>[0.98822541712023...</td><td>0.0</td></tr>\n",
       "<tr><td>254900HA4DQWAE0W3342</td><td>2</td><td>1</td><td>205000.0</td><td>4.125</td><td>360</td><td>44.0</td><td>35-44</td><td>4</td><td>9</td><td>9999</td><td>9</td><td>32820</td><td>MS</td><td>28033</td><td>205000.0</td><td>1</td><td>1</td><td>1.0</td><td>1.0</td><td>2.0</td><td>0.0</td><td>0.0</td><td>0.0</td><td>0.0</td><td>3.0</td><td>1.0</td><td>(3,[1],[1.0])</td><td>(5,[1],[1.0])</td><td>(4,[2],[1.0])</td><td>(3,[0],[1.0])</td><td>(2,[0],[1.0])</td><td>(7,[0],[1.0])</td><td>(8,[0],[1.0])</td><td>(8,[3],[1.0])</td><td>(9,[1],[1.0])</td><td>36.0</td><td>350.0</td><td>66.0</td><td>9.0</td><td>[205000.0,4.125,3...</td><td>[0.90358174642449...</td><td>(58,[0,1,2,3,4,6,...</td><td>[4.37269566153976...</td><td>[0.98754002673345...</td><td>0.0</td></tr>\n",
       "</table>\n",
       "only showing top 20 rows\n"
      ],
      "text/plain": [
       "+--------------------+---------+------------+-----------+-------------+---------+------+-------------+-------------+---------------------------+----------------+------------------------------+--------------+----------+-----------+--------------+-----------+--------------+---------------+------------------+-------------------+-----------------+--------------------+-------------------+----------------------+---------------------------------+------------------------------------+-------------+----------------+-----------------+---------------+------------------+-----------------+--------------------+-------------------------------+----------------------------------+----------------+-----------------+--------------------+---------+--------------------+--------------------+--------------------+--------------------+--------------------+----------+\n",
       "|                 lei|loan_type|loan_purpose|loan_amount|interest_rate|loan_term|income|applicant_age|applicant_sex|applicant_credit_score_type|co_applicant_age|co_applicant_credit_score_type|derived_msa_md|state_code|county_code|property_value|total_units|occupancy_type|loan_type_index|loan_purpose_index|applicant_sex_index|total_units_index|occupancy_type_index|applicant_age_index|co_applicant_age_index|applicant_credit_score_type_index|co_applicant_credit_score_type_index|loan_type_OHE|loan_purpose_OHE|applicant_sex_OHE|total_units_OHE|occupancy_type_OHE|applicant_age_OHE|co_applicant_age_OHE|applicant_credit_score_type_OHE|co_applicant_credit_score_type_OHE|state_code_index|county_code_index|derived_msa_md_index|lei_index|          num_vector|   num_scaled_vector|            features|       rawPrediction|         probability|prediction|\n",
       "+--------------------+---------+------------+-----------+-------------+---------+------+-------------+-------------+---------------------------+----------------+------------------------------+--------------+----------+-----------+--------------+-----------+--------------+---------------+------------------+-------------------+-----------------+--------------------+-------------------+----------------------+---------------------------------+------------------------------------+-------------+----------------+-----------------+---------------+------------------+-----------------+--------------------+-------------------------------+----------------------------------+----------------+-----------------+--------------------+---------+--------------------+--------------------+--------------------+--------------------+--------------------+----------+\n",
       "|01J4SO3XTWZF4PP38209|        1|          31|    15000.0|         4.95|       60|  94.0|         8888|            4|                          9|            9999|                            10|         25060|        MS|      28047|       45000.0|          1|             3|            0.0|               0.0|                2.0|              0.0|                 1.0|                5.0|                   0.0|                              3.0|                                 0.0|(3,[0],[1.0])|   (5,[0],[1.0])|    (4,[2],[1.0])|  (3,[0],[1.0])|     (2,[1],[1.0])|    (7,[5],[1.0])|       (8,[0],[1.0])|                  (8,[3],[1.0])|                     (9,[0],[1.0])|            36.0|            284.0|               174.0|     93.0|[15000.0,4.949999...|[0.06611573754325...|(58,[0,1,2,3,4,5,...|[0.64475038483749...|[0.65582650073893...|       0.0|\n",
       "|0S8H5NJFLHEVJXVTQ413|        1|          31|   435000.0|    3.2904205|      360| 124.0|        35-44|            1|                          1|           35-44|                             1|         42644|        WA|      53061|      655000.0|          1|             1|            0.0|               0.0|                0.0|              0.0|                 0.0|                0.0|                   1.0|                              0.0|                                 2.0|(3,[0],[1.0])|   (5,[0],[1.0])|    (4,[0],[1.0])|  (3,[0],[1.0])|     (2,[0],[1.0])|    (7,[0],[1.0])|       (8,[1],[1.0])|                  (8,[0],[1.0])|                     (9,[2],[1.0])|            10.0|             66.0|                17.0|    577.0|[435000.0,3.29042...|[1.91735638875442...|(58,[0,1,2,3,4,5,...|[-2.8612907730043...|[0.05410060877803...|       1.0|\n",
       "|1IE8VN30JCEQV1H4R804|        1|          31|   215000.0|    3.2904205|      360| 109.0|        55-64|            1|                          2|            9999|                            10|         22744|        FL|      12011|      355000.0|          1|             1|            0.0|               0.0|                0.0|              0.0|                 0.0|                3.0|                   0.0|                              1.0|                                 0.0|(3,[0],[1.0])|   (5,[0],[1.0])|    (4,[0],[1.0])|  (3,[0],[1.0])|     (2,[0],[1.0])|    (7,[3],[1.0])|       (8,[0],[1.0])|                  (8,[1],[1.0])|                     (9,[0],[1.0])|             1.0|             21.0|                45.0|    349.0|[215000.0,3.29042...|[0.94765890478666...|(58,[0,1,2,3,4,5,...|[-1.5122500108184...|[0.18060558102033...|       1.0|\n",
       "|213800XR2TCBQJSF1X93|        1|          31|   365000.0|        2.875|      360| 102.0|        35-44|            1|                          2|            9999|                            10|         31084|        CA|      06037|      625000.0|          1|             1|            0.0|               0.0|                0.0|              0.0|                 0.0|                0.0|                   0.0|                              1.0|                                 0.0|(3,[0],[1.0])|   (5,[0],[1.0])|    (4,[0],[1.0])|  (3,[0],[1.0])|     (2,[0],[1.0])|    (7,[0],[1.0])|       (8,[0],[1.0])|                  (8,[1],[1.0])|                     (9,[0],[1.0])|             0.0|              0.0|                 2.0|    140.0|[365000.0,2.875,3...|[1.60881628021922...|(58,[0,1,2,3,4,5,...|[-1.7766100765648...|[0.14472222588682...|       1.0|\n",
       "|2549006II76YXSS5XM65|        1|          31|   205000.0|        3.125|      360| 110.0|        45-54|            2|                          3|            9999|                            10|         47894|        VA|      51059|      325000.0|          1|             1|            0.0|               0.0|                1.0|              0.0|                 0.0|                1.0|                   0.0|                              2.0|                                 0.0|(3,[0],[1.0])|   (5,[0],[1.0])|    (4,[1],[1.0])|  (3,[0],[1.0])|     (2,[0],[1.0])|    (7,[1],[1.0])|       (8,[0],[1.0])|                  (8,[2],[1.0])|                     (9,[0],[1.0])|            12.0|             14.0|                 4.0|    204.0|[205000.0,3.125,3...|[0.90358174642449...|(58,[0,1,2,3,4,5,...|[-1.5855524675315...|[0.17001055400556...|       1.0|\n",
       "|254900ACUWEGW702BR80|        1|          31|   275000.0|          3.0|      360|  78.0|        45-54|            2|                          3|            9999|                            10|         15804|        NJ|      34007|      305000.0|          1|             1|            0.0|               0.0|                1.0|              0.0|                 0.0|                1.0|                   0.0|                              2.0|                                 0.0|(3,[0],[1.0])|   (5,[0],[1.0])|    (4,[1],[1.0])|  (3,[0],[1.0])|     (2,[0],[1.0])|    (7,[1],[1.0])|       (8,[0],[1.0])|                  (8,[2],[1.0])|                     (9,[0],[1.0])|            11.0|            183.0|                56.0|    353.0|[275000.0,3.0,360...|[1.21212185495969...|(58,[0,1,2,3,4,5,...|[-1.8713743428235...|[0.13338277969392...|       1.0|\n",
       "|254900ACUWEGW702BR80|        1|          31|   395000.0|          3.0|      360| 332.0|        35-44|            1|                          1|             >74|                             9|         35614|        NJ|      34003|      515000.0|          1|             1|            0.0|               0.0|                0.0|              0.0|                 0.0|                0.0|                   7.0|                              0.0|                                 1.0|(3,[0],[1.0])|   (5,[0],[1.0])|    (4,[0],[1.0])|  (3,[0],[1.0])|     (2,[0],[1.0])|    (7,[0],[1.0])|       (8,[7],[1.0])|                  (8,[0],[1.0])|                     (9,[1],[1.0])|            11.0|             52.0|                10.0|    353.0|[395000.0,3.0,360...|[1.74104775530573...|(58,[0,1,2,3,4,5,...|[-2.5163454881656...|[0.07472021517676...|       1.0|\n",
       "|254900HA4DQWAE0W3342|        1|           1|   335000.0|        2.625|      360|  81.0|        35-44|            4|                          9|           35-44|                             9|         19124|        TX|      48085|      415000.0|          1|             1|            0.0|               1.0|                2.0|              0.0|                 0.0|                0.0|                   1.0|                              3.0|                                 1.0|(3,[0],[1.0])|   (5,[1],[1.0])|    (4,[2],[1.0])|  (3,[0],[1.0])|     (2,[0],[1.0])|    (7,[0],[1.0])|       (8,[1],[1.0])|                  (8,[3],[1.0])|                     (9,[1],[1.0])|             2.0|             50.0|                12.0|      9.0|[335000.0,2.625,3...|[1.47658480513271...|(58,[0,1,2,3,4,5,...|[2.12763636553943...|[0.89356041160467...|       0.0|\n",
       "|254900HA4DQWAE0W3342|        1|           1|   505000.0|          2.5|      360| 265.0|        45-54|            4|                          9|           35-44|                             9|         19740|        CO|      08059|     1035000.0|          1|             1|            0.0|               1.0|                2.0|              0.0|                 0.0|                1.0|                   1.0|                              3.0|                                 1.0|(3,[0],[1.0])|   (5,[1],[1.0])|    (4,[2],[1.0])|  (3,[0],[1.0])|     (2,[0],[1.0])|    (7,[1],[1.0])|       (8,[1],[1.0])|                  (8,[3],[1.0])|                     (9,[1],[1.0])|             6.0|             37.0|                 6.0|      9.0|[505000.0,2.5,360...|[2.22589649728961...|(58,[0,1,2,3,4,5,...|[2.06229132845680...|[0.88718370972536...|       0.0|\n",
       "|254900HA4DQWAE0W3342|        1|          31|   135000.0|        3.375|      360|  39.0|        25-34|            4|                          9|            9999|                             9|         36540|        NE|      31055|      155000.0|          1|             1|            0.0|               0.0|                2.0|              0.0|                 0.0|                2.0|                   0.0|                              3.0|                                 1.0|(3,[0],[1.0])|   (5,[0],[1.0])|    (4,[2],[1.0])|  (3,[0],[1.0])|     (2,[0],[1.0])|    (7,[2],[1.0])|       (8,[0],[1.0])|                  (8,[3],[1.0])|                     (9,[1],[1.0])|            34.0|             93.0|                57.0|      9.0|[135000.0,3.375,3...|[0.59504163788930...|(58,[0,1,2,3,4,5,...|[4.37657193065208...|[0.98758763312067...|       0.0|\n",
       "|254900HA4DQWAE0W3342|        1|          31|   205000.0|          3.0|      360|  69.0|        25-34|            4|                          9|           25-34|                             9|         33340|        WI|      55079|      315000.0|          2|             1|            0.0|               0.0|                2.0|              1.0|                 0.0|                2.0|                   3.0|                              3.0|                                 1.0|(3,[0],[1.0])|   (5,[0],[1.0])|    (4,[2],[1.0])|  (3,[1],[1.0])|     (2,[0],[1.0])|    (7,[2],[1.0])|       (8,[3],[1.0])|                  (8,[3],[1.0])|                     (9,[1],[1.0])|            23.0|            144.0|                62.0|      9.0|[205000.0,3.0,360...|[0.90358174642449...|(58,[0,1,2,3,4,5,...|[2.65522211110416...|[0.93433212394353...|       0.0|\n",
       "|254900HA4DQWAE0W3342|        1|          31|   315000.0|         3.25|      360|  81.0|        35-44|            4|                          9|            9999|                             9|         22660|        CO|      08069|      355000.0|          1|             1|            0.0|               0.0|                2.0|              0.0|                 0.0|                0.0|                   0.0|                              3.0|                                 1.0|(3,[0],[1.0])|   (5,[0],[1.0])|    (4,[2],[1.0])|  (3,[0],[1.0])|     (2,[0],[1.0])|    (7,[0],[1.0])|       (8,[0],[1.0])|                  (8,[3],[1.0])|                     (9,[1],[1.0])|             6.0|             89.0|                91.0|      9.0|[315000.0,3.25,36...|[1.38843048840837...|(58,[0,1,2,3,4,5,...|[4.48889285781443...|[0.98889170673791...|       0.0|\n",
       "|254900HA4DQWAE0W3342|        1|          31|   325000.0|        3.125|      360| 184.0|          >74|            4|                          9|           65-74|                             9|         41740|        CA|      06073|      755000.0|          1|             1|            0.0|               0.0|                2.0|              0.0|                 0.0|                6.0|                   6.0|                              3.0|                                 1.0|(3,[0],[1.0])|   (5,[0],[1.0])|    (4,[2],[1.0])|  (3,[0],[1.0])|     (2,[0],[1.0])|    (7,[6],[1.0])|       (8,[6],[1.0])|                  (8,[3],[1.0])|                     (9,[1],[1.0])|             0.0|              3.0|                13.0|      9.0|[325000.0,3.125,3...|[1.43250764677054...|(58,[0,1,2,3,4,5,...|[1.85561194573925...|[0.86478466426662...|       0.0|\n",
       "|254900HA4DQWAE0W3342|        1|          31|   455000.0|         2.75|      360| 200.0|        35-44|            4|                          9|           35-44|                             9|         19124|        TX|      48113|      795000.0|          1|             1|            0.0|               0.0|                2.0|              0.0|                 0.0|                0.0|                   1.0|                              3.0|                                 1.0|(3,[0],[1.0])|   (5,[0],[1.0])|    (4,[2],[1.0])|  (3,[0],[1.0])|     (2,[0],[1.0])|    (7,[0],[1.0])|       (8,[1],[1.0])|                  (8,[3],[1.0])|                     (9,[1],[1.0])|             2.0|             28.0|                12.0|      9.0|[455000.0,2.75,36...|[2.00551070547876...|(58,[0,1,2,3,4,5,...|[1.97137101198646...|[0.87775829714336...|       0.0|\n",
       "|254900HA4DQWAE0W3342|        1|          32|   165000.0|        3.125|      360|  68.0|        65-74|            4|                          9|            9999|                             9|         40140|        CA|      06071|      285000.0|          1|             1|            0.0|               2.0|                2.0|              0.0|                 0.0|                4.0|                   0.0|                              3.0|                                 1.0|(3,[0],[1.0])|   (5,[2],[1.0])|    (4,[2],[1.0])|  (3,[0],[1.0])|     (2,[0],[1.0])|    (7,[4],[1.0])|       (8,[0],[1.0])|                  (8,[3],[1.0])|                     (9,[1],[1.0])|             0.0|              7.0|                 8.0|      9.0|[165000.0,3.125,3...|[0.72727311297581...|(58,[0,1,2,3,4,5,...|[5.23094007014081...|[0.99467995923315...|       0.0|\n",
       "|254900HA4DQWAE0W3342|        2|           1|   105000.0|        4.625|      360|  33.0|          <25|            4|                          9|            9999|                             9|         99999|        OH|      39059|      115000.0|          1|             1|            1.0|               1.0|                2.0|              0.0|                 0.0|                7.0|                   0.0|                              3.0|                                 1.0|(3,[1],[1.0])|   (5,[1],[1.0])|    (4,[2],[1.0])|  (3,[0],[1.0])|     (2,[0],[1.0])|        (7,[],[])|       (8,[0],[1.0])|                  (8,[3],[1.0])|                     (9,[1],[1.0])|             8.0|           1004.0|                 0.0|      9.0|[105000.0,4.625,3...|[0.46281016280279...|(58,[0,1,2,3,4,6,...|[4.57742958801451...|[0.98982333968006...|       0.0|\n",
       "|254900HA4DQWAE0W3342|        2|           1|   115000.0|        3.125|      360|  42.0|        45-54|            4|                          9|            9999|                             9|         30140|        PA|      42075|      115000.0|          1|             1|            1.0|               1.0|                2.0|              0.0|                 0.0|                1.0|                   0.0|                              3.0|                                 1.0|(3,[1],[1.0])|   (5,[1],[1.0])|    (4,[2],[1.0])|  (3,[0],[1.0])|     (2,[0],[1.0])|    (7,[1],[1.0])|       (8,[0],[1.0])|                  (8,[3],[1.0])|                     (9,[1],[1.0])|             5.0|            215.0|               159.0|      9.0|[115000.0,3.125,3...|[0.50688732116496...|(58,[0,1,2,3,4,6,...|[4.97482650895974...|[0.99313769895281...|       0.0|\n",
       "|254900HA4DQWAE0W3342|        2|           1|   135000.0|         3.25|      360|  72.0|        35-44|            4|                          9|           35-44|                             9|         38060|        AZ|      04013|      135000.0|          1|             1|            1.0|               1.0|                2.0|              0.0|                 0.0|                0.0|                   1.0|                              3.0|                                 1.0|(3,[1],[1.0])|   (5,[1],[1.0])|    (4,[2],[1.0])|  (3,[0],[1.0])|     (2,[0],[1.0])|    (7,[0],[1.0])|       (8,[1],[1.0])|                  (8,[3],[1.0])|                     (9,[1],[1.0])|             7.0|              1.0|                 3.0|      9.0|[135000.0,3.25,36...|[0.59504163788930...|(58,[0,1,2,3,4,6,...|[2.37130842638431...|[0.91461309885239...|       0.0|\n",
       "|254900HA4DQWAE0W3342|        2|           1|   205000.0|        3.125|      360|  88.0|        25-34|            4|                          9|            9999|                             9|         12260|        SC|      45003|      215000.0|          1|             1|            1.0|               1.0|                2.0|              0.0|                 0.0|                2.0|                   0.0|                              3.0|                                 1.0|(3,[1],[1.0])|   (5,[1],[1.0])|    (4,[2],[1.0])|  (3,[0],[1.0])|     (2,[0],[1.0])|    (7,[2],[1.0])|       (8,[0],[1.0])|                  (8,[3],[1.0])|                     (9,[1],[1.0])|            24.0|           1054.0|               124.0|      9.0|[205000.0,3.125,3...|[0.90358174642449...|(58,[0,1,2,3,4,6,...|[4.42996761165365...|[0.98822541712023...|       0.0|\n",
       "|254900HA4DQWAE0W3342|        2|           1|   205000.0|        4.125|      360|  44.0|        35-44|            4|                          9|            9999|                             9|         32820|        MS|      28033|      205000.0|          1|             1|            1.0|               1.0|                2.0|              0.0|                 0.0|                0.0|                   0.0|                              3.0|                                 1.0|(3,[1],[1.0])|   (5,[1],[1.0])|    (4,[2],[1.0])|  (3,[0],[1.0])|     (2,[0],[1.0])|    (7,[0],[1.0])|       (8,[0],[1.0])|                  (8,[3],[1.0])|                     (9,[1],[1.0])|            36.0|            350.0|                66.0|      9.0|[205000.0,4.125,3...|[0.90358174642449...|(58,[0,1,2,3,4,6,...|[4.37269566153976...|[0.98754002673345...|       0.0|\n",
       "+--------------------+---------+------------+-----------+-------------+---------+------+-------------+-------------+---------------------------+----------------+------------------------------+--------------+----------+-----------+--------------+-----------+--------------+---------------+------------------+-------------------+-----------------+--------------------+-------------------+----------------------+---------------------------------+------------------------------------+-------------+----------------+-----------------+---------------+------------------+-----------------+--------------------+-------------------------------+----------------------------------+----------------+-----------------+--------------------+---------+--------------------+--------------------+--------------------+--------------------+--------------------+----------+\n",
       "only showing top 20 rows"
      ]
     },
     "execution_count": 44,
     "metadata": {},
     "output_type": "execute_result"
    }
   ],
   "source": [
    "preds_df"
   ]
  },
  {
   "cell_type": "code",
   "execution_count": null,
   "id": "88b16c6c-3265-467d-8aa6-b074a70fbce8",
   "metadata": {},
   "outputs": [],
   "source": []
  },
  {
   "cell_type": "markdown",
   "id": "3b1f0bd9-db5d-4130-8cad-aed1c7c6c016",
   "metadata": {
    "jp-MarkdownHeadingCollapsed": true
   },
   "source": [
    "### 7. Hyperparameter tuning (GBM model)"
   ]
  },
  {
   "cell_type": "code",
   "execution_count": 33,
   "id": "fd5323cd-22b5-4e5a-89fa-1a0a4678164f",
   "metadata": {},
   "outputs": [],
   "source": [
    "from pyspark.ml.tuning import ParamGridBuilder, TrainValidationSplit\n"
   ]
  },
  {
   "cell_type": "code",
   "execution_count": 34,
   "id": "34137b06-2253-4e0a-a433-c5f4fe84adf1",
   "metadata": {},
   "outputs": [],
   "source": [
    "gbt = GBTClassifier(featuresCol='features', labelCol='action_taken')\n",
    "\n",
    "paramGrid = ParamGridBuilder()\\\n",
    "        .addGrid(gbt.maxDepth, [3,5,7])\\\n",
    "        .addGrid(gbt.maxBins, [2000, 3000, 5000])\\\n",
    "        .addGrid(gbt.stepSize, [0.05, 0.1, 0.2])\\\n",
    "        .build()"
   ]
  },
  {
   "cell_type": "code",
   "execution_count": 35,
   "id": "332f98c8-59c3-4654-9f72-8869fd5e97b5",
   "metadata": {},
   "outputs": [],
   "source": [
    "evaluator_accuracy = MulticlassClassificationEvaluator(labelCol='action_taken', predictionCol='prediction', metricName='accuracy')\n"
   ]
  },
  {
   "cell_type": "code",
   "execution_count": 36,
   "id": "1edc66a0-d8a3-4c52-a372-c54ce899e8c6",
   "metadata": {},
   "outputs": [],
   "source": [
    "train_validator_model = TrainValidationSplit(estimator=gbt,\n",
    "                                            estimatorParamMaps=paramGrid,\n",
    "                                            evaluator=evaluator_accuracy,\n",
    "                                            trainRatio=0.8)"
   ]
  },
  {
   "cell_type": "code",
   "execution_count": 37,
   "id": "db5c50fb-6573-4413-abbe-c2c5c86230f2",
   "metadata": {
    "scrolled": true
   },
   "outputs": [
    {
     "name": "stderr",
     "output_type": "stream",
     "text": [
      "25/01/19 18:38:02 WARN DecisionTreeMetadata: DecisionTree reducing maxBins from 5000 to 4724 (= number of training instances)\n",
      "25/01/19 18:38:05 WARN DecisionTreeMetadata: DecisionTree reducing maxBins from 5000 to 4724 (= number of training instances)\n",
      "25/01/19 18:38:08 WARN DecisionTreeMetadata: DecisionTree reducing maxBins from 5000 to 4724 (= number of training instances)\n",
      "25/01/19 18:38:12 WARN DAGScheduler: Broadcasting large task binary with size 1009.5 KiB\n",
      "25/01/19 18:38:13 WARN DAGScheduler: Broadcasting large task binary with size 1014.6 KiB\n",
      "25/01/19 18:38:13 WARN DAGScheduler: Broadcasting large task binary with size 1025.8 KiB\n",
      "25/01/19 18:38:13 WARN DAGScheduler: Broadcasting large task binary with size 1041.7 KiB\n",
      "25/01/19 18:38:13 WARN DAGScheduler: Broadcasting large task binary with size 1050.6 KiB\n",
      "25/01/19 18:38:13 WARN DAGScheduler: Broadcasting large task binary with size 1066.1 KiB\n",
      "25/01/19 18:38:13 WARN DAGScheduler: Broadcasting large task binary with size 1070.5 KiB\n",
      "25/01/19 18:38:13 WARN DAGScheduler: Broadcasting large task binary with size 1082.6 KiB\n",
      "25/01/19 18:38:13 WARN DAGScheduler: Broadcasting large task binary with size 1085.9 KiB\n",
      "25/01/19 18:38:13 WARN DAGScheduler: Broadcasting large task binary with size 1098.8 KiB\n",
      "25/01/19 18:38:13 WARN DAGScheduler: Broadcasting large task binary with size 1112.7 KiB\n",
      "25/01/19 18:38:13 WARN DAGScheduler: Broadcasting large task binary with size 1116.6 KiB\n",
      "25/01/19 18:38:13 WARN DAGScheduler: Broadcasting large task binary with size 1124.0 KiB\n",
      "25/01/19 18:38:13 WARN DAGScheduler: Broadcasting large task binary with size 1126.7 KiB\n",
      "25/01/19 18:38:13 WARN DAGScheduler: Broadcasting large task binary with size 1157.8 KiB\n",
      "25/01/19 18:38:13 WARN DAGScheduler: Broadcasting large task binary with size 1170.7 KiB\n",
      "25/01/19 18:38:13 WARN DAGScheduler: Broadcasting large task binary with size 1175.5 KiB\n",
      "25/01/19 18:38:13 WARN DAGScheduler: Broadcasting large task binary with size 1186.5 KiB\n",
      "25/01/19 18:38:13 WARN DAGScheduler: Broadcasting large task binary with size 1189.6 KiB\n",
      "25/01/19 18:38:13 WARN DAGScheduler: Broadcasting large task binary with size 1211.1 KiB\n",
      "25/01/19 18:38:13 WARN DAGScheduler: Broadcasting large task binary with size 1223.0 KiB\n",
      "25/01/19 18:38:14 WARN DAGScheduler: Broadcasting large task binary with size 1227.7 KiB\n",
      "25/01/19 18:38:14 WARN DAGScheduler: Broadcasting large task binary with size 1239.0 KiB\n",
      "25/01/19 18:38:14 WARN DAGScheduler: Broadcasting large task binary with size 1242.2 KiB\n",
      "25/01/19 18:38:14 WARN DAGScheduler: Broadcasting large task binary with size 1251.4 KiB\n",
      "25/01/19 18:38:14 WARN DAGScheduler: Broadcasting large task binary with size 1275.9 KiB\n",
      "25/01/19 18:38:14 WARN DAGScheduler: Broadcasting large task binary with size 1280.7 KiB\n",
      "25/01/19 18:38:14 WARN DAGScheduler: Broadcasting large task binary with size 1291.7 KiB\n",
      "25/01/19 18:38:14 WARN DAGScheduler: Broadcasting large task binary with size 1293.9 KiB\n",
      "25/01/19 18:38:14 WARN DAGScheduler: Broadcasting large task binary with size 1312.2 KiB\n",
      "25/01/19 18:38:14 WARN DAGScheduler: Broadcasting large task binary with size 1327.0 KiB\n",
      "25/01/19 18:38:14 WARN DAGScheduler: Broadcasting large task binary with size 1331.6 KiB\n",
      "25/01/19 18:38:14 WARN DAGScheduler: Broadcasting large task binary with size 1343.2 KiB\n",
      "25/01/19 18:38:14 WARN DAGScheduler: Broadcasting large task binary with size 1347.2 KiB\n",
      "25/01/19 18:38:14 WARN DAGScheduler: Broadcasting large task binary with size 1356.0 KiB\n",
      "25/01/19 18:38:14 WARN DAGScheduler: Broadcasting large task binary with size 1380.3 KiB\n",
      "25/01/19 18:38:14 WARN DAGScheduler: Broadcasting large task binary with size 1385.0 KiB\n",
      "25/01/19 18:38:14 WARN DAGScheduler: Broadcasting large task binary with size 1396.1 KiB\n",
      "25/01/19 18:38:15 WARN DAGScheduler: Broadcasting large task binary with size 1398.2 KiB\n",
      "25/01/19 18:38:15 WARN DAGScheduler: Broadcasting large task binary with size 1405.8 KiB\n",
      "25/01/19 18:38:15 WARN DAGScheduler: Broadcasting large task binary with size 1424.8 KiB\n",
      "25/01/19 18:38:15 WARN DAGScheduler: Broadcasting large task binary with size 1429.4 KiB\n",
      "25/01/19 18:38:15 WARN DAGScheduler: Broadcasting large task binary with size 1440.1 KiB\n",
      "25/01/19 18:38:15 WARN DAGScheduler: Broadcasting large task binary with size 1442.4 KiB\n",
      "25/01/19 18:38:15 WARN DAGScheduler: Broadcasting large task binary with size 1447.5 KiB\n",
      "25/01/19 18:38:15 WARN DAGScheduler: Broadcasting large task binary with size 1468.6 KiB\n",
      "25/01/19 18:38:15 WARN DAGScheduler: Broadcasting large task binary with size 1473.1 KiB\n",
      "25/01/19 18:38:15 WARN DAGScheduler: Broadcasting large task binary with size 1485.3 KiB\n",
      "25/01/19 18:38:15 WARN DAGScheduler: Broadcasting large task binary with size 1490.1 KiB\n",
      "25/01/19 18:38:15 WARN DAGScheduler: Broadcasting large task binary with size 1498.2 KiB\n",
      "25/01/19 18:38:15 WARN DAGScheduler: Broadcasting large task binary with size 1523.5 KiB\n",
      "25/01/19 18:38:15 WARN DAGScheduler: Broadcasting large task binary with size 1528.2 KiB\n",
      "25/01/19 18:38:15 WARN DAGScheduler: Broadcasting large task binary with size 1538.9 KiB\n",
      "25/01/19 18:38:15 WARN DAGScheduler: Broadcasting large task binary with size 1542.0 KiB\n",
      "25/01/19 18:38:15 WARN DAGScheduler: Broadcasting large task binary with size 1552.4 KiB\n",
      "25/01/19 18:38:16 WARN DAGScheduler: Broadcasting large task binary with size 1572.2 KiB\n",
      "25/01/19 18:38:16 WARN DAGScheduler: Broadcasting large task binary with size 1576.8 KiB\n",
      "25/01/19 18:38:16 WARN DAGScheduler: Broadcasting large task binary with size 1589.6 KiB\n",
      "25/01/19 18:38:16 WARN DAGScheduler: Broadcasting large task binary with size 1591.9 KiB\n",
      "25/01/19 18:38:16 WARN DAGScheduler: Broadcasting large task binary with size 1595.5 KiB\n",
      "25/01/19 18:38:16 WARN DAGScheduler: Broadcasting large task binary with size 1604.5 KiB\n",
      "25/01/19 18:38:18 WARN DAGScheduler: Broadcasting large task binary with size 1003.1 KiB\n",
      "25/01/19 18:38:18 WARN DAGScheduler: Broadcasting large task binary with size 1010.7 KiB\n",
      "25/01/19 18:38:18 WARN DAGScheduler: Broadcasting large task binary with size 1013.5 KiB\n",
      "25/01/19 18:38:18 WARN DAGScheduler: Broadcasting large task binary with size 1021.6 KiB\n",
      "25/01/19 18:38:18 WARN DAGScheduler: Broadcasting large task binary with size 1051.1 KiB\n",
      "25/01/19 18:38:18 WARN DAGScheduler: Broadcasting large task binary with size 1055.5 KiB\n",
      "25/01/19 18:38:18 WARN DAGScheduler: Broadcasting large task binary with size 1063.9 KiB\n",
      "25/01/19 18:38:18 WARN DAGScheduler: Broadcasting large task binary with size 1069.7 KiB\n",
      "25/01/19 18:38:18 WARN DAGScheduler: Broadcasting large task binary with size 1084.5 KiB\n",
      "25/01/19 18:38:18 WARN DAGScheduler: Broadcasting large task binary with size 1098.2 KiB\n",
      "25/01/19 18:38:18 WARN DAGScheduler: Broadcasting large task binary with size 1098.8 KiB\n",
      "25/01/19 18:38:18 WARN DAGScheduler: Broadcasting large task binary with size 1099.5 KiB\n",
      "25/01/19 18:38:18 WARN DAGScheduler: Broadcasting large task binary with size 1103.8 KiB\n",
      "25/01/19 18:38:18 WARN DAGScheduler: Broadcasting large task binary with size 1112.0 KiB\n",
      "25/01/19 18:38:19 WARN DAGScheduler: Broadcasting large task binary with size 1142.1 KiB\n",
      "25/01/19 18:38:19 WARN DAGScheduler: Broadcasting large task binary with size 1142.6 KiB\n",
      "25/01/19 18:38:19 WARN DAGScheduler: Broadcasting large task binary with size 1143.4 KiB\n",
      "25/01/19 18:38:19 WARN DAGScheduler: Broadcasting large task binary with size 1147.6 KiB\n",
      "25/01/19 18:38:19 WARN DAGScheduler: Broadcasting large task binary with size 1156.2 KiB\n",
      "25/01/19 18:38:19 WARN DAGScheduler: Broadcasting large task binary with size 1183.6 KiB\n",
      "25/01/19 18:38:19 WARN DAGScheduler: Broadcasting large task binary with size 1184.1 KiB\n",
      "25/01/19 18:38:19 WARN DAGScheduler: Broadcasting large task binary with size 1184.9 KiB\n",
      "25/01/19 18:38:19 WARN DAGScheduler: Broadcasting large task binary with size 1189.1 KiB\n",
      "25/01/19 18:38:19 WARN DAGScheduler: Broadcasting large task binary with size 1196.7 KiB\n",
      "25/01/19 18:38:19 WARN DAGScheduler: Broadcasting large task binary with size 1234.8 KiB\n",
      "25/01/19 18:38:19 WARN DAGScheduler: Broadcasting large task binary with size 1235.3 KiB\n",
      "25/01/19 18:38:19 WARN DAGScheduler: Broadcasting large task binary with size 1238.1 KiB\n",
      "25/01/19 18:38:19 WARN DAGScheduler: Broadcasting large task binary with size 1249.8 KiB\n",
      "25/01/19 18:38:19 WARN DAGScheduler: Broadcasting large task binary with size 1253.2 KiB\n",
      "25/01/19 18:38:19 WARN DAGScheduler: Broadcasting large task binary with size 1275.7 KiB\n",
      "25/01/19 18:38:20 WARN DAGScheduler: Broadcasting large task binary with size 1276.2 KiB\n",
      "25/01/19 18:38:20 WARN DAGScheduler: Broadcasting large task binary with size 1279.7 KiB\n",
      "25/01/19 18:38:20 WARN DAGScheduler: Broadcasting large task binary with size 1290.3 KiB\n",
      "25/01/19 18:38:20 WARN DAGScheduler: Broadcasting large task binary with size 1302.5 KiB\n",
      "25/01/19 18:38:20 WARN DAGScheduler: Broadcasting large task binary with size 1321.3 KiB\n",
      "25/01/19 18:38:20 WARN DAGScheduler: Broadcasting large task binary with size 1321.8 KiB\n",
      "25/01/19 18:38:20 WARN DAGScheduler: Broadcasting large task binary with size 1322.6 KiB\n",
      "25/01/19 18:38:20 WARN DAGScheduler: Broadcasting large task binary with size 1327.1 KiB\n",
      "25/01/19 18:38:20 WARN DAGScheduler: Broadcasting large task binary with size 1354.9 KiB\n",
      "25/01/19 18:38:20 WARN DAGScheduler: Broadcasting large task binary with size 1375.9 KiB\n",
      "25/01/19 18:38:20 WARN DAGScheduler: Broadcasting large task binary with size 1376.4 KiB\n",
      "25/01/19 18:38:20 WARN DAGScheduler: Broadcasting large task binary with size 1379.7 KiB\n",
      "25/01/19 18:38:20 WARN DAGScheduler: Broadcasting large task binary with size 1390.3 KiB\n",
      "25/01/19 18:38:20 WARN DAGScheduler: Broadcasting large task binary with size 1402.8 KiB\n",
      "25/01/19 18:38:20 WARN DAGScheduler: Broadcasting large task binary with size 1419.2 KiB\n",
      "25/01/19 18:38:21 WARN DAGScheduler: Broadcasting large task binary with size 1419.7 KiB\n",
      "25/01/19 18:38:21 WARN DAGScheduler: Broadcasting large task binary with size 1420.4 KiB\n",
      "25/01/19 18:38:21 WARN DAGScheduler: Broadcasting large task binary with size 1425.0 KiB\n",
      "25/01/19 18:38:21 WARN DAGScheduler: Broadcasting large task binary with size 1440.0 KiB\n",
      "25/01/19 18:38:21 WARN DAGScheduler: Broadcasting large task binary with size 1462.8 KiB\n",
      "25/01/19 18:38:21 WARN DAGScheduler: Broadcasting large task binary with size 1463.3 KiB\n",
      "25/01/19 18:38:21 WARN DAGScheduler: Broadcasting large task binary with size 1464.1 KiB\n",
      "25/01/19 18:38:21 WARN DAGScheduler: Broadcasting large task binary with size 1468.6 KiB\n",
      "25/01/19 18:38:21 WARN DAGScheduler: Broadcasting large task binary with size 1481.0 KiB\n",
      "25/01/19 18:38:21 WARN DAGScheduler: Broadcasting large task binary with size 1503.4 KiB\n",
      "25/01/19 18:38:21 WARN DAGScheduler: Broadcasting large task binary with size 1503.9 KiB\n",
      "25/01/19 18:38:21 WARN DAGScheduler: Broadcasting large task binary with size 1507.2 KiB\n",
      "25/01/19 18:38:21 WARN DAGScheduler: Broadcasting large task binary with size 1518.1 KiB\n",
      "25/01/19 18:38:21 WARN DAGScheduler: Broadcasting large task binary with size 1530.1 KiB\n",
      "25/01/19 18:38:22 WARN DAGScheduler: Broadcasting large task binary with size 1530.9 KiB\n",
      "25/01/19 18:38:24 WARN DAGScheduler: Broadcasting large task binary with size 1016.2 KiB\n",
      "25/01/19 18:38:24 WARN DAGScheduler: Broadcasting large task binary with size 1016.7 KiB\n",
      "25/01/19 18:38:24 WARN DAGScheduler: Broadcasting large task binary with size 1017.4 KiB\n",
      "25/01/19 18:38:24 WARN DAGScheduler: Broadcasting large task binary with size 1022.0 KiB\n",
      "25/01/19 18:38:24 WARN DAGScheduler: Broadcasting large task binary with size 1045.8 KiB\n",
      "25/01/19 18:38:24 WARN DAGScheduler: Broadcasting large task binary with size 1067.9 KiB\n",
      "25/01/19 18:38:24 WARN DAGScheduler: Broadcasting large task binary with size 1072.3 KiB\n",
      "25/01/19 18:38:24 WARN DAGScheduler: Broadcasting large task binary with size 1083.0 KiB\n",
      "25/01/19 18:38:24 WARN DAGScheduler: Broadcasting large task binary with size 1085.9 KiB\n",
      "25/01/19 18:38:24 WARN DAGScheduler: Broadcasting large task binary with size 1090.3 KiB\n",
      "25/01/19 18:38:24 WARN DAGScheduler: Broadcasting large task binary with size 1114.6 KiB\n",
      "25/01/19 18:38:24 WARN DAGScheduler: Broadcasting large task binary with size 1115.1 KiB\n",
      "25/01/19 18:38:24 WARN DAGScheduler: Broadcasting large task binary with size 1117.9 KiB\n",
      "25/01/19 18:38:24 WARN DAGScheduler: Broadcasting large task binary with size 1124.5 KiB\n",
      "25/01/19 18:38:24 WARN DAGScheduler: Broadcasting large task binary with size 1140.0 KiB\n",
      "25/01/19 18:38:25 WARN DAGScheduler: Broadcasting large task binary with size 1158.6 KiB\n",
      "25/01/19 18:38:25 WARN DAGScheduler: Broadcasting large task binary with size 1159.1 KiB\n",
      "25/01/19 18:38:25 WARN DAGScheduler: Broadcasting large task binary with size 1164.4 KiB\n",
      "25/01/19 18:38:25 WARN DAGScheduler: Broadcasting large task binary with size 1179.5 KiB\n",
      "25/01/19 18:38:25 WARN DAGScheduler: Broadcasting large task binary with size 1189.1 KiB\n",
      "25/01/19 18:38:25 WARN DAGScheduler: Broadcasting large task binary with size 1210.7 KiB\n",
      "25/01/19 18:38:25 WARN DAGScheduler: Broadcasting large task binary with size 1211.2 KiB\n",
      "25/01/19 18:38:25 WARN DAGScheduler: Broadcasting large task binary with size 1211.9 KiB\n",
      "25/01/19 18:38:25 WARN DAGScheduler: Broadcasting large task binary with size 1215.9 KiB\n",
      "25/01/19 18:38:25 WARN DAGScheduler: Broadcasting large task binary with size 1231.9 KiB\n",
      "25/01/19 18:38:25 WARN DAGScheduler: Broadcasting large task binary with size 1265.7 KiB\n",
      "25/01/19 18:38:25 WARN DAGScheduler: Broadcasting large task binary with size 1266.2 KiB\n",
      "25/01/19 18:38:25 WARN DAGScheduler: Broadcasting large task binary with size 1269.0 KiB\n",
      "25/01/19 18:38:25 WARN DAGScheduler: Broadcasting large task binary with size 1278.1 KiB\n",
      "25/01/19 18:38:25 WARN DAGScheduler: Broadcasting large task binary with size 1289.7 KiB\n",
      "25/01/19 18:38:25 WARN DAGScheduler: Broadcasting large task binary with size 1317.0 KiB\n",
      "25/01/19 18:38:26 WARN DAGScheduler: Broadcasting large task binary with size 1317.5 KiB\n",
      "25/01/19 18:38:26 WARN DAGScheduler: Broadcasting large task binary with size 1318.3 KiB\n",
      "25/01/19 18:38:26 WARN DAGScheduler: Broadcasting large task binary with size 1322.2 KiB\n",
      "25/01/19 18:38:26 WARN DAGScheduler: Broadcasting large task binary with size 1340.8 KiB\n",
      "25/01/19 18:38:26 WARN DAGScheduler: Broadcasting large task binary with size 1358.6 KiB\n",
      "25/01/19 18:38:26 WARN DAGScheduler: Broadcasting large task binary with size 1359.1 KiB\n",
      "25/01/19 18:38:26 WARN DAGScheduler: Broadcasting large task binary with size 1362.0 KiB\n",
      "25/01/19 18:38:26 WARN DAGScheduler: Broadcasting large task binary with size 1364.0 KiB\n",
      "25/01/19 18:38:26 WARN DAGScheduler: Broadcasting large task binary with size 1381.1 KiB\n",
      "25/01/19 18:38:26 WARN DAGScheduler: Broadcasting large task binary with size 1409.6 KiB\n",
      "25/01/19 18:38:26 WARN DAGScheduler: Broadcasting large task binary with size 1410.1 KiB\n",
      "25/01/19 18:38:26 WARN DAGScheduler: Broadcasting large task binary with size 1415.3 KiB\n",
      "25/01/19 18:38:26 WARN DAGScheduler: Broadcasting large task binary with size 1423.8 KiB\n",
      "25/01/19 18:38:26 WARN DAGScheduler: Broadcasting large task binary with size 1439.7 KiB\n",
      "25/01/19 18:38:27 WARN DAGScheduler: Broadcasting large task binary with size 1461.7 KiB\n",
      "25/01/19 18:38:27 WARN DAGScheduler: Broadcasting large task binary with size 1462.2 KiB\n",
      "25/01/19 18:38:27 WARN DAGScheduler: Broadcasting large task binary with size 1467.4 KiB\n",
      "25/01/19 18:38:27 WARN DAGScheduler: Broadcasting large task binary with size 1476.3 KiB\n",
      "25/01/19 18:38:27 WARN DAGScheduler: Broadcasting large task binary with size 1501.3 KiB\n",
      "25/01/19 18:38:27 WARN DAGScheduler: Broadcasting large task binary with size 1512.6 KiB\n",
      "25/01/19 18:38:27 WARN DAGScheduler: Broadcasting large task binary with size 1513.1 KiB\n",
      "25/01/19 18:38:27 WARN DAGScheduler: Broadcasting large task binary with size 1515.9 KiB\n",
      "25/01/19 18:38:27 WARN DAGScheduler: Broadcasting large task binary with size 1518.4 KiB\n",
      "25/01/19 18:38:27 WARN DAGScheduler: Broadcasting large task binary with size 1545.0 KiB\n",
      "25/01/19 18:38:27 WARN DAGScheduler: Broadcasting large task binary with size 1541.1 KiB\n",
      "25/01/19 18:38:29 WARN DAGScheduler: Broadcasting large task binary with size 1009.5 KiB\n",
      "25/01/19 18:38:29 WARN DAGScheduler: Broadcasting large task binary with size 1014.6 KiB\n",
      "25/01/19 18:38:29 WARN DAGScheduler: Broadcasting large task binary with size 1025.8 KiB\n",
      "25/01/19 18:38:29 WARN DAGScheduler: Broadcasting large task binary with size 1041.7 KiB\n",
      "25/01/19 18:38:29 WARN DAGScheduler: Broadcasting large task binary with size 1050.6 KiB\n",
      "25/01/19 18:38:30 WARN DAGScheduler: Broadcasting large task binary with size 1066.1 KiB\n",
      "25/01/19 18:38:30 WARN DAGScheduler: Broadcasting large task binary with size 1070.5 KiB\n",
      "25/01/19 18:38:30 WARN DAGScheduler: Broadcasting large task binary with size 1082.6 KiB\n",
      "25/01/19 18:38:30 WARN DAGScheduler: Broadcasting large task binary with size 1085.9 KiB\n",
      "25/01/19 18:38:30 WARN DAGScheduler: Broadcasting large task binary with size 1098.8 KiB\n",
      "25/01/19 18:38:30 WARN DAGScheduler: Broadcasting large task binary with size 1112.7 KiB\n",
      "25/01/19 18:38:30 WARN DAGScheduler: Broadcasting large task binary with size 1116.6 KiB\n",
      "25/01/19 18:38:30 WARN DAGScheduler: Broadcasting large task binary with size 1124.0 KiB\n",
      "25/01/19 18:38:30 WARN DAGScheduler: Broadcasting large task binary with size 1126.7 KiB\n",
      "25/01/19 18:38:30 WARN DAGScheduler: Broadcasting large task binary with size 1157.8 KiB\n",
      "25/01/19 18:38:30 WARN DAGScheduler: Broadcasting large task binary with size 1170.7 KiB\n",
      "25/01/19 18:38:30 WARN DAGScheduler: Broadcasting large task binary with size 1175.5 KiB\n",
      "25/01/19 18:38:30 WARN DAGScheduler: Broadcasting large task binary with size 1186.5 KiB\n",
      "25/01/19 18:38:30 WARN DAGScheduler: Broadcasting large task binary with size 1189.6 KiB\n",
      "25/01/19 18:38:30 WARN DAGScheduler: Broadcasting large task binary with size 1211.1 KiB\n",
      "25/01/19 18:38:30 WARN DAGScheduler: Broadcasting large task binary with size 1223.0 KiB\n",
      "25/01/19 18:38:30 WARN DAGScheduler: Broadcasting large task binary with size 1227.7 KiB\n",
      "25/01/19 18:38:31 WARN DAGScheduler: Broadcasting large task binary with size 1239.0 KiB\n",
      "25/01/19 18:38:31 WARN DAGScheduler: Broadcasting large task binary with size 1242.2 KiB\n",
      "25/01/19 18:38:31 WARN DAGScheduler: Broadcasting large task binary with size 1251.4 KiB\n",
      "25/01/19 18:38:31 WARN DAGScheduler: Broadcasting large task binary with size 1275.9 KiB\n",
      "25/01/19 18:38:31 WARN DAGScheduler: Broadcasting large task binary with size 1280.7 KiB\n",
      "25/01/19 18:38:31 WARN DAGScheduler: Broadcasting large task binary with size 1291.7 KiB\n",
      "25/01/19 18:38:31 WARN DAGScheduler: Broadcasting large task binary with size 1293.9 KiB\n",
      "25/01/19 18:38:31 WARN DAGScheduler: Broadcasting large task binary with size 1312.2 KiB\n",
      "25/01/19 18:38:31 WARN DAGScheduler: Broadcasting large task binary with size 1327.0 KiB\n",
      "25/01/19 18:38:31 WARN DAGScheduler: Broadcasting large task binary with size 1331.6 KiB\n",
      "25/01/19 18:38:31 WARN DAGScheduler: Broadcasting large task binary with size 1343.2 KiB\n",
      "25/01/19 18:38:31 WARN DAGScheduler: Broadcasting large task binary with size 1347.2 KiB\n",
      "25/01/19 18:38:31 WARN DAGScheduler: Broadcasting large task binary with size 1356.0 KiB\n",
      "25/01/19 18:38:31 WARN DAGScheduler: Broadcasting large task binary with size 1380.3 KiB\n",
      "25/01/19 18:38:31 WARN DAGScheduler: Broadcasting large task binary with size 1385.0 KiB\n",
      "25/01/19 18:38:31 WARN DAGScheduler: Broadcasting large task binary with size 1396.1 KiB\n",
      "25/01/19 18:38:31 WARN DAGScheduler: Broadcasting large task binary with size 1398.2 KiB\n",
      "25/01/19 18:38:32 WARN DAGScheduler: Broadcasting large task binary with size 1405.8 KiB\n",
      "25/01/19 18:38:32 WARN DAGScheduler: Broadcasting large task binary with size 1424.8 KiB\n",
      "25/01/19 18:38:32 WARN DAGScheduler: Broadcasting large task binary with size 1429.4 KiB\n",
      "25/01/19 18:38:32 WARN DAGScheduler: Broadcasting large task binary with size 1440.1 KiB\n",
      "25/01/19 18:38:32 WARN DAGScheduler: Broadcasting large task binary with size 1442.4 KiB\n",
      "25/01/19 18:38:32 WARN DAGScheduler: Broadcasting large task binary with size 1447.5 KiB\n",
      "25/01/19 18:38:32 WARN DAGScheduler: Broadcasting large task binary with size 1468.6 KiB\n",
      "25/01/19 18:38:32 WARN DAGScheduler: Broadcasting large task binary with size 1473.1 KiB\n",
      "25/01/19 18:38:32 WARN DAGScheduler: Broadcasting large task binary with size 1485.3 KiB\n",
      "25/01/19 18:38:32 WARN DAGScheduler: Broadcasting large task binary with size 1490.1 KiB\n",
      "25/01/19 18:38:32 WARN DAGScheduler: Broadcasting large task binary with size 1498.2 KiB\n",
      "25/01/19 18:38:32 WARN DAGScheduler: Broadcasting large task binary with size 1523.5 KiB\n",
      "25/01/19 18:38:32 WARN DAGScheduler: Broadcasting large task binary with size 1528.2 KiB\n",
      "25/01/19 18:38:32 WARN DAGScheduler: Broadcasting large task binary with size 1538.9 KiB\n",
      "25/01/19 18:38:33 WARN DAGScheduler: Broadcasting large task binary with size 1542.0 KiB\n",
      "25/01/19 18:38:33 WARN DAGScheduler: Broadcasting large task binary with size 1552.4 KiB\n",
      "25/01/19 18:38:33 WARN DAGScheduler: Broadcasting large task binary with size 1572.2 KiB\n",
      "25/01/19 18:38:33 WARN DAGScheduler: Broadcasting large task binary with size 1576.8 KiB\n",
      "25/01/19 18:38:33 WARN DAGScheduler: Broadcasting large task binary with size 1589.6 KiB\n",
      "25/01/19 18:38:33 WARN DAGScheduler: Broadcasting large task binary with size 1591.9 KiB\n",
      "25/01/19 18:38:33 WARN DAGScheduler: Broadcasting large task binary with size 1595.5 KiB\n",
      "25/01/19 18:38:33 WARN DAGScheduler: Broadcasting large task binary with size 1604.5 KiB\n",
      "25/01/19 18:38:35 WARN DAGScheduler: Broadcasting large task binary with size 1003.1 KiB\n",
      "25/01/19 18:38:35 WARN DAGScheduler: Broadcasting large task binary with size 1010.7 KiB\n",
      "25/01/19 18:38:35 WARN DAGScheduler: Broadcasting large task binary with size 1013.5 KiB\n",
      "25/01/19 18:38:35 WARN DAGScheduler: Broadcasting large task binary with size 1021.6 KiB\n",
      "25/01/19 18:38:35 WARN DAGScheduler: Broadcasting large task binary with size 1051.1 KiB\n",
      "25/01/19 18:38:35 WARN DAGScheduler: Broadcasting large task binary with size 1055.5 KiB\n",
      "25/01/19 18:38:35 WARN DAGScheduler: Broadcasting large task binary with size 1063.9 KiB\n",
      "25/01/19 18:38:35 WARN DAGScheduler: Broadcasting large task binary with size 1069.7 KiB\n",
      "25/01/19 18:38:35 WARN DAGScheduler: Broadcasting large task binary with size 1084.5 KiB\n",
      "25/01/19 18:38:36 WARN DAGScheduler: Broadcasting large task binary with size 1098.2 KiB\n",
      "25/01/19 18:38:36 WARN DAGScheduler: Broadcasting large task binary with size 1098.8 KiB\n",
      "25/01/19 18:38:36 WARN DAGScheduler: Broadcasting large task binary with size 1099.5 KiB\n",
      "25/01/19 18:38:36 WARN DAGScheduler: Broadcasting large task binary with size 1103.8 KiB\n",
      "25/01/19 18:38:36 WARN DAGScheduler: Broadcasting large task binary with size 1112.0 KiB\n",
      "25/01/19 18:38:36 WARN DAGScheduler: Broadcasting large task binary with size 1142.1 KiB\n",
      "25/01/19 18:38:36 WARN DAGScheduler: Broadcasting large task binary with size 1142.6 KiB\n",
      "25/01/19 18:38:36 WARN DAGScheduler: Broadcasting large task binary with size 1143.4 KiB\n",
      "25/01/19 18:38:36 WARN DAGScheduler: Broadcasting large task binary with size 1147.6 KiB\n",
      "25/01/19 18:38:36 WARN DAGScheduler: Broadcasting large task binary with size 1156.2 KiB\n",
      "25/01/19 18:38:36 WARN DAGScheduler: Broadcasting large task binary with size 1183.6 KiB\n",
      "25/01/19 18:38:36 WARN DAGScheduler: Broadcasting large task binary with size 1184.1 KiB\n",
      "25/01/19 18:38:36 WARN DAGScheduler: Broadcasting large task binary with size 1184.9 KiB\n",
      "25/01/19 18:38:36 WARN DAGScheduler: Broadcasting large task binary with size 1189.1 KiB\n",
      "25/01/19 18:38:36 WARN DAGScheduler: Broadcasting large task binary with size 1196.7 KiB\n",
      "25/01/19 18:38:36 WARN DAGScheduler: Broadcasting large task binary with size 1234.8 KiB\n",
      "25/01/19 18:38:36 WARN DAGScheduler: Broadcasting large task binary with size 1235.3 KiB\n",
      "25/01/19 18:38:37 WARN DAGScheduler: Broadcasting large task binary with size 1238.1 KiB\n",
      "25/01/19 18:38:37 WARN DAGScheduler: Broadcasting large task binary with size 1249.8 KiB\n",
      "25/01/19 18:38:37 WARN DAGScheduler: Broadcasting large task binary with size 1253.2 KiB\n",
      "25/01/19 18:38:37 WARN DAGScheduler: Broadcasting large task binary with size 1275.7 KiB\n",
      "25/01/19 18:38:37 WARN DAGScheduler: Broadcasting large task binary with size 1276.2 KiB\n",
      "25/01/19 18:38:37 WARN DAGScheduler: Broadcasting large task binary with size 1279.7 KiB\n",
      "25/01/19 18:38:37 WARN DAGScheduler: Broadcasting large task binary with size 1290.3 KiB\n",
      "25/01/19 18:38:37 WARN DAGScheduler: Broadcasting large task binary with size 1302.5 KiB\n",
      "25/01/19 18:38:37 WARN DAGScheduler: Broadcasting large task binary with size 1321.3 KiB\n",
      "25/01/19 18:38:37 WARN DAGScheduler: Broadcasting large task binary with size 1321.8 KiB\n",
      "25/01/19 18:38:37 WARN DAGScheduler: Broadcasting large task binary with size 1322.6 KiB\n",
      "25/01/19 18:38:37 WARN DAGScheduler: Broadcasting large task binary with size 1327.1 KiB\n",
      "25/01/19 18:38:37 WARN DAGScheduler: Broadcasting large task binary with size 1354.9 KiB\n",
      "25/01/19 18:38:37 WARN DAGScheduler: Broadcasting large task binary with size 1375.9 KiB\n",
      "25/01/19 18:38:37 WARN DAGScheduler: Broadcasting large task binary with size 1376.4 KiB\n",
      "25/01/19 18:38:38 WARN DAGScheduler: Broadcasting large task binary with size 1379.7 KiB\n",
      "25/01/19 18:38:38 WARN DAGScheduler: Broadcasting large task binary with size 1390.3 KiB\n",
      "25/01/19 18:38:38 WARN DAGScheduler: Broadcasting large task binary with size 1402.8 KiB\n",
      "25/01/19 18:38:38 WARN DAGScheduler: Broadcasting large task binary with size 1419.2 KiB\n",
      "25/01/19 18:38:38 WARN DAGScheduler: Broadcasting large task binary with size 1419.7 KiB\n",
      "25/01/19 18:38:38 WARN DAGScheduler: Broadcasting large task binary with size 1420.4 KiB\n",
      "25/01/19 18:38:38 WARN DAGScheduler: Broadcasting large task binary with size 1425.0 KiB\n",
      "25/01/19 18:38:38 WARN DAGScheduler: Broadcasting large task binary with size 1440.0 KiB\n",
      "25/01/19 18:38:38 WARN DAGScheduler: Broadcasting large task binary with size 1462.8 KiB\n",
      "25/01/19 18:38:38 WARN DAGScheduler: Broadcasting large task binary with size 1463.3 KiB\n",
      "25/01/19 18:38:38 WARN DAGScheduler: Broadcasting large task binary with size 1464.1 KiB\n",
      "25/01/19 18:38:38 WARN DAGScheduler: Broadcasting large task binary with size 1468.6 KiB\n",
      "25/01/19 18:38:38 WARN DAGScheduler: Broadcasting large task binary with size 1481.0 KiB\n",
      "25/01/19 18:38:38 WARN DAGScheduler: Broadcasting large task binary with size 1503.4 KiB\n",
      "25/01/19 18:38:38 WARN DAGScheduler: Broadcasting large task binary with size 1503.9 KiB\n",
      "25/01/19 18:38:39 WARN DAGScheduler: Broadcasting large task binary with size 1507.2 KiB\n",
      "25/01/19 18:38:39 WARN DAGScheduler: Broadcasting large task binary with size 1518.1 KiB\n",
      "25/01/19 18:38:39 WARN DAGScheduler: Broadcasting large task binary with size 1530.1 KiB\n",
      "25/01/19 18:38:39 WARN DAGScheduler: Broadcasting large task binary with size 1530.9 KiB\n",
      "25/01/19 18:38:41 WARN DAGScheduler: Broadcasting large task binary with size 1016.2 KiB\n",
      "25/01/19 18:38:41 WARN DAGScheduler: Broadcasting large task binary with size 1016.7 KiB\n",
      "25/01/19 18:38:41 WARN DAGScheduler: Broadcasting large task binary with size 1017.4 KiB\n",
      "25/01/19 18:38:41 WARN DAGScheduler: Broadcasting large task binary with size 1022.0 KiB\n",
      "25/01/19 18:38:41 WARN DAGScheduler: Broadcasting large task binary with size 1045.8 KiB\n",
      "25/01/19 18:38:41 WARN DAGScheduler: Broadcasting large task binary with size 1067.9 KiB\n",
      "25/01/19 18:38:41 WARN DAGScheduler: Broadcasting large task binary with size 1072.3 KiB\n",
      "25/01/19 18:38:42 WARN DAGScheduler: Broadcasting large task binary with size 1083.0 KiB\n",
      "25/01/19 18:38:42 WARN DAGScheduler: Broadcasting large task binary with size 1085.9 KiB\n",
      "25/01/19 18:38:42 WARN DAGScheduler: Broadcasting large task binary with size 1090.3 KiB\n",
      "25/01/19 18:38:42 WARN DAGScheduler: Broadcasting large task binary with size 1114.6 KiB\n",
      "25/01/19 18:38:42 WARN DAGScheduler: Broadcasting large task binary with size 1115.1 KiB\n",
      "25/01/19 18:38:42 WARN DAGScheduler: Broadcasting large task binary with size 1117.9 KiB\n",
      "25/01/19 18:38:42 WARN DAGScheduler: Broadcasting large task binary with size 1124.5 KiB\n",
      "25/01/19 18:38:42 WARN DAGScheduler: Broadcasting large task binary with size 1140.0 KiB\n",
      "25/01/19 18:38:42 WARN DAGScheduler: Broadcasting large task binary with size 1158.6 KiB\n",
      "25/01/19 18:38:42 WARN DAGScheduler: Broadcasting large task binary with size 1159.1 KiB\n",
      "25/01/19 18:38:42 WARN DAGScheduler: Broadcasting large task binary with size 1164.4 KiB\n",
      "25/01/19 18:38:42 WARN DAGScheduler: Broadcasting large task binary with size 1179.5 KiB\n",
      "25/01/19 18:38:42 WARN DAGScheduler: Broadcasting large task binary with size 1189.1 KiB\n",
      "25/01/19 18:38:42 WARN DAGScheduler: Broadcasting large task binary with size 1210.7 KiB\n",
      "25/01/19 18:38:42 WARN DAGScheduler: Broadcasting large task binary with size 1211.2 KiB\n",
      "25/01/19 18:38:42 WARN DAGScheduler: Broadcasting large task binary with size 1211.9 KiB\n",
      "25/01/19 18:38:43 WARN DAGScheduler: Broadcasting large task binary with size 1215.9 KiB\n",
      "25/01/19 18:38:43 WARN DAGScheduler: Broadcasting large task binary with size 1231.9 KiB\n",
      "25/01/19 18:38:43 WARN DAGScheduler: Broadcasting large task binary with size 1265.7 KiB\n",
      "25/01/19 18:38:43 WARN DAGScheduler: Broadcasting large task binary with size 1266.2 KiB\n",
      "25/01/19 18:38:43 WARN DAGScheduler: Broadcasting large task binary with size 1269.0 KiB\n",
      "25/01/19 18:38:43 WARN DAGScheduler: Broadcasting large task binary with size 1278.1 KiB\n",
      "25/01/19 18:38:43 WARN DAGScheduler: Broadcasting large task binary with size 1289.7 KiB\n",
      "25/01/19 18:38:43 WARN DAGScheduler: Broadcasting large task binary with size 1317.0 KiB\n",
      "25/01/19 18:38:43 WARN DAGScheduler: Broadcasting large task binary with size 1317.5 KiB\n",
      "25/01/19 18:38:43 WARN DAGScheduler: Broadcasting large task binary with size 1318.3 KiB\n",
      "25/01/19 18:38:43 WARN DAGScheduler: Broadcasting large task binary with size 1322.2 KiB\n",
      "25/01/19 18:38:43 WARN DAGScheduler: Broadcasting large task binary with size 1340.8 KiB\n",
      "25/01/19 18:38:43 WARN DAGScheduler: Broadcasting large task binary with size 1358.6 KiB\n",
      "25/01/19 18:38:43 WARN DAGScheduler: Broadcasting large task binary with size 1359.1 KiB\n",
      "25/01/19 18:38:43 WARN DAGScheduler: Broadcasting large task binary with size 1362.0 KiB\n",
      "25/01/19 18:38:43 WARN DAGScheduler: Broadcasting large task binary with size 1364.0 KiB\n",
      "25/01/19 18:38:43 WARN DAGScheduler: Broadcasting large task binary with size 1381.1 KiB\n",
      "25/01/19 18:38:44 WARN DAGScheduler: Broadcasting large task binary with size 1409.6 KiB\n",
      "25/01/19 18:38:44 WARN DAGScheduler: Broadcasting large task binary with size 1410.1 KiB\n",
      "25/01/19 18:38:44 WARN DAGScheduler: Broadcasting large task binary with size 1415.3 KiB\n",
      "25/01/19 18:38:44 WARN DAGScheduler: Broadcasting large task binary with size 1423.8 KiB\n",
      "25/01/19 18:38:44 WARN DAGScheduler: Broadcasting large task binary with size 1439.7 KiB\n",
      "25/01/19 18:38:44 WARN DAGScheduler: Broadcasting large task binary with size 1461.7 KiB\n",
      "25/01/19 18:38:44 WARN DAGScheduler: Broadcasting large task binary with size 1462.2 KiB\n",
      "25/01/19 18:38:44 WARN DAGScheduler: Broadcasting large task binary with size 1467.4 KiB\n",
      "25/01/19 18:38:44 WARN DAGScheduler: Broadcasting large task binary with size 1476.3 KiB\n",
      "25/01/19 18:38:44 WARN DAGScheduler: Broadcasting large task binary with size 1501.3 KiB\n",
      "25/01/19 18:38:44 WARN DAGScheduler: Broadcasting large task binary with size 1512.6 KiB\n",
      "25/01/19 18:38:44 WARN DAGScheduler: Broadcasting large task binary with size 1513.1 KiB\n",
      "25/01/19 18:38:44 WARN DAGScheduler: Broadcasting large task binary with size 1515.9 KiB\n",
      "25/01/19 18:38:44 WARN DAGScheduler: Broadcasting large task binary with size 1518.4 KiB\n",
      "25/01/19 18:38:45 WARN DAGScheduler: Broadcasting large task binary with size 1545.0 KiB\n",
      "25/01/19 18:38:45 WARN DAGScheduler: Broadcasting large task binary with size 1541.1 KiB\n",
      "25/01/19 18:38:45 WARN DecisionTreeMetadata: DecisionTree reducing maxBins from 5000 to 4724 (= number of training instances)\n"
     ]
    },
    {
     "ename": "KeyboardInterrupt",
     "evalue": "",
     "output_type": "error",
     "traceback": [
      "\u001b[0;31m---------------------------------------------------------------------------\u001b[0m",
      "\u001b[0;31mIndexError\u001b[0m                                Traceback (most recent call last)",
      "File \u001b[0;32m~/.pyenv/versions/3.12.1/lib/python3.12/multiprocessing/pool.py:856\u001b[0m, in \u001b[0;36mIMapIterator.next\u001b[0;34m(self, timeout)\u001b[0m\n\u001b[1;32m    855\u001b[0m \u001b[38;5;28;01mtry\u001b[39;00m:\n\u001b[0;32m--> 856\u001b[0m     item \u001b[38;5;241m=\u001b[39m \u001b[38;5;28;43mself\u001b[39;49m\u001b[38;5;241;43m.\u001b[39;49m\u001b[43m_items\u001b[49m\u001b[38;5;241;43m.\u001b[39;49m\u001b[43mpopleft\u001b[49m\u001b[43m(\u001b[49m\u001b[43m)\u001b[49m\n\u001b[1;32m    857\u001b[0m \u001b[38;5;28;01mexcept\u001b[39;00m \u001b[38;5;167;01mIndexError\u001b[39;00m:\n",
      "\u001b[0;31mIndexError\u001b[0m: pop from an empty deque",
      "\nDuring handling of the above exception, another exception occurred:\n",
      "\u001b[0;31mKeyboardInterrupt\u001b[0m                         Traceback (most recent call last)",
      "Cell \u001b[0;32mIn[37], line 1\u001b[0m\n\u001b[0;32m----> 1\u001b[0m trained_tv_model \u001b[38;5;241m=\u001b[39m \u001b[43mtrain_validator_model\u001b[49m\u001b[38;5;241;43m.\u001b[39;49m\u001b[43mfit\u001b[49m\u001b[43m(\u001b[49m\u001b[43mtrain_df\u001b[49m\u001b[43m)\u001b[49m\n\u001b[1;32m      3\u001b[0m best_gbt_model \u001b[38;5;241m=\u001b[39m trained_tv_model\u001b[38;5;241m.\u001b[39mbestModel\n",
      "File \u001b[0;32m~/.pyenv/versions/3.12.1/lib/python3.12/site-packages/pyspark/ml/base.py:205\u001b[0m, in \u001b[0;36mEstimator.fit\u001b[0;34m(self, dataset, params)\u001b[0m\n\u001b[1;32m    203\u001b[0m         \u001b[38;5;28;01mreturn\u001b[39;00m \u001b[38;5;28mself\u001b[39m\u001b[38;5;241m.\u001b[39mcopy(params)\u001b[38;5;241m.\u001b[39m_fit(dataset)\n\u001b[1;32m    204\u001b[0m     \u001b[38;5;28;01melse\u001b[39;00m:\n\u001b[0;32m--> 205\u001b[0m         \u001b[38;5;28;01mreturn\u001b[39;00m \u001b[38;5;28;43mself\u001b[39;49m\u001b[38;5;241;43m.\u001b[39;49m\u001b[43m_fit\u001b[49m\u001b[43m(\u001b[49m\u001b[43mdataset\u001b[49m\u001b[43m)\u001b[49m\n\u001b[1;32m    206\u001b[0m \u001b[38;5;28;01melse\u001b[39;00m:\n\u001b[1;32m    207\u001b[0m     \u001b[38;5;28;01mraise\u001b[39;00m \u001b[38;5;167;01mTypeError\u001b[39;00m(\n\u001b[1;32m    208\u001b[0m         \u001b[38;5;124m\"\u001b[39m\u001b[38;5;124mParams must be either a param map or a list/tuple of param maps, \u001b[39m\u001b[38;5;124m\"\u001b[39m\n\u001b[1;32m    209\u001b[0m         \u001b[38;5;124m\"\u001b[39m\u001b[38;5;124mbut got \u001b[39m\u001b[38;5;132;01m%s\u001b[39;00m\u001b[38;5;124m.\u001b[39m\u001b[38;5;124m\"\u001b[39m \u001b[38;5;241m%\u001b[39m \u001b[38;5;28mtype\u001b[39m(params)\n\u001b[1;32m    210\u001b[0m     )\n",
      "File \u001b[0;32m~/.pyenv/versions/3.12.1/lib/python3.12/site-packages/pyspark/ml/tuning.py:1464\u001b[0m, in \u001b[0;36mTrainValidationSplit._fit\u001b[0;34m(self, dataset)\u001b[0m\n\u001b[1;32m   1462\u001b[0m pool \u001b[38;5;241m=\u001b[39m ThreadPool(processes\u001b[38;5;241m=\u001b[39m\u001b[38;5;28mmin\u001b[39m(\u001b[38;5;28mself\u001b[39m\u001b[38;5;241m.\u001b[39mgetParallelism(), numModels))\n\u001b[1;32m   1463\u001b[0m metrics \u001b[38;5;241m=\u001b[39m [\u001b[38;5;28;01mNone\u001b[39;00m] \u001b[38;5;241m*\u001b[39m numModels\n\u001b[0;32m-> 1464\u001b[0m \u001b[43m\u001b[49m\u001b[38;5;28;43;01mfor\u001b[39;49;00m\u001b[43m \u001b[49m\u001b[43mj\u001b[49m\u001b[43m,\u001b[49m\u001b[43m \u001b[49m\u001b[43mmetric\u001b[49m\u001b[43m,\u001b[49m\u001b[43m \u001b[49m\u001b[43msubModel\u001b[49m\u001b[43m \u001b[49m\u001b[38;5;129;43;01min\u001b[39;49;00m\u001b[43m \u001b[49m\u001b[43mpool\u001b[49m\u001b[38;5;241;43m.\u001b[39;49m\u001b[43mimap_unordered\u001b[49m\u001b[43m(\u001b[49m\u001b[38;5;28;43;01mlambda\u001b[39;49;00m\u001b[43m \u001b[49m\u001b[43mf\u001b[49m\u001b[43m:\u001b[49m\u001b[43m \u001b[49m\u001b[43mf\u001b[49m\u001b[43m(\u001b[49m\u001b[43m)\u001b[49m\u001b[43m,\u001b[49m\u001b[43m \u001b[49m\u001b[43mtasks\u001b[49m\u001b[43m)\u001b[49m\u001b[43m:\u001b[49m\n\u001b[1;32m   1465\u001b[0m \u001b[43m    \u001b[49m\u001b[43mmetrics\u001b[49m\u001b[43m[\u001b[49m\u001b[43mj\u001b[49m\u001b[43m]\u001b[49m\u001b[43m \u001b[49m\u001b[38;5;241;43m=\u001b[39;49m\u001b[43m \u001b[49m\u001b[43mmetric\u001b[49m\n\u001b[1;32m   1466\u001b[0m \u001b[43m    \u001b[49m\u001b[38;5;28;43;01mif\u001b[39;49;00m\u001b[43m \u001b[49m\u001b[43mcollectSubModelsParam\u001b[49m\u001b[43m:\u001b[49m\n",
      "File \u001b[0;32m~/.pyenv/versions/3.12.1/lib/python3.12/multiprocessing/pool.py:861\u001b[0m, in \u001b[0;36mIMapIterator.next\u001b[0;34m(self, timeout)\u001b[0m\n\u001b[1;32m    859\u001b[0m     \u001b[38;5;28mself\u001b[39m\u001b[38;5;241m.\u001b[39m_pool \u001b[38;5;241m=\u001b[39m \u001b[38;5;28;01mNone\u001b[39;00m\n\u001b[1;32m    860\u001b[0m     \u001b[38;5;28;01mraise\u001b[39;00m \u001b[38;5;167;01mStopIteration\u001b[39;00m \u001b[38;5;28;01mfrom\u001b[39;00m \u001b[38;5;28;01mNone\u001b[39;00m\n\u001b[0;32m--> 861\u001b[0m \u001b[38;5;28;43mself\u001b[39;49m\u001b[38;5;241;43m.\u001b[39;49m\u001b[43m_cond\u001b[49m\u001b[38;5;241;43m.\u001b[39;49m\u001b[43mwait\u001b[49m\u001b[43m(\u001b[49m\u001b[43mtimeout\u001b[49m\u001b[43m)\u001b[49m\n\u001b[1;32m    862\u001b[0m \u001b[38;5;28;01mtry\u001b[39;00m:\n\u001b[1;32m    863\u001b[0m     item \u001b[38;5;241m=\u001b[39m \u001b[38;5;28mself\u001b[39m\u001b[38;5;241m.\u001b[39m_items\u001b[38;5;241m.\u001b[39mpopleft()\n",
      "File \u001b[0;32m~/.pyenv/versions/3.12.1/lib/python3.12/threading.py:355\u001b[0m, in \u001b[0;36mCondition.wait\u001b[0;34m(self, timeout)\u001b[0m\n\u001b[1;32m    353\u001b[0m \u001b[38;5;28;01mtry\u001b[39;00m:    \u001b[38;5;66;03m# restore state no matter what (e.g., KeyboardInterrupt)\u001b[39;00m\n\u001b[1;32m    354\u001b[0m     \u001b[38;5;28;01mif\u001b[39;00m timeout \u001b[38;5;129;01mis\u001b[39;00m \u001b[38;5;28;01mNone\u001b[39;00m:\n\u001b[0;32m--> 355\u001b[0m         \u001b[43mwaiter\u001b[49m\u001b[38;5;241;43m.\u001b[39;49m\u001b[43macquire\u001b[49m\u001b[43m(\u001b[49m\u001b[43m)\u001b[49m\n\u001b[1;32m    356\u001b[0m         gotit \u001b[38;5;241m=\u001b[39m \u001b[38;5;28;01mTrue\u001b[39;00m\n\u001b[1;32m    357\u001b[0m     \u001b[38;5;28;01melse\u001b[39;00m:\n",
      "\u001b[0;31mKeyboardInterrupt\u001b[0m: "
     ]
    }
   ],
   "source": [
    "trained_tv_model = train_validator_model.fit(train_df)\n",
    "\n",
    "best_gbt_model = trained_tv_model.bestModel"
   ]
  },
  {
   "cell_type": "code",
   "execution_count": null,
   "id": "6dce9bd1-9d55-4670-b174-354ac885b295",
   "metadata": {},
   "outputs": [],
   "source": [
    "# Evaluate on Test data\n",
    "test_df_transformed = transformPipeModel.transform(test_df)\n",
    "test_predictions = best_gbt_model.transform(test_df_transformed)\n",
    "\n",
    "results = evaluate_model(test_predictions)"
   ]
  },
  {
   "cell_type": "code",
   "execution_count": null,
   "id": "196d6e69-1eb1-46c6-b724-8cb72ee72d89",
   "metadata": {},
   "outputs": [],
   "source": [
    "results"
   ]
  },
  {
   "cell_type": "code",
   "execution_count": null,
   "id": "bef8e29b-ecf9-4d2b-8c6e-e980ec512696",
   "metadata": {},
   "outputs": [],
   "source": []
  },
  {
   "cell_type": "markdown",
   "id": "594c230d-6a1b-4fc4-ba8d-d0079b1d27de",
   "metadata": {},
   "source": [
    "## Inference"
   ]
  },
  {
   "cell_type": "code",
   "execution_count": null,
   "id": "c1455035-5018-4ed7-b3b9-b4c75c479891",
   "metadata": {},
   "outputs": [],
   "source": [
    "from pyspark.ml import PipelineModel\n",
    "from pyspark.ml.classification import LogisticRegressionModel, GBTClassificationModel"
   ]
  },
  {
   "cell_type": "code",
   "execution_count": null,
   "id": "e405a581-18bf-4625-911b-c9abbf91920b",
   "metadata": {},
   "outputs": [],
   "source": [
    "test_df = test_df.drop('action_taken')"
   ]
  },
  {
   "cell_type": "code",
   "execution_count": null,
   "id": "3394886a-d07e-467e-8bad-4e18ec910a79",
   "metadata": {},
   "outputs": [],
   "source": [
    "len(test_df.columns)"
   ]
  },
  {
   "cell_type": "code",
   "execution_count": null,
   "id": "f94e75e3-22f5-42b0-9121-7cb6aea8d983",
   "metadata": {},
   "outputs": [],
   "source": [
    "gbm_model = GBTClassificationModel.load(\"models/Gradient Boosting Trees\")"
   ]
  },
  {
   "cell_type": "code",
   "execution_count": null,
   "id": "4a7910a8-ab56-430a-bb6c-9ec344a6d875",
   "metadata": {},
   "outputs": [],
   "source": [
    "gbm_model"
   ]
  },
  {
   "cell_type": "code",
   "execution_count": null,
   "id": "07238447-f310-4f2e-8eff-9a01321d0caf",
   "metadata": {},
   "outputs": [],
   "source": [
    "transform_model = PipelineModel.load('models/transformPipeModel')"
   ]
  },
  {
   "cell_type": "code",
   "execution_count": null,
   "id": "b822ea5e-4368-4081-aefc-870eadb285a5",
   "metadata": {},
   "outputs": [],
   "source": [
    "test_df.count()"
   ]
  },
  {
   "cell_type": "code",
   "execution_count": null,
   "id": "6d13149f-b208-4019-870b-ee6fe1dac7fd",
   "metadata": {
    "scrolled": true
   },
   "outputs": [],
   "source": [
    "# Preprocess the test data and then make predictions \n",
    "\n",
    "test_transformed_df = transform_model.transform(test_df)\n",
    "prediction_df = gbm_model.transform(test_transformed_df)"
   ]
  },
  {
   "cell_type": "code",
   "execution_count": null,
   "id": "f6545f37-210b-4c57-a751-d0425dee9aac",
   "metadata": {
    "scrolled": true
   },
   "outputs": [],
   "source": [
    "prediction_df"
   ]
  },
  {
   "cell_type": "code",
   "execution_count": null,
   "id": "a63fb4cc-99c8-4cce-9bc5-8e0c68787f32",
   "metadata": {
    "scrolled": true
   },
   "outputs": [],
   "source": [
    "prediction_df.select('prediction')"
   ]
  },
  {
   "cell_type": "code",
   "execution_count": null,
   "id": "a1a26743-73fd-4154-8465-debadf21c3e4",
   "metadata": {},
   "outputs": [],
   "source": []
  },
  {
   "cell_type": "code",
   "execution_count": null,
   "id": "fcceeeff-d382-442d-ab9c-7274266e034c",
   "metadata": {},
   "outputs": [],
   "source": []
  },
  {
   "cell_type": "code",
   "execution_count": null,
   "id": "1a44474a-ef12-43a5-80a6-5d6957db6ef2",
   "metadata": {},
   "outputs": [],
   "source": [
    "test_point = test_df.limit(1)"
   ]
  },
  {
   "cell_type": "code",
   "execution_count": null,
   "id": "8aaee0b4-cb1b-4924-a913-09deeecef638",
   "metadata": {},
   "outputs": [],
   "source": [
    "test_point"
   ]
  },
  {
   "cell_type": "code",
   "execution_count": null,
   "id": "b61ce0ce-7e21-4c2f-ad0f-a73b7c440313",
   "metadata": {},
   "outputs": [],
   "source": [
    "test_point.printSchema()"
   ]
  },
  {
   "cell_type": "code",
   "execution_count": null,
   "id": "14c43bb4-7071-4758-b3d7-6bb0b02e5c95",
   "metadata": {},
   "outputs": [],
   "source": [
    "transform_point = transform_model.transform(test_point)\n",
    "predict_point = gbm_model.transform(transform_point)"
   ]
  },
  {
   "cell_type": "code",
   "execution_count": null,
   "id": "92b77c5b-9d36-4264-ab8c-622aceab3234",
   "metadata": {},
   "outputs": [],
   "source": [
    "result = predict_point.select('prediction')"
   ]
  },
  {
   "cell_type": "code",
   "execution_count": null,
   "id": "0208881c-c625-4413-81f1-f6ff71b54be7",
   "metadata": {},
   "outputs": [],
   "source": [
    "result.collect()[0][0]"
   ]
  },
  {
   "cell_type": "code",
   "execution_count": null,
   "id": "925dd669-162c-4ff0-acda-18e7a149bf32",
   "metadata": {},
   "outputs": [],
   "source": []
  },
  {
   "cell_type": "code",
   "execution_count": null,
   "id": "8d23fbb5-570c-4409-953a-d549160cb8c4",
   "metadata": {},
   "outputs": [],
   "source": []
  },
  {
   "cell_type": "code",
   "execution_count": null,
   "id": "f0650646-e538-43a5-b639-8ab624af8c83",
   "metadata": {},
   "outputs": [],
   "source": []
  }
 ],
 "metadata": {
  "kernelspec": {
   "display_name": "Python 3 (ipykernel)",
   "language": "python",
   "name": "python3"
  },
  "language_info": {
   "codemirror_mode": {
    "name": "ipython",
    "version": 3
   },
   "file_extension": ".py",
   "mimetype": "text/x-python",
   "name": "python",
   "nbconvert_exporter": "python",
   "pygments_lexer": "ipython3",
   "version": "3.12.1"
  }
 },
 "nbformat": 4,
 "nbformat_minor": 5
}
